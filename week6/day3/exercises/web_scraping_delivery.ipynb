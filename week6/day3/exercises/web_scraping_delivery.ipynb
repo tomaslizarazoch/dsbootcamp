{
 "cells": [
  {
   "cell_type": "code",
   "execution_count": 1,
   "metadata": {},
   "outputs": [],
   "source": [
    "import requests\n",
    "from bs4 import BeautifulSoup\n",
    "import pandas as pd"
   ]
  },
  {
   "cell_type": "code",
   "execution_count": 2,
   "metadata": {},
   "outputs": [],
   "source": [
    "# To show beautiful html\n",
    "def show_html(html_str):\n",
    "\n",
    "    print(BeautifulSoup(str(html_str), 'html.parser').prettify())"
   ]
  },
  {
   "cell_type": "markdown",
   "metadata": {},
   "source": [
    "### 1. From HTML\n",
    "\n",
    "*Using only beautiful soap*\n",
    "\n",
    "Save in a dataframe the next information using web scraping. Each row of the dataframe must have in different columns:\n",
    "\n",
    "- The name of the title\n",
    "- The id of the div where is the value scraped. If there is not id, then the value is must be numpy.nan\n",
    "- The name of the tag where is the value scraped.\n",
    "- The next scraped values in different rows: \n",
    "    - The value: \"Este es el segundo párrafo\"  --> Row 1\n",
    "    - The url https://pagina1.xyz/ --> Row 2\n",
    "    - The url https://pagina4.xyz/ --> Row 3\n",
    "    - The url https://pagina5.xyz/ --> Row 4\n",
    "    - The value \"links footer-links\" --> Row 5\n",
    "    - The value \"Este párrafo está en el footer\" --> Row 6"
   ]
  },
  {
   "cell_type": "code",
   "execution_count": 3,
   "metadata": {},
   "outputs": [],
   "source": [
    "html = \"\"\"<html lang=\"es\">\n",
    "<head>\n",
    "    <meta charset=\"UTF-8\">\n",
    "    <title>Página de prueba</title>\n",
    "</head>\n",
    "<body>\n",
    "<div id=\"main\" class=\"full-width\">\n",
    "    <h1>El título de la página</h1>\n",
    "    <p>Este es el primer párrafo</p>\n",
    "    <p>Este es el segundo párrafo</p>\n",
    "    <div id=\"innerDiv\">\n",
    "        <div class=\"links\">\n",
    "            <a href=\"https://pagina1.xyz/\">Enlace 1</a>\n",
    "            <a href=\"https://pagina2.xyz/\">Enlace 2</a>\n",
    "        </div>\n",
    "        <div class=\"right\">\n",
    "            <div class=\"links\">\n",
    "                <a href=\"https://pagina3.xyz/\">Enlace 3</a>\n",
    "                <a href=\"https://pagina4.xyz/\">Enlace 4</a>\n",
    "            </div>\n",
    "        </div>\n",
    "    </div>\n",
    "    <div id=\"footer\">\n",
    "        <!-- El footer -->\n",
    "        <p>Este párrafo está en el footer</p>\n",
    "        <div class=\"links footer-links\">\n",
    "            <a href=\"https://pagina5.xyz/\">Enlace 5</a>\n",
    "        </div>\n",
    "    </div>\n",
    "</div>\n",
    "</body>\n",
    "</html>\"\"\""
   ]
  },
  {
   "cell_type": "code",
   "execution_count": 4,
   "metadata": {},
   "outputs": [
    {
     "output_type": "execute_result",
     "data": {
      "text/plain": "str"
     },
     "metadata": {},
     "execution_count": 4
    }
   ],
   "source": [
    "type(html)"
   ]
  },
  {
   "cell_type": "code",
   "execution_count": 5,
   "metadata": {
    "tags": []
   },
   "outputs": [
    {
     "output_type": "stream",
     "name": "stdout",
     "text": "<html lang=\"es\">\n <head>\n  <meta charset=\"utf-8\"/>\n  <title>\n   Página de prueba\n  </title>\n </head>\n <body>\n  <div class=\"full-width\" id=\"main\">\n   <h1>\n    El título de la página\n   </h1>\n   <p>\n    Este es el primer párrafo\n   </p>\n   <p>\n    Este es el segundo párrafo\n   </p>\n   <div id=\"innerDiv\">\n    <div class=\"links\">\n     <a href=\"https://pagina1.xyz/\">\n      Enlace 1\n     </a>\n     <a href=\"https://pagina2.xyz/\">\n      Enlace 2\n     </a>\n    </div>\n    <div class=\"right\">\n     <div class=\"links\">\n      <a href=\"https://pagina3.xyz/\">\n       Enlace 3\n      </a>\n      <a href=\"https://pagina4.xyz/\">\n       Enlace 4\n      </a>\n     </div>\n    </div>\n   </div>\n   <div id=\"footer\">\n    <!-- El footer -->\n    <p>\n     Este párrafo está en el footer\n    </p>\n    <div class=\"links footer-links\">\n     <a href=\"https://pagina5.xyz/\">\n      Enlace 5\n     </a>\n    </div>\n   </div>\n  </div>\n </body>\n</html>\n"
    }
   ],
   "source": [
    "souphtml = BeautifulSoup(html, 'html.parser')\n",
    "\n",
    "show_html(souphtml)\n"
   ]
  },
  {
   "cell_type": "code",
   "execution_count": 6,
   "metadata": {
    "tags": []
   },
   "outputs": [
    {
     "output_type": "stream",
     "name": "stdout",
     "text": "<title>\n Página de prueba\n</title>\n"
    }
   ],
   "source": [
    "title = souphtml.find('title')\n",
    "show_html((title))"
   ]
  },
  {
   "cell_type": "code",
   "execution_count": 7,
   "metadata": {},
   "outputs": [
    {
     "output_type": "execute_result",
     "data": {
      "text/plain": "['Página de prueba']"
     },
     "metadata": {},
     "execution_count": 7
    }
   ],
   "source": [
    "title = title.contents[0:1]\n",
    "title ### ahora es una lista\n"
   ]
  },
  {
   "cell_type": "code",
   "execution_count": 8,
   "metadata": {
    "tags": []
   },
   "outputs": [
    {
     "output_type": "stream",
     "name": "stdout",
     "text": "<div class=\"full-width\" id=\"main\">\n <h1>\n  El título de la página\n </h1>\n <p>\n  Este es el primer párrafo\n </p>\n <p>\n  Este es el segundo párrafo\n </p>\n <div id=\"innerDiv\">\n  <div class=\"links\">\n   <a href=\"https://pagina1.xyz/\">\n    Enlace 1\n   </a>\n   <a href=\"https://pagina2.xyz/\">\n    Enlace 2\n   </a>\n  </div>\n  <div class=\"right\">\n   <div class=\"links\">\n    <a href=\"https://pagina3.xyz/\">\n     Enlace 3\n    </a>\n    <a href=\"https://pagina4.xyz/\">\n     Enlace 4\n    </a>\n   </div>\n  </div>\n </div>\n <div id=\"footer\">\n  <!-- El footer -->\n  <p>\n   Este párrafo está en el footer\n  </p>\n  <div class=\"links footer-links\">\n   <a href=\"https://pagina5.xyz/\">\n    Enlace 5\n   </a>\n  </div>\n </div>\n</div>\n"
    }
   ],
   "source": [
    "w = souphtml.find(id = 'main') # todo lo de id \"main\"\n",
    "show_html(w)"
   ]
  },
  {
   "cell_type": "code",
   "execution_count": null,
   "metadata": {},
   "outputs": [],
   "source": [
    "cc[0].getText()\n",
    "str(cc[0])\n",
    "cc[0].attrs"
   ]
  },
  {
   "cell_type": "code",
   "execution_count": 36,
   "metadata": {},
   "outputs": [
    {
     "output_type": "execute_result",
     "data": {
      "text/plain": "{'id': 'main', 'class': ['full-width']}"
     },
     "metadata": {},
     "execution_count": 36
    }
   ],
   "source": [
    "cc = souphtml.select('#main')\n",
    "cc[0].getText()\n",
    "str(cc[0])\n",
    "cc[0].attrs\n"
   ]
  },
  {
   "cell_type": "markdown",
   "metadata": {},
   "source": [
    "### 1. From Amazon\n",
    "\n",
    "*Using  beautiful soap and/or regex*\n",
    "\n",
    "Save in a dataframe the next information using web scraping. Using product pages from Amazon, do the following: \n",
    "\n",
    "- Get the product name from the web and save it in a column called \"item_name\"\n",
    "- Get the price from the web and save it in a column called \"item_price\"\n",
    "\n",
    "While you are doing the exercise, document the steps you are doing. Try to do the program for generic pages. If you cannot do it generic, explain the reasons. \n",
    "\n",
    "-------------------------------\n",
    "\n",
    "**Example:** \n",
    "\n",
    "url = https://www.amazon.es/Tommy-Hilfiger-UM0UM00054-Camiseta-Hombre/dp/B01MYD0T1F/ref=sr_1_1?dchild=1&pf_rd_p=58224bec-cac9-4dd2-a42a-61b1db609c2d&pf_rd_r=VZQ1JTQXFVRZ9E9VSKX4&qid=1595364419&s=apparel&sr=1-1\n",
    "\n",
    "*item_name* --> \"Tommy Hilfiger Logo Camiseta de Cuello Redondo,Perfecta para El Tiempo Libre para Hombre\"\n",
    "\n",
    "*item_price* --> [[18,99 € - 46,59 €]] or one of the options.\n",
    "\n",
    "\n"
   ]
  },
  {
   "cell_type": "code",
   "execution_count": null,
   "metadata": {},
   "outputs": [],
   "source": []
  }
 ],
 "metadata": {
  "language_info": {
   "codemirror_mode": {
    "name": "ipython",
    "version": 3
   },
   "file_extension": ".py",
   "mimetype": "text/x-python",
   "name": "python",
   "nbconvert_exporter": "python",
   "pygments_lexer": "ipython3",
   "version": 3
  },
  "orig_nbformat": 2,
  "kernelspec": {
   "name": "python_defaultSpec_1595424163004",
   "display_name": "Python 3.8.3 64-bit"
  }
 },
 "nbformat": 4,
 "nbformat_minor": 2
}