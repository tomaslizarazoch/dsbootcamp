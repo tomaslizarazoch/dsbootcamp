{
 "cells": [
  {
   "cell_type": "markdown",
   "metadata": {},
   "source": [
    "# Ex1 - Getting and knowing your Data"
   ]
  },
  {
   "cell_type": "markdown",
   "metadata": {},
   "source": [
    "### Step 1. Go to https://www.kaggle.com/openfoodfacts/world-food-facts/data"
   ]
  },
  {
   "cell_type": "markdown",
   "metadata": {},
   "source": [
    "###  Step 2. Download the dataset to your computer and unzip it."
   ]
  },
  {
   "cell_type": "code",
   "execution_count": 1,
   "metadata": {},
   "outputs": [],
   "source": [
    "import pandas as pd\n"
   ]
  },
  {
   "cell_type": "markdown",
   "metadata": {},
   "source": [
    "### Step 3. Use the tsv file and assign it to a dataframe called food"
   ]
  },
  {
   "cell_type": "code",
   "execution_count": 2,
   "metadata": {},
   "outputs": [
    {
     "output_type": "execute_result",
     "data": {
      "text/plain": "                 code                                                url  \\\n0                3087  http://world-en.openfoodfacts.org/product/0000...   \n1                4530  http://world-en.openfoodfacts.org/product/0000...   \n2                4559  http://world-en.openfoodfacts.org/product/0000...   \n3               16087  http://world-en.openfoodfacts.org/product/0000...   \n4               16094  http://world-en.openfoodfacts.org/product/0000...   \n...               ...                                                ...   \n356022       99567453  http://world-en.openfoodfacts.org/product/9956...   \n356023  9970229501521  http://world-en.openfoodfacts.org/product/9970...   \n356024  9977471758307  http://world-en.openfoodfacts.org/product/9977...   \n356025  9980282863788  http://world-en.openfoodfacts.org/product/9980...   \n356026   999990026839  http://world-en.openfoodfacts.org/product/9999...   \n\n                           creator   created_t      created_datetime  \\\n0       openfoodfacts-contributors  1474103866  2016-09-17T09:17:46Z   \n1                  usda-ndb-import  1489069957  2017-03-09T14:32:37Z   \n2                  usda-ndb-import  1489069957  2017-03-09T14:32:37Z   \n3                  usda-ndb-import  1489055731  2017-03-09T10:35:31Z   \n4                  usda-ndb-import  1489055653  2017-03-09T10:34:13Z   \n...                            ...         ...                   ...   \n356022             usda-ndb-import  1489059076  2017-03-09T11:31:16Z   \n356023                      tomato  1422099377  2015-01-24T11:36:17Z   \n356024  openfoodfacts-contributors  1497018549  2017-06-09T14:29:09Z   \n356025  openfoodfacts-contributors  1492340089  2017-04-16T10:54:49Z   \n356026             usda-ndb-import  1489072709  2017-03-09T15:18:29Z   \n\n       last_modified_t last_modified_datetime  \\\n0           1474103893   2016-09-17T09:18:13Z   \n1           1489069957   2017-03-09T14:32:37Z   \n2           1489069957   2017-03-09T14:32:37Z   \n3           1489055731   2017-03-09T10:35:31Z   \n4           1489055653   2017-03-09T10:34:13Z   \n...                ...                    ...   \n356022      1491244499   2017-04-03T18:34:59Z   \n356023      1491244499   2017-04-03T18:34:59Z   \n356024      1500730305   2017-07-22T13:31:45Z   \n356025      1492340089   2017-04-16T10:54:49Z   \n356026      1491244499   2017-04-03T18:34:59Z   \n\n                                             product_name  \\\n0                                      Farine de blé noir   \n1                          Banana Chips Sweetened (Whole)   \n2                                                 Peanuts   \n3                                  Organic Salted Nut Mix   \n4                                         Organic Polenta   \n...                                                   ...   \n356022  Mint Melange Tea A Blend Of Peppermint, Lemon ...   \n356023                                            乐吧泡菜味薯片   \n356024                                      Biscottes bio   \n356025                           Tomates aux Vermicelles    \n356026                    Sugar Free Drink Mix, Peach Tea   \n\n                           generic_name quantity  ...  \\\n0                                   NaN      1kg  ...   \n1                                   NaN      NaN  ...   \n2                                   NaN      NaN  ...   \n3                                   NaN      NaN  ...   \n4                                   NaN      NaN  ...   \n...                                 ...      ...  ...   \n356022                              NaN      NaN  ...   \n356023  Leba pickle flavor potato chips     50 g  ...   \n356024                              NaN     300g  ...   \n356025                              NaN      67g  ...   \n356026                              NaN      NaN  ...   \n\n       fruits-vegetables-nuts_100g fruits-vegetables-nuts-estimate_100g  \\\n0                              NaN                                  NaN   \n1                              NaN                                  NaN   \n2                              NaN                                  NaN   \n3                              NaN                                  NaN   \n4                              NaN                                  NaN   \n...                            ...                                  ...   \n356022                         NaN                                  NaN   \n356023                         NaN                                  NaN   \n356024                         NaN                                  NaN   \n356025                         NaN                                  NaN   \n356026                         NaN                                  NaN   \n\n       collagen-meat-protein-ratio_100g cocoa_100g chlorophyl_100g  \\\n0                                   NaN        NaN             NaN   \n1                                   NaN        NaN             NaN   \n2                                   NaN        NaN             NaN   \n3                                   NaN        NaN             NaN   \n4                                   NaN        NaN             NaN   \n...                                 ...        ...             ...   \n356022                              NaN        NaN             NaN   \n356023                              NaN        NaN             NaN   \n356024                              NaN        NaN             NaN   \n356025                              NaN        NaN             NaN   \n356026                              NaN        NaN             NaN   \n\n       carbon-footprint_100g nutrition-score-fr_100g nutrition-score-uk_100g  \\\n0                        NaN                     NaN                     NaN   \n1                        NaN                    14.0                    14.0   \n2                        NaN                     0.0                     0.0   \n3                        NaN                    12.0                    12.0   \n4                        NaN                     NaN                     NaN   \n...                      ...                     ...                     ...   \n356022                   NaN                     0.0                     0.0   \n356023                   NaN                     NaN                     NaN   \n356024                   NaN                     NaN                     NaN   \n356025                   NaN                     NaN                     NaN   \n356026                   NaN                     NaN                     NaN   \n\n       glycemic-index_100g water-hardness_100g  \n0                      NaN                 NaN  \n1                      NaN                 NaN  \n2                      NaN                 NaN  \n3                      NaN                 NaN  \n4                      NaN                 NaN  \n...                    ...                 ...  \n356022                 NaN                 NaN  \n356023                 NaN                 NaN  \n356024                 NaN                 NaN  \n356025                 NaN                 NaN  \n356026                 NaN                 NaN  \n\n[356027 rows x 163 columns]",
      "text/html": "<div>\n<style scoped>\n    .dataframe tbody tr th:only-of-type {\n        vertical-align: middle;\n    }\n\n    .dataframe tbody tr th {\n        vertical-align: top;\n    }\n\n    .dataframe thead th {\n        text-align: right;\n    }\n</style>\n<table border=\"1\" class=\"dataframe\">\n  <thead>\n    <tr style=\"text-align: right;\">\n      <th></th>\n      <th>code</th>\n      <th>url</th>\n      <th>creator</th>\n      <th>created_t</th>\n      <th>created_datetime</th>\n      <th>last_modified_t</th>\n      <th>last_modified_datetime</th>\n      <th>product_name</th>\n      <th>generic_name</th>\n      <th>quantity</th>\n      <th>...</th>\n      <th>fruits-vegetables-nuts_100g</th>\n      <th>fruits-vegetables-nuts-estimate_100g</th>\n      <th>collagen-meat-protein-ratio_100g</th>\n      <th>cocoa_100g</th>\n      <th>chlorophyl_100g</th>\n      <th>carbon-footprint_100g</th>\n      <th>nutrition-score-fr_100g</th>\n      <th>nutrition-score-uk_100g</th>\n      <th>glycemic-index_100g</th>\n      <th>water-hardness_100g</th>\n    </tr>\n  </thead>\n  <tbody>\n    <tr>\n      <th>0</th>\n      <td>3087</td>\n      <td>http://world-en.openfoodfacts.org/product/0000...</td>\n      <td>openfoodfacts-contributors</td>\n      <td>1474103866</td>\n      <td>2016-09-17T09:17:46Z</td>\n      <td>1474103893</td>\n      <td>2016-09-17T09:18:13Z</td>\n      <td>Farine de blé noir</td>\n      <td>NaN</td>\n      <td>1kg</td>\n      <td>...</td>\n      <td>NaN</td>\n      <td>NaN</td>\n      <td>NaN</td>\n      <td>NaN</td>\n      <td>NaN</td>\n      <td>NaN</td>\n      <td>NaN</td>\n      <td>NaN</td>\n      <td>NaN</td>\n      <td>NaN</td>\n    </tr>\n    <tr>\n      <th>1</th>\n      <td>4530</td>\n      <td>http://world-en.openfoodfacts.org/product/0000...</td>\n      <td>usda-ndb-import</td>\n      <td>1489069957</td>\n      <td>2017-03-09T14:32:37Z</td>\n      <td>1489069957</td>\n      <td>2017-03-09T14:32:37Z</td>\n      <td>Banana Chips Sweetened (Whole)</td>\n      <td>NaN</td>\n      <td>NaN</td>\n      <td>...</td>\n      <td>NaN</td>\n      <td>NaN</td>\n      <td>NaN</td>\n      <td>NaN</td>\n      <td>NaN</td>\n      <td>NaN</td>\n      <td>14.0</td>\n      <td>14.0</td>\n      <td>NaN</td>\n      <td>NaN</td>\n    </tr>\n    <tr>\n      <th>2</th>\n      <td>4559</td>\n      <td>http://world-en.openfoodfacts.org/product/0000...</td>\n      <td>usda-ndb-import</td>\n      <td>1489069957</td>\n      <td>2017-03-09T14:32:37Z</td>\n      <td>1489069957</td>\n      <td>2017-03-09T14:32:37Z</td>\n      <td>Peanuts</td>\n      <td>NaN</td>\n      <td>NaN</td>\n      <td>...</td>\n      <td>NaN</td>\n      <td>NaN</td>\n      <td>NaN</td>\n      <td>NaN</td>\n      <td>NaN</td>\n      <td>NaN</td>\n      <td>0.0</td>\n      <td>0.0</td>\n      <td>NaN</td>\n      <td>NaN</td>\n    </tr>\n    <tr>\n      <th>3</th>\n      <td>16087</td>\n      <td>http://world-en.openfoodfacts.org/product/0000...</td>\n      <td>usda-ndb-import</td>\n      <td>1489055731</td>\n      <td>2017-03-09T10:35:31Z</td>\n      <td>1489055731</td>\n      <td>2017-03-09T10:35:31Z</td>\n      <td>Organic Salted Nut Mix</td>\n      <td>NaN</td>\n      <td>NaN</td>\n      <td>...</td>\n      <td>NaN</td>\n      <td>NaN</td>\n      <td>NaN</td>\n      <td>NaN</td>\n      <td>NaN</td>\n      <td>NaN</td>\n      <td>12.0</td>\n      <td>12.0</td>\n      <td>NaN</td>\n      <td>NaN</td>\n    </tr>\n    <tr>\n      <th>4</th>\n      <td>16094</td>\n      <td>http://world-en.openfoodfacts.org/product/0000...</td>\n      <td>usda-ndb-import</td>\n      <td>1489055653</td>\n      <td>2017-03-09T10:34:13Z</td>\n      <td>1489055653</td>\n      <td>2017-03-09T10:34:13Z</td>\n      <td>Organic Polenta</td>\n      <td>NaN</td>\n      <td>NaN</td>\n      <td>...</td>\n      <td>NaN</td>\n      <td>NaN</td>\n      <td>NaN</td>\n      <td>NaN</td>\n      <td>NaN</td>\n      <td>NaN</td>\n      <td>NaN</td>\n      <td>NaN</td>\n      <td>NaN</td>\n      <td>NaN</td>\n    </tr>\n    <tr>\n      <th>...</th>\n      <td>...</td>\n      <td>...</td>\n      <td>...</td>\n      <td>...</td>\n      <td>...</td>\n      <td>...</td>\n      <td>...</td>\n      <td>...</td>\n      <td>...</td>\n      <td>...</td>\n      <td>...</td>\n      <td>...</td>\n      <td>...</td>\n      <td>...</td>\n      <td>...</td>\n      <td>...</td>\n      <td>...</td>\n      <td>...</td>\n      <td>...</td>\n      <td>...</td>\n      <td>...</td>\n    </tr>\n    <tr>\n      <th>356022</th>\n      <td>99567453</td>\n      <td>http://world-en.openfoodfacts.org/product/9956...</td>\n      <td>usda-ndb-import</td>\n      <td>1489059076</td>\n      <td>2017-03-09T11:31:16Z</td>\n      <td>1491244499</td>\n      <td>2017-04-03T18:34:59Z</td>\n      <td>Mint Melange Tea A Blend Of Peppermint, Lemon ...</td>\n      <td>NaN</td>\n      <td>NaN</td>\n      <td>...</td>\n      <td>NaN</td>\n      <td>NaN</td>\n      <td>NaN</td>\n      <td>NaN</td>\n      <td>NaN</td>\n      <td>NaN</td>\n      <td>0.0</td>\n      <td>0.0</td>\n      <td>NaN</td>\n      <td>NaN</td>\n    </tr>\n    <tr>\n      <th>356023</th>\n      <td>9970229501521</td>\n      <td>http://world-en.openfoodfacts.org/product/9970...</td>\n      <td>tomato</td>\n      <td>1422099377</td>\n      <td>2015-01-24T11:36:17Z</td>\n      <td>1491244499</td>\n      <td>2017-04-03T18:34:59Z</td>\n      <td>乐吧泡菜味薯片</td>\n      <td>Leba pickle flavor potato chips</td>\n      <td>50 g</td>\n      <td>...</td>\n      <td>NaN</td>\n      <td>NaN</td>\n      <td>NaN</td>\n      <td>NaN</td>\n      <td>NaN</td>\n      <td>NaN</td>\n      <td>NaN</td>\n      <td>NaN</td>\n      <td>NaN</td>\n      <td>NaN</td>\n    </tr>\n    <tr>\n      <th>356024</th>\n      <td>9977471758307</td>\n      <td>http://world-en.openfoodfacts.org/product/9977...</td>\n      <td>openfoodfacts-contributors</td>\n      <td>1497018549</td>\n      <td>2017-06-09T14:29:09Z</td>\n      <td>1500730305</td>\n      <td>2017-07-22T13:31:45Z</td>\n      <td>Biscottes bio</td>\n      <td>NaN</td>\n      <td>300g</td>\n      <td>...</td>\n      <td>NaN</td>\n      <td>NaN</td>\n      <td>NaN</td>\n      <td>NaN</td>\n      <td>NaN</td>\n      <td>NaN</td>\n      <td>NaN</td>\n      <td>NaN</td>\n      <td>NaN</td>\n      <td>NaN</td>\n    </tr>\n    <tr>\n      <th>356025</th>\n      <td>9980282863788</td>\n      <td>http://world-en.openfoodfacts.org/product/9980...</td>\n      <td>openfoodfacts-contributors</td>\n      <td>1492340089</td>\n      <td>2017-04-16T10:54:49Z</td>\n      <td>1492340089</td>\n      <td>2017-04-16T10:54:49Z</td>\n      <td>Tomates aux Vermicelles</td>\n      <td>NaN</td>\n      <td>67g</td>\n      <td>...</td>\n      <td>NaN</td>\n      <td>NaN</td>\n      <td>NaN</td>\n      <td>NaN</td>\n      <td>NaN</td>\n      <td>NaN</td>\n      <td>NaN</td>\n      <td>NaN</td>\n      <td>NaN</td>\n      <td>NaN</td>\n    </tr>\n    <tr>\n      <th>356026</th>\n      <td>999990026839</td>\n      <td>http://world-en.openfoodfacts.org/product/9999...</td>\n      <td>usda-ndb-import</td>\n      <td>1489072709</td>\n      <td>2017-03-09T15:18:29Z</td>\n      <td>1491244499</td>\n      <td>2017-04-03T18:34:59Z</td>\n      <td>Sugar Free Drink Mix, Peach Tea</td>\n      <td>NaN</td>\n      <td>NaN</td>\n      <td>...</td>\n      <td>NaN</td>\n      <td>NaN</td>\n      <td>NaN</td>\n      <td>NaN</td>\n      <td>NaN</td>\n      <td>NaN</td>\n      <td>NaN</td>\n      <td>NaN</td>\n      <td>NaN</td>\n      <td>NaN</td>\n    </tr>\n  </tbody>\n</table>\n<p>356027 rows × 163 columns</p>\n</div>"
     },
     "metadata": {},
     "execution_count": 2
    }
   ],
   "source": [
    "food = pd.read_csv(\"p.tsv\", sep=\"\\t\")\n",
    "food"
   ]
  },
  {
   "cell_type": "markdown",
   "metadata": {},
   "source": [
    "### Step 4. See the first 5 entries"
   ]
  },
  {
   "cell_type": "code",
   "execution_count": 3,
   "metadata": {},
   "outputs": [
    {
     "output_type": "execute_result",
     "data": {
      "text/plain": "    code                                                url  \\\n0   3087  http://world-en.openfoodfacts.org/product/0000...   \n1   4530  http://world-en.openfoodfacts.org/product/0000...   \n2   4559  http://world-en.openfoodfacts.org/product/0000...   \n3  16087  http://world-en.openfoodfacts.org/product/0000...   \n4  16094  http://world-en.openfoodfacts.org/product/0000...   \n\n                      creator   created_t      created_datetime  \\\n0  openfoodfacts-contributors  1474103866  2016-09-17T09:17:46Z   \n1             usda-ndb-import  1489069957  2017-03-09T14:32:37Z   \n2             usda-ndb-import  1489069957  2017-03-09T14:32:37Z   \n3             usda-ndb-import  1489055731  2017-03-09T10:35:31Z   \n4             usda-ndb-import  1489055653  2017-03-09T10:34:13Z   \n\n  last_modified_t last_modified_datetime                    product_name  \\\n0      1474103893   2016-09-17T09:18:13Z              Farine de blé noir   \n1      1489069957   2017-03-09T14:32:37Z  Banana Chips Sweetened (Whole)   \n2      1489069957   2017-03-09T14:32:37Z                         Peanuts   \n3      1489055731   2017-03-09T10:35:31Z          Organic Salted Nut Mix   \n4      1489055653   2017-03-09T10:34:13Z                 Organic Polenta   \n\n  generic_name quantity  ... fruits-vegetables-nuts_100g  \\\n0          NaN      1kg  ...                         NaN   \n1          NaN      NaN  ...                         NaN   \n2          NaN      NaN  ...                         NaN   \n3          NaN      NaN  ...                         NaN   \n4          NaN      NaN  ...                         NaN   \n\n  fruits-vegetables-nuts-estimate_100g collagen-meat-protein-ratio_100g  \\\n0                                  NaN                              NaN   \n1                                  NaN                              NaN   \n2                                  NaN                              NaN   \n3                                  NaN                              NaN   \n4                                  NaN                              NaN   \n\n  cocoa_100g chlorophyl_100g carbon-footprint_100g nutrition-score-fr_100g  \\\n0        NaN             NaN                   NaN                     NaN   \n1        NaN             NaN                   NaN                    14.0   \n2        NaN             NaN                   NaN                     0.0   \n3        NaN             NaN                   NaN                    12.0   \n4        NaN             NaN                   NaN                     NaN   \n\n  nutrition-score-uk_100g glycemic-index_100g water-hardness_100g  \n0                     NaN                 NaN                 NaN  \n1                    14.0                 NaN                 NaN  \n2                     0.0                 NaN                 NaN  \n3                    12.0                 NaN                 NaN  \n4                     NaN                 NaN                 NaN  \n\n[5 rows x 163 columns]",
      "text/html": "<div>\n<style scoped>\n    .dataframe tbody tr th:only-of-type {\n        vertical-align: middle;\n    }\n\n    .dataframe tbody tr th {\n        vertical-align: top;\n    }\n\n    .dataframe thead th {\n        text-align: right;\n    }\n</style>\n<table border=\"1\" class=\"dataframe\">\n  <thead>\n    <tr style=\"text-align: right;\">\n      <th></th>\n      <th>code</th>\n      <th>url</th>\n      <th>creator</th>\n      <th>created_t</th>\n      <th>created_datetime</th>\n      <th>last_modified_t</th>\n      <th>last_modified_datetime</th>\n      <th>product_name</th>\n      <th>generic_name</th>\n      <th>quantity</th>\n      <th>...</th>\n      <th>fruits-vegetables-nuts_100g</th>\n      <th>fruits-vegetables-nuts-estimate_100g</th>\n      <th>collagen-meat-protein-ratio_100g</th>\n      <th>cocoa_100g</th>\n      <th>chlorophyl_100g</th>\n      <th>carbon-footprint_100g</th>\n      <th>nutrition-score-fr_100g</th>\n      <th>nutrition-score-uk_100g</th>\n      <th>glycemic-index_100g</th>\n      <th>water-hardness_100g</th>\n    </tr>\n  </thead>\n  <tbody>\n    <tr>\n      <th>0</th>\n      <td>3087</td>\n      <td>http://world-en.openfoodfacts.org/product/0000...</td>\n      <td>openfoodfacts-contributors</td>\n      <td>1474103866</td>\n      <td>2016-09-17T09:17:46Z</td>\n      <td>1474103893</td>\n      <td>2016-09-17T09:18:13Z</td>\n      <td>Farine de blé noir</td>\n      <td>NaN</td>\n      <td>1kg</td>\n      <td>...</td>\n      <td>NaN</td>\n      <td>NaN</td>\n      <td>NaN</td>\n      <td>NaN</td>\n      <td>NaN</td>\n      <td>NaN</td>\n      <td>NaN</td>\n      <td>NaN</td>\n      <td>NaN</td>\n      <td>NaN</td>\n    </tr>\n    <tr>\n      <th>1</th>\n      <td>4530</td>\n      <td>http://world-en.openfoodfacts.org/product/0000...</td>\n      <td>usda-ndb-import</td>\n      <td>1489069957</td>\n      <td>2017-03-09T14:32:37Z</td>\n      <td>1489069957</td>\n      <td>2017-03-09T14:32:37Z</td>\n      <td>Banana Chips Sweetened (Whole)</td>\n      <td>NaN</td>\n      <td>NaN</td>\n      <td>...</td>\n      <td>NaN</td>\n      <td>NaN</td>\n      <td>NaN</td>\n      <td>NaN</td>\n      <td>NaN</td>\n      <td>NaN</td>\n      <td>14.0</td>\n      <td>14.0</td>\n      <td>NaN</td>\n      <td>NaN</td>\n    </tr>\n    <tr>\n      <th>2</th>\n      <td>4559</td>\n      <td>http://world-en.openfoodfacts.org/product/0000...</td>\n      <td>usda-ndb-import</td>\n      <td>1489069957</td>\n      <td>2017-03-09T14:32:37Z</td>\n      <td>1489069957</td>\n      <td>2017-03-09T14:32:37Z</td>\n      <td>Peanuts</td>\n      <td>NaN</td>\n      <td>NaN</td>\n      <td>...</td>\n      <td>NaN</td>\n      <td>NaN</td>\n      <td>NaN</td>\n      <td>NaN</td>\n      <td>NaN</td>\n      <td>NaN</td>\n      <td>0.0</td>\n      <td>0.0</td>\n      <td>NaN</td>\n      <td>NaN</td>\n    </tr>\n    <tr>\n      <th>3</th>\n      <td>16087</td>\n      <td>http://world-en.openfoodfacts.org/product/0000...</td>\n      <td>usda-ndb-import</td>\n      <td>1489055731</td>\n      <td>2017-03-09T10:35:31Z</td>\n      <td>1489055731</td>\n      <td>2017-03-09T10:35:31Z</td>\n      <td>Organic Salted Nut Mix</td>\n      <td>NaN</td>\n      <td>NaN</td>\n      <td>...</td>\n      <td>NaN</td>\n      <td>NaN</td>\n      <td>NaN</td>\n      <td>NaN</td>\n      <td>NaN</td>\n      <td>NaN</td>\n      <td>12.0</td>\n      <td>12.0</td>\n      <td>NaN</td>\n      <td>NaN</td>\n    </tr>\n    <tr>\n      <th>4</th>\n      <td>16094</td>\n      <td>http://world-en.openfoodfacts.org/product/0000...</td>\n      <td>usda-ndb-import</td>\n      <td>1489055653</td>\n      <td>2017-03-09T10:34:13Z</td>\n      <td>1489055653</td>\n      <td>2017-03-09T10:34:13Z</td>\n      <td>Organic Polenta</td>\n      <td>NaN</td>\n      <td>NaN</td>\n      <td>...</td>\n      <td>NaN</td>\n      <td>NaN</td>\n      <td>NaN</td>\n      <td>NaN</td>\n      <td>NaN</td>\n      <td>NaN</td>\n      <td>NaN</td>\n      <td>NaN</td>\n      <td>NaN</td>\n      <td>NaN</td>\n    </tr>\n  </tbody>\n</table>\n<p>5 rows × 163 columns</p>\n</div>"
     },
     "metadata": {},
     "execution_count": 3
    }
   ],
   "source": [
    "food.head(5)"
   ]
  },
  {
   "cell_type": "code",
   "execution_count": 4,
   "metadata": {},
   "outputs": [
    {
     "data": {
      "text/html": "<div>\n<style scoped>\n    .dataframe tbody tr th:only-of-type {\n        vertical-align: middle;\n    }\n\n    .dataframe tbody tr th {\n        vertical-align: top;\n    }\n\n    .dataframe thead th {\n        text-align: right;\n    }\n</style>\n<table border=\"1\" class=\"dataframe\">\n  <thead>\n    <tr style=\"text-align: right;\">\n      <th></th>\n      <th>code</th>\n      <th>url</th>\n      <th>creator</th>\n      <th>created_t</th>\n      <th>created_datetime</th>\n      <th>last_modified_t</th>\n      <th>last_modified_datetime</th>\n      <th>product_name</th>\n      <th>generic_name</th>\n      <th>quantity</th>\n      <th>...</th>\n      <th>fruits-vegetables-nuts_100g</th>\n      <th>fruits-vegetables-nuts-estimate_100g</th>\n      <th>collagen-meat-protein-ratio_100g</th>\n      <th>cocoa_100g</th>\n      <th>chlorophyl_100g</th>\n      <th>carbon-footprint_100g</th>\n      <th>nutrition-score-fr_100g</th>\n      <th>nutrition-score-uk_100g</th>\n      <th>glycemic-index_100g</th>\n      <th>water-hardness_100g</th>\n    </tr>\n  </thead>\n  <tbody>\n    <tr>\n      <td>0</td>\n      <td>3087</td>\n      <td>http://world-en.openfoodfacts.org/product/0000...</td>\n      <td>openfoodfacts-contributors</td>\n      <td>1474103866</td>\n      <td>2016-09-17T09:17:46Z</td>\n      <td>1474103893</td>\n      <td>2016-09-17T09:18:13Z</td>\n      <td>Farine de blé noir</td>\n      <td>NaN</td>\n      <td>1kg</td>\n      <td>...</td>\n      <td>NaN</td>\n      <td>NaN</td>\n      <td>NaN</td>\n      <td>NaN</td>\n      <td>NaN</td>\n      <td>NaN</td>\n      <td>NaN</td>\n      <td>NaN</td>\n      <td>NaN</td>\n      <td>NaN</td>\n    </tr>\n    <tr>\n      <td>1</td>\n      <td>4530</td>\n      <td>http://world-en.openfoodfacts.org/product/0000...</td>\n      <td>usda-ndb-import</td>\n      <td>1489069957</td>\n      <td>2017-03-09T14:32:37Z</td>\n      <td>1489069957</td>\n      <td>2017-03-09T14:32:37Z</td>\n      <td>Banana Chips Sweetened (Whole)</td>\n      <td>NaN</td>\n      <td>NaN</td>\n      <td>...</td>\n      <td>NaN</td>\n      <td>NaN</td>\n      <td>NaN</td>\n      <td>NaN</td>\n      <td>NaN</td>\n      <td>NaN</td>\n      <td>14.0</td>\n      <td>14.0</td>\n      <td>NaN</td>\n      <td>NaN</td>\n    </tr>\n    <tr>\n      <td>2</td>\n      <td>4559</td>\n      <td>http://world-en.openfoodfacts.org/product/0000...</td>\n      <td>usda-ndb-import</td>\n      <td>1489069957</td>\n      <td>2017-03-09T14:32:37Z</td>\n      <td>1489069957</td>\n      <td>2017-03-09T14:32:37Z</td>\n      <td>Peanuts</td>\n      <td>NaN</td>\n      <td>NaN</td>\n      <td>...</td>\n      <td>NaN</td>\n      <td>NaN</td>\n      <td>NaN</td>\n      <td>NaN</td>\n      <td>NaN</td>\n      <td>NaN</td>\n      <td>0.0</td>\n      <td>0.0</td>\n      <td>NaN</td>\n      <td>NaN</td>\n    </tr>\n    <tr>\n      <td>3</td>\n      <td>16087</td>\n      <td>http://world-en.openfoodfacts.org/product/0000...</td>\n      <td>usda-ndb-import</td>\n      <td>1489055731</td>\n      <td>2017-03-09T10:35:31Z</td>\n      <td>1489055731</td>\n      <td>2017-03-09T10:35:31Z</td>\n      <td>Organic Salted Nut Mix</td>\n      <td>NaN</td>\n      <td>NaN</td>\n      <td>...</td>\n      <td>NaN</td>\n      <td>NaN</td>\n      <td>NaN</td>\n      <td>NaN</td>\n      <td>NaN</td>\n      <td>NaN</td>\n      <td>12.0</td>\n      <td>12.0</td>\n      <td>NaN</td>\n      <td>NaN</td>\n    </tr>\n    <tr>\n      <td>4</td>\n      <td>16094</td>\n      <td>http://world-en.openfoodfacts.org/product/0000...</td>\n      <td>usda-ndb-import</td>\n      <td>1489055653</td>\n      <td>2017-03-09T10:34:13Z</td>\n      <td>1489055653</td>\n      <td>2017-03-09T10:34:13Z</td>\n      <td>Organic Polenta</td>\n      <td>NaN</td>\n      <td>NaN</td>\n      <td>...</td>\n      <td>NaN</td>\n      <td>NaN</td>\n      <td>NaN</td>\n      <td>NaN</td>\n      <td>NaN</td>\n      <td>NaN</td>\n      <td>NaN</td>\n      <td>NaN</td>\n      <td>NaN</td>\n      <td>NaN</td>\n    </tr>\n  </tbody>\n</table>\n<p>5 rows × 163 columns</p>\n</div>",
      "text/plain": "    code                                                url  \\\n0   3087  http://world-en.openfoodfacts.org/product/0000...   \n1   4530  http://world-en.openfoodfacts.org/product/0000...   \n2   4559  http://world-en.openfoodfacts.org/product/0000...   \n3  16087  http://world-en.openfoodfacts.org/product/0000...   \n4  16094  http://world-en.openfoodfacts.org/product/0000...   \n\n                      creator   created_t      created_datetime  \\\n0  openfoodfacts-contributors  1474103866  2016-09-17T09:17:46Z   \n1             usda-ndb-import  1489069957  2017-03-09T14:32:37Z   \n2             usda-ndb-import  1489069957  2017-03-09T14:32:37Z   \n3             usda-ndb-import  1489055731  2017-03-09T10:35:31Z   \n4             usda-ndb-import  1489055653  2017-03-09T10:34:13Z   \n\n  last_modified_t last_modified_datetime                    product_name  \\\n0      1474103893   2016-09-17T09:18:13Z              Farine de blé noir   \n1      1489069957   2017-03-09T14:32:37Z  Banana Chips Sweetened (Whole)   \n2      1489069957   2017-03-09T14:32:37Z                         Peanuts   \n3      1489055731   2017-03-09T10:35:31Z          Organic Salted Nut Mix   \n4      1489055653   2017-03-09T10:34:13Z                 Organic Polenta   \n\n  generic_name quantity  ... fruits-vegetables-nuts_100g  \\\n0          NaN      1kg  ...                         NaN   \n1          NaN      NaN  ...                         NaN   \n2          NaN      NaN  ...                         NaN   \n3          NaN      NaN  ...                         NaN   \n4          NaN      NaN  ...                         NaN   \n\n  fruits-vegetables-nuts-estimate_100g collagen-meat-protein-ratio_100g  \\\n0                                  NaN                              NaN   \n1                                  NaN                              NaN   \n2                                  NaN                              NaN   \n3                                  NaN                              NaN   \n4                                  NaN                              NaN   \n\n  cocoa_100g chlorophyl_100g carbon-footprint_100g nutrition-score-fr_100g  \\\n0        NaN             NaN                   NaN                     NaN   \n1        NaN             NaN                   NaN                    14.0   \n2        NaN             NaN                   NaN                     0.0   \n3        NaN             NaN                   NaN                    12.0   \n4        NaN             NaN                   NaN                     NaN   \n\n  nutrition-score-uk_100g glycemic-index_100g water-hardness_100g  \n0                     NaN                 NaN                 NaN  \n1                    14.0                 NaN                 NaN  \n2                     0.0                 NaN                 NaN  \n3                    12.0                 NaN                 NaN  \n4                     NaN                 NaN                 NaN  \n\n[5 rows x 163 columns]"
     },
     "execution_count": 4,
     "metadata": {},
     "output_type": "execute_result"
    }
   ],
   "source": [
    "food.head()"
   ]
  },
  {
   "cell_type": "markdown",
   "metadata": {},
   "source": [
    "### Step 5. What is the number of observations in the dataset?"
   ]
  },
  {
   "cell_type": "code",
   "execution_count": 4,
   "metadata": {},
   "outputs": [
    {
     "output_type": "execute_result",
     "data": {
      "text/plain": "(356027, 163)"
     },
     "metadata": {},
     "execution_count": 4
    }
   ],
   "source": [
    "food.shape"
   ]
  },
  {
   "cell_type": "code",
   "execution_count": 5,
   "metadata": {},
   "outputs": [
    {
     "data": {
      "text/plain": "(356027, 163)"
     },
     "execution_count": 5,
     "metadata": {},
     "output_type": "execute_result"
    }
   ],
   "source": [
    "food.shape"
   ]
  },
  {
   "cell_type": "code",
   "execution_count": 7,
   "metadata": {},
   "outputs": [
    {
     "output_type": "execute_result",
     "data": {
      "text/plain": "356027"
     },
     "metadata": {},
     "execution_count": 7
    }
   ],
   "source": [
    "food.shape[0]"
   ]
  },
  {
   "cell_type": "code",
   "execution_count": 8,
   "metadata": {
    "collapsed": false
   },
   "outputs": [
    {
     "data": {
      "text/plain": [
       "356027"
      ]
     },
     "execution_count": 8,
     "metadata": {},
     "output_type": "execute_result"
    }
   ],
   "source": []
  },
  {
   "cell_type": "markdown",
   "metadata": {},
   "source": [
    "### Step 6. What is the number of columns in the dataset?"
   ]
  },
  {
   "cell_type": "code",
   "execution_count": 8,
   "metadata": {},
   "outputs": [
    {
     "output_type": "execute_result",
     "data": {
      "text/plain": "163"
     },
     "metadata": {},
     "execution_count": 8
    }
   ],
   "source": [
    "food.shape[1]"
   ]
  },
  {
   "cell_type": "code",
   "execution_count": 10,
   "metadata": {
    "collapsed": false
   },
   "outputs": [
    {
     "name": "stdout",
     "output_type": "stream",
     "text": [
      "(356027, 163)\n",
      "163\n",
      "<class 'pandas.core.frame.DataFrame'>\n",
      "RangeIndex: 356027 entries, 0 to 356026\n",
      "Columns: 163 entries, code to water-hardness_100g\n",
      "dtypes: float64(107), object(56)\n",
      "memory usage: 442.8+ MB\n"
     ]
    }
   ],
   "source": [
    "food.shape[1]"
   ]
  },
  {
   "cell_type": "markdown",
   "metadata": {},
   "source": [
    "### Step 7. Print the name of all the columns."
   ]
  },
  {
   "cell_type": "code",
   "execution_count": 9,
   "metadata": {},
   "outputs": [
    {
     "output_type": "execute_result",
     "data": {
      "text/plain": "Index(['code', 'url', 'creator', 'created_t', 'created_datetime',\n       'last_modified_t', 'last_modified_datetime', 'product_name',\n       'generic_name', 'quantity',\n       ...\n       'fruits-vegetables-nuts_100g', 'fruits-vegetables-nuts-estimate_100g',\n       'collagen-meat-protein-ratio_100g', 'cocoa_100g', 'chlorophyl_100g',\n       'carbon-footprint_100g', 'nutrition-score-fr_100g',\n       'nutrition-score-uk_100g', 'glycemic-index_100g',\n       'water-hardness_100g'],\n      dtype='object', length=163)"
     },
     "metadata": {},
     "execution_count": 9
    }
   ],
   "source": [
    "food.columns"
   ]
  },
  {
   "cell_type": "code",
   "execution_count": 6,
   "metadata": {},
   "outputs": [
    {
     "data": {
      "text/plain": "Index(['code', 'url', 'creator', 'created_t', 'created_datetime',\n       'last_modified_t', 'last_modified_datetime', 'product_name',\n       'generic_name', 'quantity',\n       ...\n       'fruits-vegetables-nuts_100g', 'fruits-vegetables-nuts-estimate_100g',\n       'collagen-meat-protein-ratio_100g', 'cocoa_100g', 'chlorophyl_100g',\n       'carbon-footprint_100g', 'nutrition-score-fr_100g',\n       'nutrition-score-uk_100g', 'glycemic-index_100g',\n       'water-hardness_100g'],\n      dtype='object', length=163)"
     },
     "execution_count": 6,
     "metadata": {},
     "output_type": "execute_result"
    }
   ],
   "source": [
    "food.columns"
   ]
  },
  {
   "cell_type": "markdown",
   "metadata": {},
   "source": [
    "### Step 8. What is the name of 105th column?"
   ]
  },
  {
   "cell_type": "code",
   "execution_count": 10,
   "metadata": {},
   "outputs": [
    {
     "output_type": "execute_result",
     "data": {
      "text/plain": "'-fructose_100g'"
     },
     "metadata": {},
     "execution_count": 10
    }
   ],
   "source": [
    "food.columns[105]"
   ]
  },
  {
   "cell_type": "markdown",
   "metadata": {},
   "source": [
    "### Step 9. What is the type of the observations of the 105th column?"
   ]
  },
  {
   "cell_type": "code",
   "execution_count": 11,
   "metadata": {
    "tags": []
   },
   "outputs": [
    {
     "output_type": "stream",
     "name": "stdout",
     "text": "<class 'pandas.core.frame.DataFrame'>\nRangeIndex: 356027 entries, 0 to 356026\nColumns: 163 entries, code to water-hardness_100g\ndtypes: float64(107), object(56)\nmemory usage: 442.8+ MB\n"
    }
   ],
   "source": [
    "food.info()"
   ]
  },
  {
   "cell_type": "code",
   "execution_count": 10,
   "metadata": {},
   "outputs": [
    {
     "name": "stdout",
     "output_type": "stream",
     "text": "<class 'pandas.core.frame.DataFrame'>\nRangeIndex: 356027 entries, 0 to 356026\nColumns: 163 entries, code to water-hardness_100g\ndtypes: float64(107), object(56)\nmemory usage: 442.8+ MB\n"
    }
   ],
   "source": [
    "food.info()"
   ]
  },
  {
   "cell_type": "markdown",
   "metadata": {},
   "source": [
    "### Step 10. How is the dataset indexed?"
   ]
  },
  {
   "cell_type": "code",
   "execution_count": 11,
   "metadata": {},
   "outputs": [
    {
     "data": {
      "text/plain": "RangeIndex(start=0, stop=356027, step=1)"
     },
     "execution_count": 11,
     "metadata": {},
     "output_type": "execute_result"
    }
   ],
   "source": [
    "food.index"
   ]
  },
  {
   "cell_type": "markdown",
   "metadata": {},
   "source": [
    "### Step 11. What is the product name of the 19th observation?"
   ]
  },
  {
   "cell_type": "code",
   "execution_count": 12,
   "metadata": {},
   "outputs": [
    {
     "data": {
      "text/plain": "'Organic Oat Groats'"
     },
     "execution_count": 12,
     "metadata": {},
     "output_type": "execute_result"
    }
   ],
   "source": [
    "food[\"product_name\"].values[19]"
   ]
  },
  {
   "cell_type": "code",
   "execution_count": 12,
   "metadata": {},
   "outputs": [
    {
     "output_type": "execute_result",
     "data": {
      "text/plain": "     code                                                url  \\\n0    3087  http://world-en.openfoodfacts.org/product/0000...   \n1    4530  http://world-en.openfoodfacts.org/product/0000...   \n2    4559  http://world-en.openfoodfacts.org/product/0000...   \n3   16087  http://world-en.openfoodfacts.org/product/0000...   \n4   16094  http://world-en.openfoodfacts.org/product/0000...   \n5   16100  http://world-en.openfoodfacts.org/product/0000...   \n6   16117  http://world-en.openfoodfacts.org/product/0000...   \n7   16124  http://world-en.openfoodfacts.org/product/0000...   \n8   16193  http://world-en.openfoodfacts.org/product/0000...   \n9   16513  http://world-en.openfoodfacts.org/product/0000...   \n10  16612  http://world-en.openfoodfacts.org/product/0000...   \n11  16650  http://world-en.openfoodfacts.org/product/0000...   \n12  16872  http://world-en.openfoodfacts.org/product/0000...   \n13  16933  http://world-en.openfoodfacts.org/product/0000...   \n14  17497  http://world-en.openfoodfacts.org/product/0000...   \n15  18012  http://world-en.openfoodfacts.org/product/0000...   \n16  18050  http://world-en.openfoodfacts.org/product/0000...   \n17  18173  http://world-en.openfoodfacts.org/product/0000...   \n18  18197  http://world-en.openfoodfacts.org/product/0000...   \n19  18227  http://world-en.openfoodfacts.org/product/0000...   \n\n                       creator   created_t      created_datetime  \\\n0   openfoodfacts-contributors  1474103866  2016-09-17T09:17:46Z   \n1              usda-ndb-import  1489069957  2017-03-09T14:32:37Z   \n2              usda-ndb-import  1489069957  2017-03-09T14:32:37Z   \n3              usda-ndb-import  1489055731  2017-03-09T10:35:31Z   \n4              usda-ndb-import  1489055653  2017-03-09T10:34:13Z   \n5              usda-ndb-import  1489055651  2017-03-09T10:34:11Z   \n6              usda-ndb-import  1489055730  2017-03-09T10:35:30Z   \n7              usda-ndb-import  1489055711  2017-03-09T10:35:11Z   \n8              usda-ndb-import  1489055651  2017-03-09T10:34:11Z   \n9              usda-ndb-import  1489055654  2017-03-09T10:34:14Z   \n10             usda-ndb-import  1489055731  2017-03-09T10:35:31Z   \n11             usda-ndb-import  1489055668  2017-03-09T10:34:28Z   \n12             usda-ndb-import  1489055650  2017-03-09T10:34:10Z   \n13             usda-ndb-import  1489055651  2017-03-09T10:34:11Z   \n14             usda-ndb-import  1489055678  2017-03-09T10:34:38Z   \n15             usda-ndb-import  1489055652  2017-03-09T10:34:12Z   \n16             usda-ndb-import  1489050462  2017-03-09T09:07:42Z   \n17             usda-ndb-import  1489055667  2017-03-09T10:34:27Z   \n18             usda-ndb-import  1489055652  2017-03-09T10:34:12Z   \n19             usda-ndb-import  1489055682  2017-03-09T10:34:42Z   \n\n   last_modified_t last_modified_datetime                       product_name  \\\n0       1474103893   2016-09-17T09:18:13Z                 Farine de blé noir   \n1       1489069957   2017-03-09T14:32:37Z     Banana Chips Sweetened (Whole)   \n2       1489069957   2017-03-09T14:32:37Z                            Peanuts   \n3       1489055731   2017-03-09T10:35:31Z             Organic Salted Nut Mix   \n4       1489055653   2017-03-09T10:34:13Z                    Organic Polenta   \n5       1489055651   2017-03-09T10:34:11Z  Breadshop Honey Gone Nuts Granola   \n6       1489055730   2017-03-09T10:35:30Z      Organic Long Grain White Rice   \n7       1489055712   2017-03-09T10:35:12Z                     Organic Muesli   \n8       1489055651   2017-03-09T10:34:11Z       Organic Dark Chocolate Minis   \n9       1489055654   2017-03-09T10:34:14Z              Organic Sunflower Oil   \n10      1489055731   2017-03-09T10:35:31Z               Organic Adzuki Beans   \n11      1489055668   2017-03-09T10:34:28Z                Organic Penne Pasta   \n12      1489055651   2017-03-09T10:34:11Z                      Zen Party Mix   \n13      1489055651   2017-03-09T10:34:11Z          Organic Golden Flax Seeds   \n14      1489055678   2017-03-09T10:34:38Z                Organic Spicy Punks   \n15      1489055653   2017-03-09T10:34:13Z               Cinnamon Nut Granola   \n16      1489050462   2017-03-09T09:07:42Z                  Organic Hazelnuts   \n17      1489055667   2017-03-09T10:34:27Z     Organic Sweetened Banana Chips   \n18      1489055652   2017-03-09T10:34:12Z   Lotus Organic Brown Jasmine Rice   \n19      1489055682   2017-03-09T10:34:42Z                 Organic Oat Groats   \n\n   generic_name quantity  ... fruits-vegetables-nuts_100g  \\\n0           NaN      1kg  ...                         NaN   \n1           NaN      NaN  ...                         NaN   \n2           NaN      NaN  ...                         NaN   \n3           NaN      NaN  ...                         NaN   \n4           NaN      NaN  ...                         NaN   \n5           NaN      NaN  ...                         NaN   \n6           NaN      NaN  ...                         NaN   \n7           NaN      NaN  ...                         NaN   \n8           NaN      NaN  ...                         NaN   \n9           NaN      NaN  ...                         NaN   \n10          NaN      NaN  ...                         NaN   \n11          NaN      NaN  ...                         NaN   \n12          NaN      NaN  ...                         NaN   \n13          NaN      NaN  ...                         NaN   \n14          NaN      NaN  ...                         NaN   \n15          NaN      NaN  ...                         NaN   \n16          NaN      NaN  ...                         NaN   \n17          NaN      NaN  ...                         NaN   \n18          NaN      NaN  ...                         NaN   \n19          NaN      NaN  ...                         NaN   \n\n   fruits-vegetables-nuts-estimate_100g collagen-meat-protein-ratio_100g  \\\n0                                   NaN                              NaN   \n1                                   NaN                              NaN   \n2                                   NaN                              NaN   \n3                                   NaN                              NaN   \n4                                   NaN                              NaN   \n5                                   NaN                              NaN   \n6                                   NaN                              NaN   \n7                                   NaN                              NaN   \n8                                   NaN                              NaN   \n9                                   NaN                              NaN   \n10                                  NaN                              NaN   \n11                                  NaN                              NaN   \n12                                  NaN                              NaN   \n13                                  NaN                              NaN   \n14                                  NaN                              NaN   \n15                                  NaN                              NaN   \n16                                  NaN                              NaN   \n17                                  NaN                              NaN   \n18                                  NaN                              NaN   \n19                                  NaN                              NaN   \n\n   cocoa_100g chlorophyl_100g carbon-footprint_100g nutrition-score-fr_100g  \\\n0         NaN             NaN                   NaN                     NaN   \n1         NaN             NaN                   NaN                    14.0   \n2         NaN             NaN                   NaN                     0.0   \n3         NaN             NaN                   NaN                    12.0   \n4         NaN             NaN                   NaN                     NaN   \n5         NaN             NaN                   NaN                     NaN   \n6         NaN             NaN                   NaN                     NaN   \n7         NaN             NaN                   NaN                     7.0   \n8         NaN             NaN                   NaN                     NaN   \n9         NaN             NaN                   NaN                     NaN   \n10        NaN             NaN                   NaN                     NaN   \n11        NaN             NaN                   NaN                     NaN   \n12        NaN             NaN                   NaN                    12.0   \n13        NaN             NaN                   NaN                     NaN   \n14        NaN             NaN                   NaN                     NaN   \n15        NaN             NaN                   NaN                     0.0   \n16        NaN             NaN                   NaN                     0.0   \n17        NaN             NaN                   NaN                     NaN   \n18        NaN             NaN                   NaN                     NaN   \n19        NaN             NaN                   NaN                    -6.0   \n\n   nutrition-score-uk_100g glycemic-index_100g water-hardness_100g  \n0                      NaN                 NaN                 NaN  \n1                     14.0                 NaN                 NaN  \n2                      0.0                 NaN                 NaN  \n3                     12.0                 NaN                 NaN  \n4                      NaN                 NaN                 NaN  \n5                      NaN                 NaN                 NaN  \n6                      NaN                 NaN                 NaN  \n7                      7.0                 NaN                 NaN  \n8                      NaN                 NaN                 NaN  \n9                      NaN                 NaN                 NaN  \n10                     NaN                 NaN                 NaN  \n11                     NaN                 NaN                 NaN  \n12                    12.0                 NaN                 NaN  \n13                     NaN                 NaN                 NaN  \n14                     NaN                 NaN                 NaN  \n15                     0.0                 NaN                 NaN  \n16                     0.0                 NaN                 NaN  \n17                     NaN                 NaN                 NaN  \n18                     NaN                 NaN                 NaN  \n19                    -6.0                 NaN                 NaN  \n\n[20 rows x 163 columns]",
      "text/html": "<div>\n<style scoped>\n    .dataframe tbody tr th:only-of-type {\n        vertical-align: middle;\n    }\n\n    .dataframe tbody tr th {\n        vertical-align: top;\n    }\n\n    .dataframe thead th {\n        text-align: right;\n    }\n</style>\n<table border=\"1\" class=\"dataframe\">\n  <thead>\n    <tr style=\"text-align: right;\">\n      <th></th>\n      <th>code</th>\n      <th>url</th>\n      <th>creator</th>\n      <th>created_t</th>\n      <th>created_datetime</th>\n      <th>last_modified_t</th>\n      <th>last_modified_datetime</th>\n      <th>product_name</th>\n      <th>generic_name</th>\n      <th>quantity</th>\n      <th>...</th>\n      <th>fruits-vegetables-nuts_100g</th>\n      <th>fruits-vegetables-nuts-estimate_100g</th>\n      <th>collagen-meat-protein-ratio_100g</th>\n      <th>cocoa_100g</th>\n      <th>chlorophyl_100g</th>\n      <th>carbon-footprint_100g</th>\n      <th>nutrition-score-fr_100g</th>\n      <th>nutrition-score-uk_100g</th>\n      <th>glycemic-index_100g</th>\n      <th>water-hardness_100g</th>\n    </tr>\n  </thead>\n  <tbody>\n    <tr>\n      <th>0</th>\n      <td>3087</td>\n      <td>http://world-en.openfoodfacts.org/product/0000...</td>\n      <td>openfoodfacts-contributors</td>\n      <td>1474103866</td>\n      <td>2016-09-17T09:17:46Z</td>\n      <td>1474103893</td>\n      <td>2016-09-17T09:18:13Z</td>\n      <td>Farine de blé noir</td>\n      <td>NaN</td>\n      <td>1kg</td>\n      <td>...</td>\n      <td>NaN</td>\n      <td>NaN</td>\n      <td>NaN</td>\n      <td>NaN</td>\n      <td>NaN</td>\n      <td>NaN</td>\n      <td>NaN</td>\n      <td>NaN</td>\n      <td>NaN</td>\n      <td>NaN</td>\n    </tr>\n    <tr>\n      <th>1</th>\n      <td>4530</td>\n      <td>http://world-en.openfoodfacts.org/product/0000...</td>\n      <td>usda-ndb-import</td>\n      <td>1489069957</td>\n      <td>2017-03-09T14:32:37Z</td>\n      <td>1489069957</td>\n      <td>2017-03-09T14:32:37Z</td>\n      <td>Banana Chips Sweetened (Whole)</td>\n      <td>NaN</td>\n      <td>NaN</td>\n      <td>...</td>\n      <td>NaN</td>\n      <td>NaN</td>\n      <td>NaN</td>\n      <td>NaN</td>\n      <td>NaN</td>\n      <td>NaN</td>\n      <td>14.0</td>\n      <td>14.0</td>\n      <td>NaN</td>\n      <td>NaN</td>\n    </tr>\n    <tr>\n      <th>2</th>\n      <td>4559</td>\n      <td>http://world-en.openfoodfacts.org/product/0000...</td>\n      <td>usda-ndb-import</td>\n      <td>1489069957</td>\n      <td>2017-03-09T14:32:37Z</td>\n      <td>1489069957</td>\n      <td>2017-03-09T14:32:37Z</td>\n      <td>Peanuts</td>\n      <td>NaN</td>\n      <td>NaN</td>\n      <td>...</td>\n      <td>NaN</td>\n      <td>NaN</td>\n      <td>NaN</td>\n      <td>NaN</td>\n      <td>NaN</td>\n      <td>NaN</td>\n      <td>0.0</td>\n      <td>0.0</td>\n      <td>NaN</td>\n      <td>NaN</td>\n    </tr>\n    <tr>\n      <th>3</th>\n      <td>16087</td>\n      <td>http://world-en.openfoodfacts.org/product/0000...</td>\n      <td>usda-ndb-import</td>\n      <td>1489055731</td>\n      <td>2017-03-09T10:35:31Z</td>\n      <td>1489055731</td>\n      <td>2017-03-09T10:35:31Z</td>\n      <td>Organic Salted Nut Mix</td>\n      <td>NaN</td>\n      <td>NaN</td>\n      <td>...</td>\n      <td>NaN</td>\n      <td>NaN</td>\n      <td>NaN</td>\n      <td>NaN</td>\n      <td>NaN</td>\n      <td>NaN</td>\n      <td>12.0</td>\n      <td>12.0</td>\n      <td>NaN</td>\n      <td>NaN</td>\n    </tr>\n    <tr>\n      <th>4</th>\n      <td>16094</td>\n      <td>http://world-en.openfoodfacts.org/product/0000...</td>\n      <td>usda-ndb-import</td>\n      <td>1489055653</td>\n      <td>2017-03-09T10:34:13Z</td>\n      <td>1489055653</td>\n      <td>2017-03-09T10:34:13Z</td>\n      <td>Organic Polenta</td>\n      <td>NaN</td>\n      <td>NaN</td>\n      <td>...</td>\n      <td>NaN</td>\n      <td>NaN</td>\n      <td>NaN</td>\n      <td>NaN</td>\n      <td>NaN</td>\n      <td>NaN</td>\n      <td>NaN</td>\n      <td>NaN</td>\n      <td>NaN</td>\n      <td>NaN</td>\n    </tr>\n    <tr>\n      <th>5</th>\n      <td>16100</td>\n      <td>http://world-en.openfoodfacts.org/product/0000...</td>\n      <td>usda-ndb-import</td>\n      <td>1489055651</td>\n      <td>2017-03-09T10:34:11Z</td>\n      <td>1489055651</td>\n      <td>2017-03-09T10:34:11Z</td>\n      <td>Breadshop Honey Gone Nuts Granola</td>\n      <td>NaN</td>\n      <td>NaN</td>\n      <td>...</td>\n      <td>NaN</td>\n      <td>NaN</td>\n      <td>NaN</td>\n      <td>NaN</td>\n      <td>NaN</td>\n      <td>NaN</td>\n      <td>NaN</td>\n      <td>NaN</td>\n      <td>NaN</td>\n      <td>NaN</td>\n    </tr>\n    <tr>\n      <th>6</th>\n      <td>16117</td>\n      <td>http://world-en.openfoodfacts.org/product/0000...</td>\n      <td>usda-ndb-import</td>\n      <td>1489055730</td>\n      <td>2017-03-09T10:35:30Z</td>\n      <td>1489055730</td>\n      <td>2017-03-09T10:35:30Z</td>\n      <td>Organic Long Grain White Rice</td>\n      <td>NaN</td>\n      <td>NaN</td>\n      <td>...</td>\n      <td>NaN</td>\n      <td>NaN</td>\n      <td>NaN</td>\n      <td>NaN</td>\n      <td>NaN</td>\n      <td>NaN</td>\n      <td>NaN</td>\n      <td>NaN</td>\n      <td>NaN</td>\n      <td>NaN</td>\n    </tr>\n    <tr>\n      <th>7</th>\n      <td>16124</td>\n      <td>http://world-en.openfoodfacts.org/product/0000...</td>\n      <td>usda-ndb-import</td>\n      <td>1489055711</td>\n      <td>2017-03-09T10:35:11Z</td>\n      <td>1489055712</td>\n      <td>2017-03-09T10:35:12Z</td>\n      <td>Organic Muesli</td>\n      <td>NaN</td>\n      <td>NaN</td>\n      <td>...</td>\n      <td>NaN</td>\n      <td>NaN</td>\n      <td>NaN</td>\n      <td>NaN</td>\n      <td>NaN</td>\n      <td>NaN</td>\n      <td>7.0</td>\n      <td>7.0</td>\n      <td>NaN</td>\n      <td>NaN</td>\n    </tr>\n    <tr>\n      <th>8</th>\n      <td>16193</td>\n      <td>http://world-en.openfoodfacts.org/product/0000...</td>\n      <td>usda-ndb-import</td>\n      <td>1489055651</td>\n      <td>2017-03-09T10:34:11Z</td>\n      <td>1489055651</td>\n      <td>2017-03-09T10:34:11Z</td>\n      <td>Organic Dark Chocolate Minis</td>\n      <td>NaN</td>\n      <td>NaN</td>\n      <td>...</td>\n      <td>NaN</td>\n      <td>NaN</td>\n      <td>NaN</td>\n      <td>NaN</td>\n      <td>NaN</td>\n      <td>NaN</td>\n      <td>NaN</td>\n      <td>NaN</td>\n      <td>NaN</td>\n      <td>NaN</td>\n    </tr>\n    <tr>\n      <th>9</th>\n      <td>16513</td>\n      <td>http://world-en.openfoodfacts.org/product/0000...</td>\n      <td>usda-ndb-import</td>\n      <td>1489055654</td>\n      <td>2017-03-09T10:34:14Z</td>\n      <td>1489055654</td>\n      <td>2017-03-09T10:34:14Z</td>\n      <td>Organic Sunflower Oil</td>\n      <td>NaN</td>\n      <td>NaN</td>\n      <td>...</td>\n      <td>NaN</td>\n      <td>NaN</td>\n      <td>NaN</td>\n      <td>NaN</td>\n      <td>NaN</td>\n      <td>NaN</td>\n      <td>NaN</td>\n      <td>NaN</td>\n      <td>NaN</td>\n      <td>NaN</td>\n    </tr>\n    <tr>\n      <th>10</th>\n      <td>16612</td>\n      <td>http://world-en.openfoodfacts.org/product/0000...</td>\n      <td>usda-ndb-import</td>\n      <td>1489055731</td>\n      <td>2017-03-09T10:35:31Z</td>\n      <td>1489055731</td>\n      <td>2017-03-09T10:35:31Z</td>\n      <td>Organic Adzuki Beans</td>\n      <td>NaN</td>\n      <td>NaN</td>\n      <td>...</td>\n      <td>NaN</td>\n      <td>NaN</td>\n      <td>NaN</td>\n      <td>NaN</td>\n      <td>NaN</td>\n      <td>NaN</td>\n      <td>NaN</td>\n      <td>NaN</td>\n      <td>NaN</td>\n      <td>NaN</td>\n    </tr>\n    <tr>\n      <th>11</th>\n      <td>16650</td>\n      <td>http://world-en.openfoodfacts.org/product/0000...</td>\n      <td>usda-ndb-import</td>\n      <td>1489055668</td>\n      <td>2017-03-09T10:34:28Z</td>\n      <td>1489055668</td>\n      <td>2017-03-09T10:34:28Z</td>\n      <td>Organic Penne Pasta</td>\n      <td>NaN</td>\n      <td>NaN</td>\n      <td>...</td>\n      <td>NaN</td>\n      <td>NaN</td>\n      <td>NaN</td>\n      <td>NaN</td>\n      <td>NaN</td>\n      <td>NaN</td>\n      <td>NaN</td>\n      <td>NaN</td>\n      <td>NaN</td>\n      <td>NaN</td>\n    </tr>\n    <tr>\n      <th>12</th>\n      <td>16872</td>\n      <td>http://world-en.openfoodfacts.org/product/0000...</td>\n      <td>usda-ndb-import</td>\n      <td>1489055650</td>\n      <td>2017-03-09T10:34:10Z</td>\n      <td>1489055651</td>\n      <td>2017-03-09T10:34:11Z</td>\n      <td>Zen Party Mix</td>\n      <td>NaN</td>\n      <td>NaN</td>\n      <td>...</td>\n      <td>NaN</td>\n      <td>NaN</td>\n      <td>NaN</td>\n      <td>NaN</td>\n      <td>NaN</td>\n      <td>NaN</td>\n      <td>12.0</td>\n      <td>12.0</td>\n      <td>NaN</td>\n      <td>NaN</td>\n    </tr>\n    <tr>\n      <th>13</th>\n      <td>16933</td>\n      <td>http://world-en.openfoodfacts.org/product/0000...</td>\n      <td>usda-ndb-import</td>\n      <td>1489055651</td>\n      <td>2017-03-09T10:34:11Z</td>\n      <td>1489055651</td>\n      <td>2017-03-09T10:34:11Z</td>\n      <td>Organic Golden Flax Seeds</td>\n      <td>NaN</td>\n      <td>NaN</td>\n      <td>...</td>\n      <td>NaN</td>\n      <td>NaN</td>\n      <td>NaN</td>\n      <td>NaN</td>\n      <td>NaN</td>\n      <td>NaN</td>\n      <td>NaN</td>\n      <td>NaN</td>\n      <td>NaN</td>\n      <td>NaN</td>\n    </tr>\n    <tr>\n      <th>14</th>\n      <td>17497</td>\n      <td>http://world-en.openfoodfacts.org/product/0000...</td>\n      <td>usda-ndb-import</td>\n      <td>1489055678</td>\n      <td>2017-03-09T10:34:38Z</td>\n      <td>1489055678</td>\n      <td>2017-03-09T10:34:38Z</td>\n      <td>Organic Spicy Punks</td>\n      <td>NaN</td>\n      <td>NaN</td>\n      <td>...</td>\n      <td>NaN</td>\n      <td>NaN</td>\n      <td>NaN</td>\n      <td>NaN</td>\n      <td>NaN</td>\n      <td>NaN</td>\n      <td>NaN</td>\n      <td>NaN</td>\n      <td>NaN</td>\n      <td>NaN</td>\n    </tr>\n    <tr>\n      <th>15</th>\n      <td>18012</td>\n      <td>http://world-en.openfoodfacts.org/product/0000...</td>\n      <td>usda-ndb-import</td>\n      <td>1489055652</td>\n      <td>2017-03-09T10:34:12Z</td>\n      <td>1489055653</td>\n      <td>2017-03-09T10:34:13Z</td>\n      <td>Cinnamon Nut Granola</td>\n      <td>NaN</td>\n      <td>NaN</td>\n      <td>...</td>\n      <td>NaN</td>\n      <td>NaN</td>\n      <td>NaN</td>\n      <td>NaN</td>\n      <td>NaN</td>\n      <td>NaN</td>\n      <td>0.0</td>\n      <td>0.0</td>\n      <td>NaN</td>\n      <td>NaN</td>\n    </tr>\n    <tr>\n      <th>16</th>\n      <td>18050</td>\n      <td>http://world-en.openfoodfacts.org/product/0000...</td>\n      <td>usda-ndb-import</td>\n      <td>1489050462</td>\n      <td>2017-03-09T09:07:42Z</td>\n      <td>1489050462</td>\n      <td>2017-03-09T09:07:42Z</td>\n      <td>Organic Hazelnuts</td>\n      <td>NaN</td>\n      <td>NaN</td>\n      <td>...</td>\n      <td>NaN</td>\n      <td>NaN</td>\n      <td>NaN</td>\n      <td>NaN</td>\n      <td>NaN</td>\n      <td>NaN</td>\n      <td>0.0</td>\n      <td>0.0</td>\n      <td>NaN</td>\n      <td>NaN</td>\n    </tr>\n    <tr>\n      <th>17</th>\n      <td>18173</td>\n      <td>http://world-en.openfoodfacts.org/product/0000...</td>\n      <td>usda-ndb-import</td>\n      <td>1489055667</td>\n      <td>2017-03-09T10:34:27Z</td>\n      <td>1489055667</td>\n      <td>2017-03-09T10:34:27Z</td>\n      <td>Organic Sweetened Banana Chips</td>\n      <td>NaN</td>\n      <td>NaN</td>\n      <td>...</td>\n      <td>NaN</td>\n      <td>NaN</td>\n      <td>NaN</td>\n      <td>NaN</td>\n      <td>NaN</td>\n      <td>NaN</td>\n      <td>NaN</td>\n      <td>NaN</td>\n      <td>NaN</td>\n      <td>NaN</td>\n    </tr>\n    <tr>\n      <th>18</th>\n      <td>18197</td>\n      <td>http://world-en.openfoodfacts.org/product/0000...</td>\n      <td>usda-ndb-import</td>\n      <td>1489055652</td>\n      <td>2017-03-09T10:34:12Z</td>\n      <td>1489055652</td>\n      <td>2017-03-09T10:34:12Z</td>\n      <td>Lotus Organic Brown Jasmine Rice</td>\n      <td>NaN</td>\n      <td>NaN</td>\n      <td>...</td>\n      <td>NaN</td>\n      <td>NaN</td>\n      <td>NaN</td>\n      <td>NaN</td>\n      <td>NaN</td>\n      <td>NaN</td>\n      <td>NaN</td>\n      <td>NaN</td>\n      <td>NaN</td>\n      <td>NaN</td>\n    </tr>\n    <tr>\n      <th>19</th>\n      <td>18227</td>\n      <td>http://world-en.openfoodfacts.org/product/0000...</td>\n      <td>usda-ndb-import</td>\n      <td>1489055682</td>\n      <td>2017-03-09T10:34:42Z</td>\n      <td>1489055682</td>\n      <td>2017-03-09T10:34:42Z</td>\n      <td>Organic Oat Groats</td>\n      <td>NaN</td>\n      <td>NaN</td>\n      <td>...</td>\n      <td>NaN</td>\n      <td>NaN</td>\n      <td>NaN</td>\n      <td>NaN</td>\n      <td>NaN</td>\n      <td>NaN</td>\n      <td>-6.0</td>\n      <td>-6.0</td>\n      <td>NaN</td>\n      <td>NaN</td>\n    </tr>\n  </tbody>\n</table>\n<p>20 rows × 163 columns</p>\n</div>"
     },
     "metadata": {},
     "execution_count": 12
    }
   ],
   "source": [
    "food.head(20)"
   ]
  }
 ],
 "metadata": {
  "anaconda-cloud": {},
  "kernelspec": {
   "display_name": "Python 3.8.3 64-bit",
   "language": "python",
   "name": "python_defaultSpec_1594295113459"
  },
  "language_info": {
   "codemirror_mode": {
    "name": "ipython",
    "version": 3
   },
   "file_extension": ".py",
   "mimetype": "text/x-python",
   "name": "python",
   "nbconvert_exporter": "python",
   "pygments_lexer": "ipython3",
   "version": "3.7.4-final"
  }
 },
 "nbformat": 4,
 "nbformat_minor": 1
}