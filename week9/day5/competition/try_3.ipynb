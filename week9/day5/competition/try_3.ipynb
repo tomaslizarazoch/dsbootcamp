{
 "cells": [
  {
   "cell_type": "markdown",
   "metadata": {},
   "source": [
    "![image](how.png)"
   ]
  },
  {
   "cell_type": "markdown",
   "metadata": {},
   "source": [
    "**\"Should I Stay or Should i Go (from the Hospital)\"**"
   ]
  },
  {
   "cell_type": "code",
   "execution_count": 9,
   "metadata": {},
   "outputs": [],
   "source": [
    "import pandas as pd\n",
    "import numpy as np\n",
    "from sklearn import linear_model\n",
    "# la otra forma, pero lo mismo: from sklearn.linear_model import LogisticRegression\n",
    "from sklearn.model_selection import train_test_split\n",
    "\n",
    "import warnings\n",
    "warnings.filterwarnings('ignore')"
   ]
  },
  {
   "cell_type": "code",
   "execution_count": 10,
   "metadata": {},
   "outputs": [],
   "source": [
    "df = pd.read_csv(\"/Users/Tomi/Desktop/my_git/dsbootcamp/week9/day5/competition/how-long-would-you-stay/train_set.csv\")"
   ]
  },
  {
   "cell_type": "code",
   "execution_count": 11,
   "metadata": {
    "tags": []
   },
   "outputs": [
    {
     "output_type": "stream",
     "name": "stdout",
     "text": "<class 'pandas.core.frame.DataFrame'>\nRangeIndex: 100000 entries, 0 to 99999\nData columns (total 18 columns):\n #   Column  Non-Null Count   Dtype  \n---  ------  --------------   -----  \n 0   0       100000 non-null  int64  \n 1   1       100000 non-null  int64  \n 2   2       100000 non-null  object \n 3   3       100000 non-null  int64  \n 4   4       100000 non-null  object \n 5   5       100000 non-null  int64  \n 6   6       100000 non-null  object \n 7   7       100000 non-null  object \n 8   8       100000 non-null  object \n 9   9       99967 non-null   float64\n 10  10      100000 non-null  int64  \n 11  11      98517 non-null   float64\n 12  12      100000 non-null  object \n 13  13      100000 non-null  object \n 14  14      100000 non-null  int64  \n 15  15      100000 non-null  object \n 16  16      100000 non-null  float64\n 17  17      100000 non-null  object \ndtypes: float64(3), int64(6), object(9)\nmemory usage: 13.7+ MB\n"
    }
   ],
   "source": [
    "df.info()"
   ]
  },
  {
   "cell_type": "code",
   "execution_count": 12,
   "metadata": {},
   "outputs": [
    {
     "output_type": "execute_result",
     "data": {
      "text/plain": "(100000, 18)"
     },
     "metadata": {},
     "execution_count": 12
    }
   ],
   "source": [
    "df.shape\n"
   ]
  },
  {
   "cell_type": "code",
   "execution_count": 13,
   "metadata": {},
   "outputs": [
    {
     "output_type": "execute_result",
     "data": {
      "text/plain": "        0   1  2  3  4  5           6  7  8    9      10    11         12  \\\n0  161528   6  a  6  X  2  gynecology  R  F  4.0   45810   2.0     Urgent   \n1  159472  23  a  6  X  4  gynecology  Q  F  2.0  128565  15.0     Trauma   \n2  309765   2  c  5  Z  2  anesthesia  S  F  3.0   46565   5.0     Urgent   \n3  279614  32  f  9  Y  3  gynecology  S  B  4.0  124546   6.0  Emergency   \n4  147791  14  a  1  X  3  gynecology  S  E  2.0   22729   8.0     Urgent   \n\n         13  14     15      16     17  \n0  Moderate   2  21-30  2817.0   0-10  \n1  Moderate   4  51-60  4498.0  21-30  \n2  Moderate   2  71-80  4573.0  11-20  \n3  Moderate   4  11-20  7202.0  51-60  \n4  Moderate   2  51-60  3398.0  51-60  ",
      "text/html": "<div>\n<style scoped>\n    .dataframe tbody tr th:only-of-type {\n        vertical-align: middle;\n    }\n\n    .dataframe tbody tr th {\n        vertical-align: top;\n    }\n\n    .dataframe thead th {\n        text-align: right;\n    }\n</style>\n<table border=\"1\" class=\"dataframe\">\n  <thead>\n    <tr style=\"text-align: right;\">\n      <th></th>\n      <th>0</th>\n      <th>1</th>\n      <th>2</th>\n      <th>3</th>\n      <th>4</th>\n      <th>5</th>\n      <th>6</th>\n      <th>7</th>\n      <th>8</th>\n      <th>9</th>\n      <th>10</th>\n      <th>11</th>\n      <th>12</th>\n      <th>13</th>\n      <th>14</th>\n      <th>15</th>\n      <th>16</th>\n      <th>17</th>\n    </tr>\n  </thead>\n  <tbody>\n    <tr>\n      <th>0</th>\n      <td>161528</td>\n      <td>6</td>\n      <td>a</td>\n      <td>6</td>\n      <td>X</td>\n      <td>2</td>\n      <td>gynecology</td>\n      <td>R</td>\n      <td>F</td>\n      <td>4.0</td>\n      <td>45810</td>\n      <td>2.0</td>\n      <td>Urgent</td>\n      <td>Moderate</td>\n      <td>2</td>\n      <td>21-30</td>\n      <td>2817.0</td>\n      <td>0-10</td>\n    </tr>\n    <tr>\n      <th>1</th>\n      <td>159472</td>\n      <td>23</td>\n      <td>a</td>\n      <td>6</td>\n      <td>X</td>\n      <td>4</td>\n      <td>gynecology</td>\n      <td>Q</td>\n      <td>F</td>\n      <td>2.0</td>\n      <td>128565</td>\n      <td>15.0</td>\n      <td>Trauma</td>\n      <td>Moderate</td>\n      <td>4</td>\n      <td>51-60</td>\n      <td>4498.0</td>\n      <td>21-30</td>\n    </tr>\n    <tr>\n      <th>2</th>\n      <td>309765</td>\n      <td>2</td>\n      <td>c</td>\n      <td>5</td>\n      <td>Z</td>\n      <td>2</td>\n      <td>anesthesia</td>\n      <td>S</td>\n      <td>F</td>\n      <td>3.0</td>\n      <td>46565</td>\n      <td>5.0</td>\n      <td>Urgent</td>\n      <td>Moderate</td>\n      <td>2</td>\n      <td>71-80</td>\n      <td>4573.0</td>\n      <td>11-20</td>\n    </tr>\n    <tr>\n      <th>3</th>\n      <td>279614</td>\n      <td>32</td>\n      <td>f</td>\n      <td>9</td>\n      <td>Y</td>\n      <td>3</td>\n      <td>gynecology</td>\n      <td>S</td>\n      <td>B</td>\n      <td>4.0</td>\n      <td>124546</td>\n      <td>6.0</td>\n      <td>Emergency</td>\n      <td>Moderate</td>\n      <td>4</td>\n      <td>11-20</td>\n      <td>7202.0</td>\n      <td>51-60</td>\n    </tr>\n    <tr>\n      <th>4</th>\n      <td>147791</td>\n      <td>14</td>\n      <td>a</td>\n      <td>1</td>\n      <td>X</td>\n      <td>3</td>\n      <td>gynecology</td>\n      <td>S</td>\n      <td>E</td>\n      <td>2.0</td>\n      <td>22729</td>\n      <td>8.0</td>\n      <td>Urgent</td>\n      <td>Moderate</td>\n      <td>2</td>\n      <td>51-60</td>\n      <td>3398.0</td>\n      <td>51-60</td>\n    </tr>\n  </tbody>\n</table>\n</div>"
     },
     "metadata": {},
     "execution_count": 13
    }
   ],
   "source": [
    "df.head()"
   ]
  },
  {
   "cell_type": "code",
   "execution_count": 14,
   "metadata": {},
   "outputs": [
    {
     "output_type": "execute_result",
     "data": {
      "text/plain": "       0   1  2   3  4   5           6  7  8    9      10   11      12  \\\n0  161528   6  a   6  X   2  gynecology  R  F  4.0  45810  2.0  Urgent   \n\n         13  14     15      16    17  \n0  Moderate   2  21-30  2817.0  0-10  ",
      "text/html": "<div>\n<style scoped>\n    .dataframe tbody tr th:only-of-type {\n        vertical-align: middle;\n    }\n\n    .dataframe tbody tr th {\n        vertical-align: top;\n    }\n\n    .dataframe thead th {\n        text-align: right;\n    }\n</style>\n<table border=\"1\" class=\"dataframe\">\n  <thead>\n    <tr style=\"text-align: right;\">\n      <th></th>\n      <th>0</th>\n      <th>1</th>\n      <th>2</th>\n      <th>3</th>\n      <th>4</th>\n      <th>5</th>\n      <th>6</th>\n      <th>7</th>\n      <th>8</th>\n      <th>9</th>\n      <th>10</th>\n      <th>11</th>\n      <th>12</th>\n      <th>13</th>\n      <th>14</th>\n      <th>15</th>\n      <th>16</th>\n      <th>17</th>\n    </tr>\n  </thead>\n  <tbody>\n    <tr>\n      <th>0</th>\n      <td>161528</td>\n      <td>6</td>\n      <td>a</td>\n      <td>6</td>\n      <td>X</td>\n      <td>2</td>\n      <td>gynecology</td>\n      <td>R</td>\n      <td>F</td>\n      <td>4.0</td>\n      <td>45810</td>\n      <td>2.0</td>\n      <td>Urgent</td>\n      <td>Moderate</td>\n      <td>2</td>\n      <td>21-30</td>\n      <td>2817.0</td>\n      <td>0-10</td>\n    </tr>\n  </tbody>\n</table>\n</div>"
     },
     "metadata": {},
     "execution_count": 14
    }
   ],
   "source": [
    "df.columns = np.arange(len(df.columns))\n",
    "df.head(1)"
   ]
  },
  {
   "cell_type": "code",
   "execution_count": 15,
   "metadata": {
    "tags": []
   },
   "outputs": [
    {
     "output_type": "stream",
     "name": "stdout",
     "text": "<class 'pandas.core.frame.DataFrame'>\nRangeIndex: 100000 entries, 0 to 99999\nData columns (total 18 columns):\n #   Column  Non-Null Count   Dtype  \n---  ------  --------------   -----  \n 0   0       100000 non-null  int64  \n 1   1       100000 non-null  int64  \n 2   2       100000 non-null  object \n 3   3       100000 non-null  int64  \n 4   4       100000 non-null  object \n 5   5       100000 non-null  int64  \n 6   6       100000 non-null  object \n 7   7       100000 non-null  object \n 8   8       100000 non-null  object \n 9   9       99967 non-null   float64\n 10  10      100000 non-null  int64  \n 11  11      98517 non-null   float64\n 12  12      100000 non-null  object \n 13  13      100000 non-null  object \n 14  14      100000 non-null  int64  \n 15  15      100000 non-null  object \n 16  16      100000 non-null  float64\n 17  17      100000 non-null  object \ndtypes: float64(3), int64(6), object(9)\nmemory usage: 13.7+ MB\n"
    }
   ],
   "source": [
    "df.info()"
   ]
  },
  {
   "cell_type": "code",
   "execution_count": 16,
   "metadata": {},
   "outputs": [
    {
     "output_type": "execute_result",
     "data": {
      "text/plain": "       0   1  2   3  4   5           6  7  8    9      10   11      12  \\\n0  161528   6  a   6  X   2  gynecology  R  F  4.0  45810  2.0  Urgent   \n\n         13  14     15      16  17  \n0  Moderate   2  21-30  2817.0   0  ",
      "text/html": "<div>\n<style scoped>\n    .dataframe tbody tr th:only-of-type {\n        vertical-align: middle;\n    }\n\n    .dataframe tbody tr th {\n        vertical-align: top;\n    }\n\n    .dataframe thead th {\n        text-align: right;\n    }\n</style>\n<table border=\"1\" class=\"dataframe\">\n  <thead>\n    <tr style=\"text-align: right;\">\n      <th></th>\n      <th>0</th>\n      <th>1</th>\n      <th>2</th>\n      <th>3</th>\n      <th>4</th>\n      <th>5</th>\n      <th>6</th>\n      <th>7</th>\n      <th>8</th>\n      <th>9</th>\n      <th>10</th>\n      <th>11</th>\n      <th>12</th>\n      <th>13</th>\n      <th>14</th>\n      <th>15</th>\n      <th>16</th>\n      <th>17</th>\n    </tr>\n  </thead>\n  <tbody>\n    <tr>\n      <th>0</th>\n      <td>161528</td>\n      <td>6</td>\n      <td>a</td>\n      <td>6</td>\n      <td>X</td>\n      <td>2</td>\n      <td>gynecology</td>\n      <td>R</td>\n      <td>F</td>\n      <td>4.0</td>\n      <td>45810</td>\n      <td>2.0</td>\n      <td>Urgent</td>\n      <td>Moderate</td>\n      <td>2</td>\n      <td>21-30</td>\n      <td>2817.0</td>\n      <td>0</td>\n    </tr>\n  </tbody>\n</table>\n</div>"
     },
     "metadata": {},
     "execution_count": 16
    }
   ],
   "source": [
    "from sklearn import preprocessing\n",
    "le = preprocessing.LabelEncoder()\n",
    "df[17] = le.fit_transform(df[17])\n",
    "df.head(1)"
   ]
  },
  {
   "cell_type": "code",
   "execution_count": 18,
   "metadata": {},
   "outputs": [
    {
     "output_type": "execute_result",
     "data": {
      "text/plain": "       0   1  2   3  4   5   6  7  8    9      10   11  12  13  14     15  \\\n0  161528   6  a   6  X   2   2  R  F  4.0  45810  2.0   2   2   2  21-30   \n\n       16  17  \n0  2817.0   0  ",
      "text/html": "<div>\n<style scoped>\n    .dataframe tbody tr th:only-of-type {\n        vertical-align: middle;\n    }\n\n    .dataframe tbody tr th {\n        vertical-align: top;\n    }\n\n    .dataframe thead th {\n        text-align: right;\n    }\n</style>\n<table border=\"1\" class=\"dataframe\">\n  <thead>\n    <tr style=\"text-align: right;\">\n      <th></th>\n      <th>0</th>\n      <th>1</th>\n      <th>2</th>\n      <th>3</th>\n      <th>4</th>\n      <th>5</th>\n      <th>6</th>\n      <th>7</th>\n      <th>8</th>\n      <th>9</th>\n      <th>10</th>\n      <th>11</th>\n      <th>12</th>\n      <th>13</th>\n      <th>14</th>\n      <th>15</th>\n      <th>16</th>\n      <th>17</th>\n    </tr>\n  </thead>\n  <tbody>\n    <tr>\n      <th>0</th>\n      <td>161528</td>\n      <td>6</td>\n      <td>a</td>\n      <td>6</td>\n      <td>X</td>\n      <td>2</td>\n      <td>2</td>\n      <td>R</td>\n      <td>F</td>\n      <td>4.0</td>\n      <td>45810</td>\n      <td>2.0</td>\n      <td>2</td>\n      <td>2</td>\n      <td>2</td>\n      <td>21-30</td>\n      <td>2817.0</td>\n      <td>0</td>\n    </tr>\n  </tbody>\n</table>\n</div>"
     },
     "metadata": {},
     "execution_count": 18
    }
   ],
   "source": [
    "\n",
    "df[13] = le.fit_transform(df[13])\n",
    "df[12] = le.fit_transform(df[15])\n",
    "df[6] = le.fit_transform(df[6])\n",
    "df.head(1)"
   ]
  },
  {
   "cell_type": "code",
   "execution_count": 19,
   "metadata": {},
   "outputs": [
    {
     "output_type": "execute_result",
     "data": {
      "text/plain": "2     27452\n1     24476\n3     17311\n5     10984\n0      7427\n4      3668\n7      3297\n10     2150\n8      1470\n9       908\n6       857\nName: 17, dtype: int64"
     },
     "metadata": {},
     "execution_count": 19
    }
   ],
   "source": [
    "# PROBLEMA DE CLASIFICACIÓN\n",
    "df[17].value_counts()"
   ]
  },
  {
   "cell_type": "code",
   "execution_count": 11,
   "metadata": {},
   "outputs": [],
   "source": [
    "def encoder_serie(serie):\n",
    "    encoder = {}\n",
    "    for i, x in enumerate(serie):\n",
    "        if not (x in encoder):\n",
    "            encoder[x] = i\n",
    "    serie = serie.map(encoder)\n",
    "    return serie, encoder"
   ]
  },
  {
   "cell_type": "code",
   "execution_count": 20,
   "metadata": {},
   "outputs": [],
   "source": [
    "# esto es necesario para evitar futuros errores pero si quitaráis las columnas con Nan no haría falta\n",
    "# Nan no vale pero 0 sí\n",
    "df = df.dropna()\n",
    "# esto quita filas y por tanto no se lo podremos aplicar al dataset de predicción"
   ]
  },
  {
   "cell_type": "code",
   "execution_count": 21,
   "metadata": {},
   "outputs": [],
   "source": [
    "# quitad la primera columna porque corresponde con el case_id y por tanto no le servirá al modelo para aprender...\n",
    "# quitar otras columnas es decisión vuestra como futuros data scientists \n",
    "df.drop([0],1,inplace = True)"
   ]
  },
  {
   "cell_type": "markdown",
   "metadata": {},
   "source": [
    "#### 1. Definir X e y"
   ]
  },
  {
   "cell_type": "code",
   "execution_count": 22,
   "metadata": {},
   "outputs": [
    {
     "output_type": "execute_result",
     "data": {
      "text/plain": "(98484, 1)"
     },
     "metadata": {},
     "execution_count": 22
    }
   ],
   "source": [
    "# coger las columnas 3, 4, 10, 11, 13, 15 para este modelo\n",
    "X = np.array(df[[6]])\n",
    "y = np.array(df[17])\n",
    "X.shape"
   ]
  },
  {
   "cell_type": "code",
   "execution_count": 23,
   "metadata": {},
   "outputs": [],
   "source": [
    "from sklearn.tree import DecisionTreeRegressor\n",
    "from sklearn.ensemble import RandomForestRegressor\n",
    "# evaluate random forest algorithm for classification\n",
    "from numpy import mean\n",
    "from numpy import std\n",
    "import numpy as np\n",
    "from sklearn.model_selection import train_test_split \n",
    "from sklearn.datasets import make_classification\n",
    "from sklearn.model_selection import cross_val_score\n",
    "from sklearn.model_selection import RepeatedStratifiedKFold, RepeatedKFold\n",
    "from sklearn.ensemble import RandomForestClassifier"
   ]
  },
  {
   "cell_type": "markdown",
   "metadata": {},
   "source": [
    "#### 2. Dividir X_train, X_test, y_train, y_test"
   ]
  },
  {
   "cell_type": "code",
   "execution_count": 24,
   "metadata": {},
   "outputs": [],
   "source": [
    "X_train, X_test, y_train, y_test = train_test_split(X, y, test_size=0.20, random_state=2)"
   ]
  },
  {
   "cell_type": "code",
   "execution_count": 25,
   "metadata": {
    "tags": []
   },
   "outputs": [
    {
     "output_type": "stream",
     "name": "stdout",
     "text": "(array([    1,     2,     4, ..., 98480, 98481, 98482]), array([    0,     3,     9, ..., 98469, 98474, 98483]))\n(array([    0,     1,     2, ..., 98479, 98482, 98483]), array([   14,    22,    26, ..., 98475, 98480, 98481]))\n(array([    0,     1,     2, ..., 98481, 98482, 98483]), array([    4,     5,    13, ..., 98472, 98476, 98479]))\n(array([    0,     3,     4, ..., 98480, 98481, 98483]), array([    1,     2,     6, ..., 98477, 98478, 98482]))\n"
    }
   ],
   "source": [
    "random_state = 3\n",
    "rkf = RepeatedKFold(n_splits=4, n_repeats=1, random_state=random_state)\n",
    "for train in rkf.split(X):\n",
    "    print(train)"
   ]
  },
  {
   "cell_type": "markdown",
   "metadata": {},
   "source": [
    "## Kfold method"
   ]
  },
  {
   "cell_type": "code",
   "execution_count": 26,
   "metadata": {
    "tags": []
   },
   "outputs": [
    {
     "output_type": "stream",
     "name": "stdout",
     "text": "[0.27160807 0.28290392 0.2775733  0.26818124 0.27719254 0.28265008\n 0.27338495 0.26110688 0.27748159 0.28014725]\nAccuracy: 0.275 (0.006)\n"
    }
   ],
   "source": [
    "from sklearn.model_selection import KFold\n",
    "\n",
    "# define the model\n",
    "model = RandomForestClassifier()\n",
    "# evaluate the model \n",
    "# THIS DOESN'T TRAIN THE MODEL\n",
    "k_fold = KFold(n_splits=10, random_state=2)\n",
    "n_scores = cross_val_score(model, X_train, y_train, scoring='accuracy', cv=k_fold, n_jobs=-1, error_score='raise')\n",
    "# report performance\n",
    "print(n_scores)\n",
    "print('Accuracy: %.3f (%.3f)' % (mean(n_scores), std(n_scores)))"
   ]
  },
  {
   "cell_type": "code",
   "execution_count": 27,
   "metadata": {},
   "outputs": [
    {
     "output_type": "execute_result",
     "data": {
      "text/plain": "array([[1],\n       [2],\n       [2],\n       ...,\n       [2],\n       [2],\n       [2]])"
     },
     "metadata": {},
     "execution_count": 27
    }
   ],
   "source": [
    "X_train"
   ]
  },
  {
   "cell_type": "markdown",
   "metadata": {},
   "source": [
    "#### 3. Training\n",
    "Aquí meteríais los parámetros"
   ]
  },
  {
   "cell_type": "code",
   "execution_count": 28,
   "metadata": {},
   "outputs": [],
   "source": [
    "import pickle"
   ]
  },
  {
   "cell_type": "markdown",
   "metadata": {},
   "source": [
    "#### 4. Entrenar el modelo con X_train, y_train"
   ]
  },
  {
   "cell_type": "code",
   "execution_count": 29,
   "metadata": {
    "tags": []
   },
   "outputs": [
    {
     "output_type": "stream",
     "name": "stdout",
     "text": "Iteración: 1\ntrain/índices batch: [    0     1     2 ... 78784 78785 78786]\nbatch_size: 74847\nval: [   38    63    77 ... 78709 78711 78712]\nval_size: 3940\nbatch: [[1]\n [2]\n [2]\n ...\n [2]\n [2]\n [2]]\nIteración: 2\ntrain/índices batch: [    0     2     3 ... 78784 78785 78786]\nbatch_size: 74847\nval: [    1    28    30 ... 78707 78742 78775]\nval_size: 3940\nbatch: [[1]\n [2]\n [2]\n ...\n [2]\n [2]\n [2]]\nIteración: 3\ntrain/índices batch: [    0     1     2 ... 78784 78785 78786]\nbatch_size: 74847\nval: [   24    25    84 ... 78699 78725 78780]\nval_size: 3940\nbatch: [[1]\n [2]\n [2]\n ...\n [2]\n [2]\n [2]]\nIteración: 4\ntrain/índices batch: [    0     1     2 ... 78784 78785 78786]\nbatch_size: 74847\nval: [   32    54    67 ... 78723 78759 78766]\nval_size: 3940\nbatch: [[1]\n [2]\n [2]\n ...\n [2]\n [2]\n [2]]\nIteración: 5\ntrain/índices batch: [    0     1     2 ... 78784 78785 78786]\nbatch_size: 74847\nval: [   10    12    19 ... 78743 78744 78765]\nval_size: 3940\nbatch: [[1]\n [2]\n [2]\n ...\n [2]\n [2]\n [2]]\nIteración: 6\ntrain/índices batch: [    0     1     2 ... 78784 78785 78786]\nbatch_size: 74847\nval: [    3    21    64 ... 78720 78758 78781]\nval_size: 3940\nbatch: [[1]\n [2]\n [2]\n ...\n [2]\n [2]\n [2]]\nIteración: 7\ntrain/índices batch: [    0     1     2 ... 78784 78785 78786]\nbatch_size: 74847\nval: [   13    14    29 ... 78740 78763 78778]\nval_size: 3940\nbatch: [[1]\n [2]\n [2]\n ...\n [2]\n [2]\n [2]]\nIteración: 8\ntrain/índices batch: [    0     1     2 ... 78784 78785 78786]\nbatch_size: 74848\nval: [    8    23    44 ... 78774 78776 78783]\nval_size: 3939\nbatch: [[1]\n [2]\n [2]\n ...\n [2]\n [2]\n [2]]\nIteración: 9\ntrain/índices batch: [    0     1     2 ... 78784 78785 78786]\nbatch_size: 74848\nval: [   11    22    40 ... 78688 78714 78738]\nval_size: 3939\nbatch: [[1]\n [2]\n [2]\n ...\n [2]\n [2]\n [2]]\nIteración: 10\ntrain/índices batch: [    0     1     3 ... 78784 78785 78786]\nbatch_size: 74848\nval: [    2    51    69 ... 78722 78747 78768]\nval_size: 3939\nbatch: [[1]\n [2]\n [2]\n ...\n [2]\n [2]\n [2]]\nIteración: 11\ntrain/índices batch: [    0     1     2 ... 78784 78785 78786]\nbatch_size: 74848\nval: [   37    39    50 ... 78696 78715 78745]\nval_size: 3939\nbatch: [[1]\n [2]\n [2]\n ...\n [2]\n [2]\n [2]]\nIteración: 12\ntrain/índices batch: [    0     1     2 ... 78783 78784 78786]\nbatch_size: 74848\nval: [   33    65   131 ... 78750 78772 78785]\nval_size: 3939\nbatch: [[1]\n [2]\n [2]\n ...\n [2]\n [2]\n [2]]\nIteración: 13\ntrain/índices batch: [    0     1     2 ... 78783 78784 78785]\nbatch_size: 74848\nval: [   26    36    55 ... 78761 78764 78786]\nval_size: 3939\nbatch: [[1]\n [2]\n [2]\n ...\n [2]\n [2]\n [2]]\nIteración: 14\ntrain/índices batch: [    0     1     2 ... 78784 78785 78786]\nbatch_size: 74848\nval: [   35    42    43 ... 78645 78700 78760]\nval_size: 3939\nbatch: [[1]\n [2]\n [2]\n ...\n [2]\n [2]\n [2]]\nIteración: 15\ntrain/índices batch: [    1     2     3 ... 78783 78785 78786]\nbatch_size: 74848\nval: [    0     5    20 ... 78730 78732 78784]\nval_size: 3939\nbatch: [[2]\n [2]\n [2]\n ...\n [2]\n [2]\n [2]]\nIteración: 16\ntrain/índices batch: [    0     1     2 ... 78784 78785 78786]\nbatch_size: 74848\nval: [    4     6     7 ... 78771 78773 78779]\nval_size: 3939\nbatch: [[1]\n [2]\n [2]\n ...\n [2]\n [2]\n [2]]\nIteración: 17\ntrain/índices batch: [    0     1     2 ... 78784 78785 78786]\nbatch_size: 74848\nval: [   49    60    76 ... 78757 78777 78782]\nval_size: 3939\nbatch: [[1]\n [2]\n [2]\n ...\n [2]\n [2]\n [2]]\nIteración: 18\ntrain/índices batch: [    0     1     2 ... 78784 78785 78786]\nbatch_size: 74848\nval: [   41    75    80 ... 78690 78734 78754]\nval_size: 3939\nbatch: [[1]\n [2]\n [2]\n ...\n [2]\n [2]\n [2]]\nIteración: 19\ntrain/índices batch: [    0     1     2 ... 78784 78785 78786]\nbatch_size: 74848\nval: [    9    48    59 ... 78752 78762 78767]\nval_size: 3939\nbatch: [[1]\n [2]\n [2]\n ...\n [2]\n [2]\n [2]]\nIteración: 20\ntrain/índices batch: [    0     1     2 ... 78784 78785 78786]\nbatch_size: 74848\nval: [   15    18    27 ... 78727 78741 78769]\nval_size: 3939\nbatch: [[1]\n [2]\n [2]\n ...\n [2]\n [2]\n [2]]\nIteración: 21\ntrain/índices batch: [    0     1     2 ... 78784 78785 78786]\nbatch_size: 74847\nval: [   14    21    27 ... 78718 78723 78735]\nval_size: 3940\nbatch: [[1]\n [2]\n [2]\n ...\n [2]\n [2]\n [2]]\nIteración: 22\ntrain/índices batch: [    0     1     4 ... 78784 78785 78786]\nbatch_size: 74847\nval: [    2     3    24 ... 78764 78777 78781]\nval_size: 3940\nbatch: [[1]\n [2]\n [2]\n ...\n [2]\n [2]\n [2]]\nIteración: 23\ntrain/índices batch: [    0     2     3 ... 78784 78785 78786]\nbatch_size: 74847\nval: [    1     9    19 ... 78766 78769 78772]\nval_size: 3940\nbatch: [[1]\n [2]\n [2]\n ...\n [2]\n [2]\n [2]]\nIteración: 24\ntrain/índices batch: [    0     1     2 ... 78784 78785 78786]\nbatch_size: 74847\nval: [   22    36    67 ... 78727 78729 78739]\nval_size: 3940\nbatch: [[1]\n [2]\n [2]\n ...\n [2]\n [2]\n [2]]\nIteración: 25\ntrain/índices batch: [    0     1     2 ... 78784 78785 78786]\nbatch_size: 74847\nval: [    5    11    46 ... 78758 78767 78773]\nval_size: 3940\nbatch: [[1]\n [2]\n [2]\n ...\n [2]\n [2]\n [2]]\nIteración: 26\ntrain/índices batch: [    0     1     2 ... 78784 78785 78786]\nbatch_size: 74847\nval: [   31    54    86 ... 78744 78770 78782]\nval_size: 3940\nbatch: [[1]\n [2]\n [2]\n ...\n [2]\n [2]\n [2]]\nIteración: 27\ntrain/índices batch: [    1     2     3 ... 78784 78785 78786]\nbatch_size: 74847\nval: [    0    10    20 ... 78751 78754 78755]\nval_size: 3940\nbatch: [[2]\n [2]\n [2]\n ...\n [2]\n [2]\n [2]]\nIteración: 28\ntrain/índices batch: [    0     1     2 ... 78784 78785 78786]\nbatch_size: 74848\nval: [   32    38    43 ... 78633 78710 78738]\nval_size: 3939\nbatch: [[1]\n [2]\n [2]\n ...\n [2]\n [2]\n [2]]\nIteración: 29\ntrain/índices batch: [    0     1     2 ... 78784 78785 78786]\nbatch_size: 74848\nval: [   17    30    50 ... 78761 78768 78774]\nval_size: 3939\nbatch: [[1]\n [2]\n [2]\n ...\n [2]\n [2]\n [2]]\nIteración: 30\ntrain/índices batch: [    0     1     2 ... 78784 78785 78786]\nbatch_size: 74848\nval: [   48    59    61 ... 78617 78726 78763]\nval_size: 3939\nbatch: [[1]\n [2]\n [2]\n ...\n [2]\n [2]\n [2]]\nIteración: 31\ntrain/índices batch: [    0     1     2 ... 78783 78784 78785]\nbatch_size: 74848\nval: [   12    64    75 ... 78680 78740 78786]\nval_size: 3939\nbatch: [[1]\n [2]\n [2]\n ...\n [2]\n [2]\n [2]]\nIteración: 32\ntrain/índices batch: [    0     1     2 ... 78784 78785 78786]\nbatch_size: 74848\nval: [   16    29    71 ... 78747 78765 78780]\nval_size: 3939\nbatch: [[1]\n [2]\n [2]\n ...\n [2]\n [2]\n [2]]\nIteración: 33\ntrain/índices batch: [    0     1     2 ... 78784 78785 78786]\nbatch_size: 74848\nval: [   35    44   194 ... 78684 78690 78760]\nval_size: 3939\nbatch: [[1]\n [2]\n [2]\n ...\n [2]\n [2]\n [2]]\nIteración: 34\ntrain/índices batch: [    0     1     2 ... 78784 78785 78786]\nbatch_size: 74848\nval: [    8    37   108 ... 78736 78776 78783]\nval_size: 3939\nbatch: [[1]\n [2]\n [2]\n ...\n [2]\n [2]\n [2]]\nIteración: 35\ntrain/índices batch: [    0     1     2 ... 78783 78784 78786]\nbatch_size: 74848\nval: [   15    25    33 ... 78672 78756 78785]\nval_size: 3939\nbatch: [[1]\n [2]\n [2]\n ...\n [2]\n [2]\n [2]]\nIteración: 36\ntrain/índices batch: [    0     1     2 ... 78784 78785 78786]\nbatch_size: 74848\nval: [    4     6    52 ... 78699 78703 78715]\nval_size: 3939\nbatch: [[1]\n [2]\n [2]\n ...\n [2]\n [2]\n [2]]\nIteración: 37\ntrain/índices batch: [    0     1     2 ... 78783 78785 78786]\nbatch_size: 74848\nval: [   13    51    57 ... 78732 78778 78784]\nval_size: 3939\nbatch: [[1]\n [2]\n [2]\n ...\n [2]\n [2]\n [2]]\nIteración: 38\ntrain/índices batch: [    0     1     2 ... 78784 78785 78786]\nbatch_size: 74848\nval: [    7    23    39 ... 78746 78748 78753]\nval_size: 3939\nbatch: [[1]\n [2]\n [2]\n ...\n [2]\n [2]\n [2]]\nIteración: 39\ntrain/índices batch: [    0     1     2 ... 78784 78785 78786]\nbatch_size: 74848\nval: [   18    28    81 ... 78762 78775 78779]\nval_size: 3939\nbatch: [[1]\n [2]\n [2]\n ...\n [2]\n [2]\n [2]]\nIteración: 40\ntrain/índices batch: [    0     1     2 ... 78784 78785 78786]\nbatch_size: 74848\nval: [   55   102   109 ... 78704 78705 78771]\nval_size: 3939\nbatch: [[1]\n [2]\n [2]\n ...\n [2]\n [2]\n [2]]\n"
    }
   ],
   "source": [
    "k_fold = RepeatedKFold(n_splits=20, n_repeats=2, random_state=1)\n",
    "val_score = []\n",
    "train_score = []\n",
    "# define the model\n",
    "model = RandomForestClassifier()\n",
    "path = \"/Users/Tomi/Desktop/my_git/dsbootcamp/week9/day5/competition\"\n",
    "for i, (train, val) in enumerate(k_fold.split(X_train)):\n",
    "    print(\"Iteración:\", i+1)\n",
    "    print(\"train/índices batch:\", train)\n",
    "    print(\"batch_size:\", len(train))\n",
    "    print(\"val:\", val)\n",
    "    print(\"val_size:\", len(val))\n",
    "\n",
    "    print(\"batch:\", X_train[train])\n",
    "    # train the model\n",
    "    model.fit(X_train[train], y_train[train])\n",
    "    score_val = model.score(X_train[val], y_train[val])\n",
    "    val_score.append(score_val)\n",
    "    score_train = model.score(X_train[train], y_train[train])\n",
    "    train_score.append(score_train)\n",
    "    \n",
    "    # Ejemplo de guardar y parar el entrenamiento por haber conseguido un buen resultado\n",
    "    if np.mean(val_score) > 0.98 and len(val_score) > 1000:\n",
    "        pickle.dump(model, open(path + \"model_saved.sav\", \"wb\"))\n",
    "        print(\"STOP\")\n",
    "        break"
   ]
  },
  {
   "cell_type": "code",
   "execution_count": 30,
   "metadata": {},
   "outputs": [
    {
     "output_type": "execute_result",
     "data": {
      "text/plain": "[0.2654822335025381,\n 0.267258883248731,\n 0.27106598984771574,\n 0.2781725888324873,\n 0.28527918781725886,\n 0.265989847715736,\n 0.2814720812182741,\n 0.27443513582127443,\n 0.2731657781162732,\n 0.27443513582127443,\n 0.28128966742828126,\n 0.2871287128712871,\n 0.27367352119827365,\n 0.2838283828382838,\n 0.2792586951002793,\n 0.2637725310992638,\n 0.26605737496826604,\n 0.26554963188626557,\n 0.2863670982482864,\n 0.2807819243462808,\n 0.2802030456852792,\n 0.2748730964467005,\n 0.27715736040609135,\n 0.26624365482233503,\n 0.2642131979695431,\n 0.2657360406091371,\n 0.27106598984771574,\n 0.26961157654226964,\n 0.28662096978928664,\n 0.2751967504442752,\n 0.27824320893627824,\n 0.28357451129728356,\n 0.2729119065752729,\n 0.2754506219852754,\n 0.27341964965727344,\n 0.27037319116527037,\n 0.2691038334602691,\n 0.2807819243462808,\n 0.2802741812642803,\n 0.2878903274942879]"
     },
     "metadata": {},
     "execution_count": 30
    },
    {
     "output_type": "display_data",
     "data": {
      "text/plain": "<Figure size 432x288 with 1 Axes>",
      "image/svg+xml": "<?xml version=\"1.0\" encoding=\"utf-8\" standalone=\"no\"?>\n<!DOCTYPE svg PUBLIC \"-//W3C//DTD SVG 1.1//EN\"\n  \"http://www.w3.org/Graphics/SVG/1.1/DTD/svg11.dtd\">\n<!-- Created with matplotlib (https://matplotlib.org/) -->\n<svg height=\"248.518125pt\" version=\"1.1\" viewBox=\"0 0 384.828125 248.518125\" width=\"384.828125pt\" xmlns=\"http://www.w3.org/2000/svg\" xmlns:xlink=\"http://www.w3.org/1999/xlink\">\n <defs>\n  <style type=\"text/css\">\n*{stroke-linecap:butt;stroke-linejoin:round;}\n  </style>\n </defs>\n <g id=\"figure_1\">\n  <g id=\"patch_1\">\n   <path d=\"M 0 248.518125 \nL 384.828125 248.518125 \nL 384.828125 0 \nL 0 0 \nz\n\" style=\"fill:none;\"/>\n  </g>\n  <g id=\"axes_1\">\n   <g id=\"patch_2\">\n    <path d=\"M 42.828125 224.64 \nL 377.628125 224.64 \nL 377.628125 7.2 \nL 42.828125 7.2 \nz\n\" style=\"fill:#ffffff;\"/>\n   </g>\n   <g id=\"matplotlib.axis_1\">\n    <g id=\"xtick_1\">\n     <g id=\"line2d_1\">\n      <defs>\n       <path d=\"M 0 0 \nL 0 3.5 \n\" id=\"mbb203e8f97\" style=\"stroke:#000000;stroke-width:0.8;\"/>\n      </defs>\n      <g>\n       <use style=\"stroke:#000000;stroke-width:0.8;\" x=\"58.046307\" xlink:href=\"#mbb203e8f97\" y=\"224.64\"/>\n      </g>\n     </g>\n     <g id=\"text_1\">\n      <!-- 0 -->\n      <defs>\n       <path d=\"M 31.78125 66.40625 \nQ 24.171875 66.40625 20.328125 58.90625 \nQ 16.5 51.421875 16.5 36.375 \nQ 16.5 21.390625 20.328125 13.890625 \nQ 24.171875 6.390625 31.78125 6.390625 \nQ 39.453125 6.390625 43.28125 13.890625 \nQ 47.125 21.390625 47.125 36.375 \nQ 47.125 51.421875 43.28125 58.90625 \nQ 39.453125 66.40625 31.78125 66.40625 \nz\nM 31.78125 74.21875 \nQ 44.046875 74.21875 50.515625 64.515625 \nQ 56.984375 54.828125 56.984375 36.375 \nQ 56.984375 17.96875 50.515625 8.265625 \nQ 44.046875 -1.421875 31.78125 -1.421875 \nQ 19.53125 -1.421875 13.0625 8.265625 \nQ 6.59375 17.96875 6.59375 36.375 \nQ 6.59375 54.828125 13.0625 64.515625 \nQ 19.53125 74.21875 31.78125 74.21875 \nz\n\" id=\"DejaVuSans-48\"/>\n      </defs>\n      <g transform=\"translate(54.865057 239.238437)scale(0.1 -0.1)\">\n       <use xlink:href=\"#DejaVuSans-48\"/>\n      </g>\n     </g>\n    </g>\n    <g id=\"xtick_2\">\n     <g id=\"line2d_2\">\n      <g>\n       <use style=\"stroke:#000000;stroke-width:0.8;\" x=\"97.067286\" xlink:href=\"#mbb203e8f97\" y=\"224.64\"/>\n      </g>\n     </g>\n     <g id=\"text_2\">\n      <!-- 5 -->\n      <defs>\n       <path d=\"M 10.796875 72.90625 \nL 49.515625 72.90625 \nL 49.515625 64.59375 \nL 19.828125 64.59375 \nL 19.828125 46.734375 \nQ 21.96875 47.46875 24.109375 47.828125 \nQ 26.265625 48.1875 28.421875 48.1875 \nQ 40.625 48.1875 47.75 41.5 \nQ 54.890625 34.8125 54.890625 23.390625 \nQ 54.890625 11.625 47.5625 5.09375 \nQ 40.234375 -1.421875 26.90625 -1.421875 \nQ 22.3125 -1.421875 17.546875 -0.640625 \nQ 12.796875 0.140625 7.71875 1.703125 \nL 7.71875 11.625 \nQ 12.109375 9.234375 16.796875 8.0625 \nQ 21.484375 6.890625 26.703125 6.890625 \nQ 35.15625 6.890625 40.078125 11.328125 \nQ 45.015625 15.765625 45.015625 23.390625 \nQ 45.015625 31 40.078125 35.4375 \nQ 35.15625 39.890625 26.703125 39.890625 \nQ 22.75 39.890625 18.8125 39.015625 \nQ 14.890625 38.140625 10.796875 36.28125 \nz\n\" id=\"DejaVuSans-53\"/>\n      </defs>\n      <g transform=\"translate(93.886036 239.238437)scale(0.1 -0.1)\">\n       <use xlink:href=\"#DejaVuSans-53\"/>\n      </g>\n     </g>\n    </g>\n    <g id=\"xtick_3\">\n     <g id=\"line2d_3\">\n      <g>\n       <use style=\"stroke:#000000;stroke-width:0.8;\" x=\"136.088265\" xlink:href=\"#mbb203e8f97\" y=\"224.64\"/>\n      </g>\n     </g>\n     <g id=\"text_3\">\n      <!-- 10 -->\n      <defs>\n       <path d=\"M 12.40625 8.296875 \nL 28.515625 8.296875 \nL 28.515625 63.921875 \nL 10.984375 60.40625 \nL 10.984375 69.390625 \nL 28.421875 72.90625 \nL 38.28125 72.90625 \nL 38.28125 8.296875 \nL 54.390625 8.296875 \nL 54.390625 0 \nL 12.40625 0 \nz\n\" id=\"DejaVuSans-49\"/>\n      </defs>\n      <g transform=\"translate(129.725765 239.238437)scale(0.1 -0.1)\">\n       <use xlink:href=\"#DejaVuSans-49\"/>\n       <use x=\"63.623047\" xlink:href=\"#DejaVuSans-48\"/>\n      </g>\n     </g>\n    </g>\n    <g id=\"xtick_4\">\n     <g id=\"line2d_4\">\n      <g>\n       <use style=\"stroke:#000000;stroke-width:0.8;\" x=\"175.109244\" xlink:href=\"#mbb203e8f97\" y=\"224.64\"/>\n      </g>\n     </g>\n     <g id=\"text_4\">\n      <!-- 15 -->\n      <g transform=\"translate(168.746744 239.238437)scale(0.1 -0.1)\">\n       <use xlink:href=\"#DejaVuSans-49\"/>\n       <use x=\"63.623047\" xlink:href=\"#DejaVuSans-53\"/>\n      </g>\n     </g>\n    </g>\n    <g id=\"xtick_5\">\n     <g id=\"line2d_5\">\n      <g>\n       <use style=\"stroke:#000000;stroke-width:0.8;\" x=\"214.130223\" xlink:href=\"#mbb203e8f97\" y=\"224.64\"/>\n      </g>\n     </g>\n     <g id=\"text_5\">\n      <!-- 20 -->\n      <defs>\n       <path d=\"M 19.1875 8.296875 \nL 53.609375 8.296875 \nL 53.609375 0 \nL 7.328125 0 \nL 7.328125 8.296875 \nQ 12.9375 14.109375 22.625 23.890625 \nQ 32.328125 33.6875 34.8125 36.53125 \nQ 39.546875 41.84375 41.421875 45.53125 \nQ 43.3125 49.21875 43.3125 52.78125 \nQ 43.3125 58.59375 39.234375 62.25 \nQ 35.15625 65.921875 28.609375 65.921875 \nQ 23.96875 65.921875 18.8125 64.3125 \nQ 13.671875 62.703125 7.8125 59.421875 \nL 7.8125 69.390625 \nQ 13.765625 71.78125 18.9375 73 \nQ 24.125 74.21875 28.421875 74.21875 \nQ 39.75 74.21875 46.484375 68.546875 \nQ 53.21875 62.890625 53.21875 53.421875 \nQ 53.21875 48.921875 51.53125 44.890625 \nQ 49.859375 40.875 45.40625 35.40625 \nQ 44.1875 33.984375 37.640625 27.21875 \nQ 31.109375 20.453125 19.1875 8.296875 \nz\n\" id=\"DejaVuSans-50\"/>\n      </defs>\n      <g transform=\"translate(207.767723 239.238437)scale(0.1 -0.1)\">\n       <use xlink:href=\"#DejaVuSans-50\"/>\n       <use x=\"63.623047\" xlink:href=\"#DejaVuSans-48\"/>\n      </g>\n     </g>\n    </g>\n    <g id=\"xtick_6\">\n     <g id=\"line2d_6\">\n      <g>\n       <use style=\"stroke:#000000;stroke-width:0.8;\" x=\"253.151202\" xlink:href=\"#mbb203e8f97\" y=\"224.64\"/>\n      </g>\n     </g>\n     <g id=\"text_6\">\n      <!-- 25 -->\n      <g transform=\"translate(246.788702 239.238437)scale(0.1 -0.1)\">\n       <use xlink:href=\"#DejaVuSans-50\"/>\n       <use x=\"63.623047\" xlink:href=\"#DejaVuSans-53\"/>\n      </g>\n     </g>\n    </g>\n    <g id=\"xtick_7\">\n     <g id=\"line2d_7\">\n      <g>\n       <use style=\"stroke:#000000;stroke-width:0.8;\" x=\"292.172181\" xlink:href=\"#mbb203e8f97\" y=\"224.64\"/>\n      </g>\n     </g>\n     <g id=\"text_7\">\n      <!-- 30 -->\n      <defs>\n       <path d=\"M 40.578125 39.3125 \nQ 47.65625 37.796875 51.625 33 \nQ 55.609375 28.21875 55.609375 21.1875 \nQ 55.609375 10.40625 48.1875 4.484375 \nQ 40.765625 -1.421875 27.09375 -1.421875 \nQ 22.515625 -1.421875 17.65625 -0.515625 \nQ 12.796875 0.390625 7.625 2.203125 \nL 7.625 11.71875 \nQ 11.71875 9.328125 16.59375 8.109375 \nQ 21.484375 6.890625 26.8125 6.890625 \nQ 36.078125 6.890625 40.9375 10.546875 \nQ 45.796875 14.203125 45.796875 21.1875 \nQ 45.796875 27.640625 41.28125 31.265625 \nQ 36.765625 34.90625 28.71875 34.90625 \nL 20.21875 34.90625 \nL 20.21875 43.015625 \nL 29.109375 43.015625 \nQ 36.375 43.015625 40.234375 45.921875 \nQ 44.09375 48.828125 44.09375 54.296875 \nQ 44.09375 59.90625 40.109375 62.90625 \nQ 36.140625 65.921875 28.71875 65.921875 \nQ 24.65625 65.921875 20.015625 65.03125 \nQ 15.375 64.15625 9.8125 62.3125 \nL 9.8125 71.09375 \nQ 15.4375 72.65625 20.34375 73.4375 \nQ 25.25 74.21875 29.59375 74.21875 \nQ 40.828125 74.21875 47.359375 69.109375 \nQ 53.90625 64.015625 53.90625 55.328125 \nQ 53.90625 49.265625 50.4375 45.09375 \nQ 46.96875 40.921875 40.578125 39.3125 \nz\n\" id=\"DejaVuSans-51\"/>\n      </defs>\n      <g transform=\"translate(285.809681 239.238437)scale(0.1 -0.1)\">\n       <use xlink:href=\"#DejaVuSans-51\"/>\n       <use x=\"63.623047\" xlink:href=\"#DejaVuSans-48\"/>\n      </g>\n     </g>\n    </g>\n    <g id=\"xtick_8\">\n     <g id=\"line2d_8\">\n      <g>\n       <use style=\"stroke:#000000;stroke-width:0.8;\" x=\"331.19316\" xlink:href=\"#mbb203e8f97\" y=\"224.64\"/>\n      </g>\n     </g>\n     <g id=\"text_8\">\n      <!-- 35 -->\n      <g transform=\"translate(324.83066 239.238437)scale(0.1 -0.1)\">\n       <use xlink:href=\"#DejaVuSans-51\"/>\n       <use x=\"63.623047\" xlink:href=\"#DejaVuSans-53\"/>\n      </g>\n     </g>\n    </g>\n    <g id=\"xtick_9\">\n     <g id=\"line2d_9\">\n      <g>\n       <use style=\"stroke:#000000;stroke-width:0.8;\" x=\"370.214139\" xlink:href=\"#mbb203e8f97\" y=\"224.64\"/>\n      </g>\n     </g>\n     <g id=\"text_9\">\n      <!-- 40 -->\n      <defs>\n       <path d=\"M 37.796875 64.3125 \nL 12.890625 25.390625 \nL 37.796875 25.390625 \nz\nM 35.203125 72.90625 \nL 47.609375 72.90625 \nL 47.609375 25.390625 \nL 58.015625 25.390625 \nL 58.015625 17.1875 \nL 47.609375 17.1875 \nL 47.609375 0 \nL 37.796875 0 \nL 37.796875 17.1875 \nL 4.890625 17.1875 \nL 4.890625 26.703125 \nz\n\" id=\"DejaVuSans-52\"/>\n      </defs>\n      <g transform=\"translate(363.851639 239.238437)scale(0.1 -0.1)\">\n       <use xlink:href=\"#DejaVuSans-52\"/>\n       <use x=\"63.623047\" xlink:href=\"#DejaVuSans-48\"/>\n      </g>\n     </g>\n    </g>\n   </g>\n   <g id=\"matplotlib.axis_2\">\n    <g id=\"ytick_1\">\n     <g id=\"line2d_10\">\n      <defs>\n       <path d=\"M 0 0 \nL -3.5 0 \n\" id=\"m1c0306552e\" style=\"stroke:#000000;stroke-width:0.8;\"/>\n      </defs>\n      <g>\n       <use style=\"stroke:#000000;stroke-width:0.8;\" x=\"42.828125\" xlink:href=\"#m1c0306552e\" y=\"204.695862\"/>\n      </g>\n     </g>\n     <g id=\"text_10\">\n      <!-- 0.265 -->\n      <defs>\n       <path d=\"M 10.6875 12.40625 \nL 21 12.40625 \nL 21 0 \nL 10.6875 0 \nz\n\" id=\"DejaVuSans-46\"/>\n       <path d=\"M 33.015625 40.375 \nQ 26.375 40.375 22.484375 35.828125 \nQ 18.609375 31.296875 18.609375 23.390625 \nQ 18.609375 15.53125 22.484375 10.953125 \nQ 26.375 6.390625 33.015625 6.390625 \nQ 39.65625 6.390625 43.53125 10.953125 \nQ 47.40625 15.53125 47.40625 23.390625 \nQ 47.40625 31.296875 43.53125 35.828125 \nQ 39.65625 40.375 33.015625 40.375 \nz\nM 52.59375 71.296875 \nL 52.59375 62.3125 \nQ 48.875 64.0625 45.09375 64.984375 \nQ 41.3125 65.921875 37.59375 65.921875 \nQ 27.828125 65.921875 22.671875 59.328125 \nQ 17.53125 52.734375 16.796875 39.40625 \nQ 19.671875 43.65625 24.015625 45.921875 \nQ 28.375 48.1875 33.59375 48.1875 \nQ 44.578125 48.1875 50.953125 41.515625 \nQ 57.328125 34.859375 57.328125 23.390625 \nQ 57.328125 12.15625 50.6875 5.359375 \nQ 44.046875 -1.421875 33.015625 -1.421875 \nQ 20.359375 -1.421875 13.671875 8.265625 \nQ 6.984375 17.96875 6.984375 36.375 \nQ 6.984375 53.65625 15.1875 63.9375 \nQ 23.390625 74.21875 37.203125 74.21875 \nQ 40.921875 74.21875 44.703125 73.484375 \nQ 48.484375 72.75 52.59375 71.296875 \nz\n\" id=\"DejaVuSans-54\"/>\n      </defs>\n      <g transform=\"translate(7.2 208.495081)scale(0.1 -0.1)\">\n       <use xlink:href=\"#DejaVuSans-48\"/>\n       <use x=\"63.623047\" xlink:href=\"#DejaVuSans-46\"/>\n       <use x=\"95.410156\" xlink:href=\"#DejaVuSans-50\"/>\n       <use x=\"159.033203\" xlink:href=\"#DejaVuSans-54\"/>\n       <use x=\"222.65625\" xlink:href=\"#DejaVuSans-53\"/>\n      </g>\n     </g>\n    </g>\n    <g id=\"ytick_2\">\n     <g id=\"line2d_11\">\n      <g>\n       <use style=\"stroke:#000000;stroke-width:0.8;\" x=\"42.828125\" xlink:href=\"#m1c0306552e\" y=\"163.715185\"/>\n      </g>\n     </g>\n     <g id=\"text_11\">\n      <!-- 0.270 -->\n      <defs>\n       <path d=\"M 8.203125 72.90625 \nL 55.078125 72.90625 \nL 55.078125 68.703125 \nL 28.609375 0 \nL 18.3125 0 \nL 43.21875 64.59375 \nL 8.203125 64.59375 \nz\n\" id=\"DejaVuSans-55\"/>\n      </defs>\n      <g transform=\"translate(7.2 167.514403)scale(0.1 -0.1)\">\n       <use xlink:href=\"#DejaVuSans-48\"/>\n       <use x=\"63.623047\" xlink:href=\"#DejaVuSans-46\"/>\n       <use x=\"95.410156\" xlink:href=\"#DejaVuSans-50\"/>\n       <use x=\"159.033203\" xlink:href=\"#DejaVuSans-55\"/>\n       <use x=\"222.65625\" xlink:href=\"#DejaVuSans-48\"/>\n      </g>\n     </g>\n    </g>\n    <g id=\"ytick_3\">\n     <g id=\"line2d_12\">\n      <g>\n       <use style=\"stroke:#000000;stroke-width:0.8;\" x=\"42.828125\" xlink:href=\"#m1c0306552e\" y=\"122.734507\"/>\n      </g>\n     </g>\n     <g id=\"text_12\">\n      <!-- 0.275 -->\n      <g transform=\"translate(7.2 126.533726)scale(0.1 -0.1)\">\n       <use xlink:href=\"#DejaVuSans-48\"/>\n       <use x=\"63.623047\" xlink:href=\"#DejaVuSans-46\"/>\n       <use x=\"95.410156\" xlink:href=\"#DejaVuSans-50\"/>\n       <use x=\"159.033203\" xlink:href=\"#DejaVuSans-55\"/>\n       <use x=\"222.65625\" xlink:href=\"#DejaVuSans-53\"/>\n      </g>\n     </g>\n    </g>\n    <g id=\"ytick_4\">\n     <g id=\"line2d_13\">\n      <g>\n       <use style=\"stroke:#000000;stroke-width:0.8;\" x=\"42.828125\" xlink:href=\"#m1c0306552e\" y=\"81.75383\"/>\n      </g>\n     </g>\n     <g id=\"text_13\">\n      <!-- 0.280 -->\n      <defs>\n       <path d=\"M 31.78125 34.625 \nQ 24.75 34.625 20.71875 30.859375 \nQ 16.703125 27.09375 16.703125 20.515625 \nQ 16.703125 13.921875 20.71875 10.15625 \nQ 24.75 6.390625 31.78125 6.390625 \nQ 38.8125 6.390625 42.859375 10.171875 \nQ 46.921875 13.96875 46.921875 20.515625 \nQ 46.921875 27.09375 42.890625 30.859375 \nQ 38.875 34.625 31.78125 34.625 \nz\nM 21.921875 38.8125 \nQ 15.578125 40.375 12.03125 44.71875 \nQ 8.5 49.078125 8.5 55.328125 \nQ 8.5 64.0625 14.71875 69.140625 \nQ 20.953125 74.21875 31.78125 74.21875 \nQ 42.671875 74.21875 48.875 69.140625 \nQ 55.078125 64.0625 55.078125 55.328125 \nQ 55.078125 49.078125 51.53125 44.71875 \nQ 48 40.375 41.703125 38.8125 \nQ 48.828125 37.15625 52.796875 32.3125 \nQ 56.78125 27.484375 56.78125 20.515625 \nQ 56.78125 9.90625 50.3125 4.234375 \nQ 43.84375 -1.421875 31.78125 -1.421875 \nQ 19.734375 -1.421875 13.25 4.234375 \nQ 6.78125 9.90625 6.78125 20.515625 \nQ 6.78125 27.484375 10.78125 32.3125 \nQ 14.796875 37.15625 21.921875 38.8125 \nz\nM 18.3125 54.390625 \nQ 18.3125 48.734375 21.84375 45.5625 \nQ 25.390625 42.390625 31.78125 42.390625 \nQ 38.140625 42.390625 41.71875 45.5625 \nQ 45.3125 48.734375 45.3125 54.390625 \nQ 45.3125 60.0625 41.71875 63.234375 \nQ 38.140625 66.40625 31.78125 66.40625 \nQ 25.390625 66.40625 21.84375 63.234375 \nQ 18.3125 60.0625 18.3125 54.390625 \nz\n\" id=\"DejaVuSans-56\"/>\n      </defs>\n      <g transform=\"translate(7.2 85.553048)scale(0.1 -0.1)\">\n       <use xlink:href=\"#DejaVuSans-48\"/>\n       <use x=\"63.623047\" xlink:href=\"#DejaVuSans-46\"/>\n       <use x=\"95.410156\" xlink:href=\"#DejaVuSans-50\"/>\n       <use x=\"159.033203\" xlink:href=\"#DejaVuSans-56\"/>\n       <use x=\"222.65625\" xlink:href=\"#DejaVuSans-48\"/>\n      </g>\n     </g>\n    </g>\n    <g id=\"ytick_5\">\n     <g id=\"line2d_14\">\n      <g>\n       <use style=\"stroke:#000000;stroke-width:0.8;\" x=\"42.828125\" xlink:href=\"#m1c0306552e\" y=\"40.773152\"/>\n      </g>\n     </g>\n     <g id=\"text_14\">\n      <!-- 0.285 -->\n      <g transform=\"translate(7.2 44.572371)scale(0.1 -0.1)\">\n       <use xlink:href=\"#DejaVuSans-48\"/>\n       <use x=\"63.623047\" xlink:href=\"#DejaVuSans-46\"/>\n       <use x=\"95.410156\" xlink:href=\"#DejaVuSans-50\"/>\n       <use x=\"159.033203\" xlink:href=\"#DejaVuSans-56\"/>\n       <use x=\"222.65625\" xlink:href=\"#DejaVuSans-53\"/>\n      </g>\n     </g>\n    </g>\n   </g>\n   <g id=\"line2d_15\">\n    <path clip-path=\"url(#p620fbd4b0f)\" d=\"M 58.046307 116.703508 \nL 65.850503 117.470045 \nL 73.654698 119.112623 \nL 81.458894 122.178768 \nL 89.26309 125.244914 \nL 97.067286 116.922519 \nL 104.871482 123.602336 \nL 112.675677 120.566333 \nL 120.479873 120.018815 \nL 128.284069 120.566333 \nL 136.088265 123.522934 \nL 143.892461 126.04152 \nL 151.696656 120.237822 \nL 159.500852 124.617971 \nL 167.305048 122.646904 \nL 175.109244 115.967176 \nL 182.91344 116.95271 \nL 190.717635 116.733703 \nL 198.521831 125.713009 \nL 206.326027 123.303927 \nL 214.130223 123.05481 \nL 221.934419 120.755201 \nL 229.738615 121.740748 \nL 237.54281 117.032024 \nL 245.347006 116.155982 \nL 253.151202 116.813014 \nL 260.955398 119.112623 \nL 268.759594 118.485762 \nL 276.563789 125.822512 \nL 284.367985 120.894844 \nL 292.172181 122.208889 \nL 299.976377 124.508468 \nL 307.780573 119.909311 \nL 315.584768 121.004348 \nL 323.388964 120.128318 \nL 331.19316 118.814273 \nL 338.997356 118.923777 \nL 346.801552 123.303927 \nL 354.605747 123.084919 \nL 362.409943 126.370031 \n\" style=\"fill:none;stroke:#0000ff;stroke-linecap:square;stroke-width:1.5;\"/>\n   </g>\n   <g id=\"line2d_16\">\n    <path clip-path=\"url(#p620fbd4b0f)\" d=\"M 58.046307 200.743411 \nL 65.850503 186.181749 \nL 73.654698 154.978187 \nL 81.458894 96.731539 \nL 89.26309 38.484891 \nL 97.067286 196.582936 \nL 104.871482 69.688453 \nL 112.675677 127.364211 \nL 120.479873 137.768038 \nL 128.284069 127.364211 \nL 136.088265 71.183541 \nL 143.892461 23.325933 \nL 151.696656 133.606507 \nL 159.500852 50.375885 \nL 167.305048 87.829665 \nL 175.109244 214.756364 \nL 182.91344 196.029474 \nL 190.717635 200.191005 \nL 198.521831 29.56823 \nL 206.326027 75.345072 \nL 214.130223 80.08964 \nL 221.934419 123.774626 \nL 229.738615 105.052489 \nL 237.54281 194.502699 \nL 245.347006 211.144598 \nL 253.151202 198.663174 \nL 260.955398 154.978187 \nL 268.759594 166.898756 \nL 276.563789 27.487464 \nL 284.367985 121.121914 \nL 292.172181 96.152727 \nL 299.976377 52.456651 \nL 307.780573 139.848804 \nL 315.584768 119.041148 \nL 323.388964 135.687273 \nL 331.19316 160.656459 \nL 338.997356 171.060287 \nL 346.801552 75.345072 \nL 354.605747 79.506603 \nL 362.409943 17.083636 \n\" style=\"fill:none;stroke:#ff0000;stroke-linecap:square;stroke-width:1.5;\"/>\n   </g>\n   <g id=\"patch_3\">\n    <path d=\"M 42.828125 224.64 \nL 42.828125 7.2 \n\" style=\"fill:none;stroke:#000000;stroke-linecap:square;stroke-linejoin:miter;stroke-width:0.8;\"/>\n   </g>\n   <g id=\"patch_4\">\n    <path d=\"M 377.628125 224.64 \nL 377.628125 7.2 \n\" style=\"fill:none;stroke:#000000;stroke-linecap:square;stroke-linejoin:miter;stroke-width:0.8;\"/>\n   </g>\n   <g id=\"patch_5\">\n    <path d=\"M 42.828125 224.64 \nL 377.628125 224.64 \n\" style=\"fill:none;stroke:#000000;stroke-linecap:square;stroke-linejoin:miter;stroke-width:0.8;\"/>\n   </g>\n   <g id=\"patch_6\">\n    <path d=\"M 42.828125 7.2 \nL 377.628125 7.2 \n\" style=\"fill:none;stroke:#000000;stroke-linecap:square;stroke-linejoin:miter;stroke-width:0.8;\"/>\n   </g>\n  </g>\n </g>\n <defs>\n  <clipPath id=\"p620fbd4b0f\">\n   <rect height=\"217.44\" width=\"334.8\" x=\"42.828125\" y=\"7.2\"/>\n  </clipPath>\n </defs>\n</svg>\n",
      "image/png": "[encoded data removed]"
     },
     "metadata": {
      "needs_background": "light"
     }
    }
   ],
   "source": [
    "import matplotlib.pyplot as plt\n",
    "plt.plot(train_score, color=\"b\")\n",
    "plt.plot(val_score, color=\"r\")\n",
    "val_score"
   ]
  },
  {
   "cell_type": "code",
   "execution_count": 27,
   "metadata": {},
   "outputs": [
    {
     "output_type": "execute_result",
     "data": {
      "text/plain": "0.2849164847438696"
     },
     "metadata": {},
     "execution_count": 27
    }
   ],
   "source": [
    "model.score(X_test, y_test)"
   ]
  },
  {
   "cell_type": "code",
   "execution_count": 31,
   "metadata": {},
   "outputs": [
    {
     "output_type": "execute_result",
     "data": {
      "text/plain": "[0.27963649286693404,\n 0.2713611209828908,\n 0.2746103467533127,\n 0.27437043054427296]"
     },
     "metadata": {},
     "execution_count": 31
    }
   ],
   "source": [
    "k_fold = KFold(n_splits=4, random_state=1)\n",
    "\n",
    "[model.fit(X_train[train], y_train[train]).score(X_train[val], y_train[val]) for train, val in k_fold.split(X_train)]"
   ]
  },
  {
   "cell_type": "markdown",
   "metadata": {},
   "source": [
    "#### 5. Predecir con el modelo ya entrenado con X_test/to_pred"
   ]
  },
  {
   "cell_type": "code",
   "execution_count": 32,
   "metadata": {
    "tags": []
   },
   "outputs": [
    {
     "output_type": "execute_result",
     "data": {
      "text/plain": "array([2, 2, 2, ..., 2, 2, 2])"
     },
     "metadata": {},
     "execution_count": 32
    }
   ],
   "source": [
    "y_pred = model.predict(X_test)\n",
    "y_pred"
   ]
  },
  {
   "cell_type": "markdown",
   "metadata": {},
   "source": [
    "#### 6. Sacar métricas, valorar el modelo "
   ]
  },
  {
   "cell_type": "code",
   "execution_count": 33,
   "metadata": {},
   "outputs": [
    {
     "output_type": "execute_result",
     "data": {
      "text/plain": "0.2724272731888105"
     },
     "metadata": {},
     "execution_count": 33
    }
   ],
   "source": [
    "model.score(X_test,y_test)"
   ]
  },
  {
   "cell_type": "code",
   "execution_count": 34,
   "metadata": {
    "tags": []
   },
   "outputs": [
    {
     "output_type": "stream",
     "name": "stdout",
     "text": "Accuracy: 0.2724272731888105\n"
    }
   ],
   "source": [
    "from sklearn import metrics\n",
    "print(\"Accuracy:\", metrics.accuracy_score(y_test, y_pred))"
   ]
  },
  {
   "cell_type": "markdown",
   "metadata": {},
   "source": [
    "## Una vez listo el modelo, toca predecir con el dataset de predicción "
   ]
  },
  {
   "cell_type": "code",
   "execution_count": 35,
   "metadata": {},
   "outputs": [],
   "source": [
    "to_pred = pd.read_csv(\"/Users/Tomi/Desktop/my_git/dsbootcamp/week9/day5/competition/how-long-would-you-stay/test_set.csv\")"
   ]
  },
  {
   "cell_type": "code",
   "execution_count": 36,
   "metadata": {},
   "outputs": [
    {
     "output_type": "execute_result",
     "data": {
      "text/plain": "        0   1  2  3  4  5           6  7  8    9      10    11         12  \\\n0  314114  19  a  7  Y  4  gynecology  S  C  2.0   59278   8.0  Emergency   \n1  208989  15  c  5  Z  3  gynecology  S  F  2.0  102253  15.0     Trauma   \n\n         13  14     15      16  \n0     Minor   2  41-50  4778.0  \n1  Moderate   3  31-40  5734.0  ",
      "text/html": "<div>\n<style scoped>\n    .dataframe tbody tr th:only-of-type {\n        vertical-align: middle;\n    }\n\n    .dataframe tbody tr th {\n        vertical-align: top;\n    }\n\n    .dataframe thead th {\n        text-align: right;\n    }\n</style>\n<table border=\"1\" class=\"dataframe\">\n  <thead>\n    <tr style=\"text-align: right;\">\n      <th></th>\n      <th>0</th>\n      <th>1</th>\n      <th>2</th>\n      <th>3</th>\n      <th>4</th>\n      <th>5</th>\n      <th>6</th>\n      <th>7</th>\n      <th>8</th>\n      <th>9</th>\n      <th>10</th>\n      <th>11</th>\n      <th>12</th>\n      <th>13</th>\n      <th>14</th>\n      <th>15</th>\n      <th>16</th>\n    </tr>\n  </thead>\n  <tbody>\n    <tr>\n      <th>0</th>\n      <td>314114</td>\n      <td>19</td>\n      <td>a</td>\n      <td>7</td>\n      <td>Y</td>\n      <td>4</td>\n      <td>gynecology</td>\n      <td>S</td>\n      <td>C</td>\n      <td>2.0</td>\n      <td>59278</td>\n      <td>8.0</td>\n      <td>Emergency</td>\n      <td>Minor</td>\n      <td>2</td>\n      <td>41-50</td>\n      <td>4778.0</td>\n    </tr>\n    <tr>\n      <th>1</th>\n      <td>208989</td>\n      <td>15</td>\n      <td>c</td>\n      <td>5</td>\n      <td>Z</td>\n      <td>3</td>\n      <td>gynecology</td>\n      <td>S</td>\n      <td>F</td>\n      <td>2.0</td>\n      <td>102253</td>\n      <td>15.0</td>\n      <td>Trauma</td>\n      <td>Moderate</td>\n      <td>3</td>\n      <td>31-40</td>\n      <td>5734.0</td>\n    </tr>\n  </tbody>\n</table>\n</div>"
     },
     "metadata": {},
     "execution_count": 36
    }
   ],
   "source": [
    "# la primera columna es id_case, deberéis quitarla para hacer la predicción si la habéis quitado para entrenar\n",
    "# pero guardarla para incluirla en la submission\n",
    "\n",
    "# IMPORTANTE: APLICAR LO MISMO A ESTOS DATOS QUE HAYÁIS APLICADO A LOS DATOS DE ENTRENAMIENTO\n",
    "# SI EL ARRAY CON EL QUE HICISTEIS .fit() ERA DE 4 COLUMNAS, PARA .predict() DEBEN SER LAS MISMAS\n",
    "# SI AL ARRAY CON EL QUE HICISTEIS .fit() LO NORMALIZASTEIS, PARA .predict() DEBÉIS NORMALIZARLO\n",
    "# TODO IGUAL SALVO BORRAR FILAS, EL NÚMERO DE ROWS SE DEBE MANTENER EN ESTE SET, PUES LA PREDICCIÓN DEBE TENER 133744 FILAS\n",
    "# SI O SI\n",
    "\n",
    "to_pred.head(2)"
   ]
  },
  {
   "cell_type": "code",
   "execution_count": 37,
   "metadata": {},
   "outputs": [
    {
     "output_type": "execute_result",
     "data": {
      "text/plain": "(133744, 17)"
     },
     "metadata": {},
     "execution_count": 37
    }
   ],
   "source": [
    "to_pred.shape"
   ]
  },
  {
   "cell_type": "code",
   "execution_count": 38,
   "metadata": {},
   "outputs": [],
   "source": [
    "# para evitar este error ValueError: Input contains NaN, infinity or a value too large for dtype('float64').\n",
    "to_pred = to_pred.fillna(0)"
   ]
  },
  {
   "cell_type": "code",
   "execution_count": 39,
   "metadata": {},
   "outputs": [
    {
     "output_type": "execute_result",
     "data": {
      "text/plain": "        0   1  2  3  4  5  6  7  8    9     10   11         12  13  14  15  \\\n0  314114  19  a  6  Y  4  2  S  C  2.0  59278  8.0  Emergency   1   2   4   \n\n       16  \n0  4778.0  ",
      "text/html": "<div>\n<style scoped>\n    .dataframe tbody tr th:only-of-type {\n        vertical-align: middle;\n    }\n\n    .dataframe tbody tr th {\n        vertical-align: top;\n    }\n\n    .dataframe thead th {\n        text-align: right;\n    }\n</style>\n<table border=\"1\" class=\"dataframe\">\n  <thead>\n    <tr style=\"text-align: right;\">\n      <th></th>\n      <th>0</th>\n      <th>1</th>\n      <th>2</th>\n      <th>3</th>\n      <th>4</th>\n      <th>5</th>\n      <th>6</th>\n      <th>7</th>\n      <th>8</th>\n      <th>9</th>\n      <th>10</th>\n      <th>11</th>\n      <th>12</th>\n      <th>13</th>\n      <th>14</th>\n      <th>15</th>\n      <th>16</th>\n    </tr>\n  </thead>\n  <tbody>\n    <tr>\n      <th>0</th>\n      <td>314114</td>\n      <td>19</td>\n      <td>a</td>\n      <td>6</td>\n      <td>Y</td>\n      <td>4</td>\n      <td>2</td>\n      <td>S</td>\n      <td>C</td>\n      <td>2.0</td>\n      <td>59278</td>\n      <td>8.0</td>\n      <td>Emergency</td>\n      <td>1</td>\n      <td>2</td>\n      <td>4</td>\n      <td>4778.0</td>\n    </tr>\n  </tbody>\n</table>\n</div>"
     },
     "metadata": {},
     "execution_count": 39
    }
   ],
   "source": [
    "to_pred['3'] = le.fit_transform(to_pred['3'])\n",
    "to_pred['13'] = le.fit_transform(to_pred['13'])\n",
    "to_pred['15'] = le.fit_transform(to_pred['15'])\n",
    "to_pred['6'] = le.fit_transform(to_pred['6'])\n",
    "to_pred.head(1)"
   ]
  },
  {
   "cell_type": "code",
   "execution_count": 40,
   "metadata": {},
   "outputs": [
    {
     "output_type": "execute_result",
     "data": {
      "text/plain": "array([2, 2, 2, ..., 2, 2, 2])"
     },
     "metadata": {},
     "execution_count": 40
    }
   ],
   "source": [
    "predictions_submit = model.predict(to_pred[['6']])\n",
    "predictions_submit"
   ]
  },
  {
   "cell_type": "code",
   "execution_count": 41,
   "metadata": {},
   "outputs": [
    {
     "output_type": "execute_result",
     "data": {
      "text/plain": "            id  days\n0       314114     2\n1       208989     2\n2       305872     2\n3       266099     2\n4        13228     2\n...        ...   ...\n133739  318155     2\n133740  144850     2\n133741  180676     2\n133742   39933     2\n133743  116673     2\n\n[133744 rows x 2 columns]",
      "text/html": "<div>\n<style scoped>\n    .dataframe tbody tr th:only-of-type {\n        vertical-align: middle;\n    }\n\n    .dataframe tbody tr th {\n        vertical-align: top;\n    }\n\n    .dataframe thead th {\n        text-align: right;\n    }\n</style>\n<table border=\"1\" class=\"dataframe\">\n  <thead>\n    <tr style=\"text-align: right;\">\n      <th></th>\n      <th>id</th>\n      <th>days</th>\n    </tr>\n  </thead>\n  <tbody>\n    <tr>\n      <th>0</th>\n      <td>314114</td>\n      <td>2</td>\n    </tr>\n    <tr>\n      <th>1</th>\n      <td>208989</td>\n      <td>2</td>\n    </tr>\n    <tr>\n      <th>2</th>\n      <td>305872</td>\n      <td>2</td>\n    </tr>\n    <tr>\n      <th>3</th>\n      <td>266099</td>\n      <td>2</td>\n    </tr>\n    <tr>\n      <th>4</th>\n      <td>13228</td>\n      <td>2</td>\n    </tr>\n    <tr>\n      <th>...</th>\n      <td>...</td>\n      <td>...</td>\n    </tr>\n    <tr>\n      <th>133739</th>\n      <td>318155</td>\n      <td>2</td>\n    </tr>\n    <tr>\n      <th>133740</th>\n      <td>144850</td>\n      <td>2</td>\n    </tr>\n    <tr>\n      <th>133741</th>\n      <td>180676</td>\n      <td>2</td>\n    </tr>\n    <tr>\n      <th>133742</th>\n      <td>39933</td>\n      <td>2</td>\n    </tr>\n    <tr>\n      <th>133743</th>\n      <td>116673</td>\n      <td>2</td>\n    </tr>\n  </tbody>\n</table>\n<p>133744 rows × 2 columns</p>\n</div>"
     },
     "metadata": {},
     "execution_count": 41
    }
   ],
   "source": [
    "submission = pd.DataFrame({\"id\": to_pred[\"0\"], \"days\": predictions_submit})\n",
    "submission"
   ]
  },
  {
   "cell_type": "code",
   "execution_count": 42,
   "metadata": {},
   "outputs": [],
   "source": [
    "sample = pd.read_csv(\"/Users/Tomi/Desktop/my_git/dsbootcamp/week9/day5/competition/how-long-would-you-stay/sample_submission.csv\")"
   ]
  },
  {
   "cell_type": "code",
   "execution_count": 43,
   "metadata": {},
   "outputs": [
    {
     "output_type": "execute_result",
     "data": {
      "text/plain": "(133744, 2)"
     },
     "metadata": {},
     "execution_count": 43
    }
   ],
   "source": [
    "sample.shape"
   ]
  },
  {
   "cell_type": "code",
   "execution_count": 44,
   "metadata": {
    "tags": []
   },
   "outputs": [
    {
     "output_type": "stream",
     "name": "stdout",
     "text": "you're ready to submit!\n"
    }
   ],
   "source": [
    "if submission.shape == sample.shape:\n",
    "    if submission.columns.all() == sample.columns.all():\n",
    "        if submission.id.all() == sample.id.all():\n",
    "            print(\"you're ready to submit!\")\n",
    "            submission.to_csv(\"to_submit.csv\", index = False)\n",
    "            # ¡¡¡¡¡¡¡ADD INDEX = FALSE!!!!!!!!!"
   ]
  },
  {
   "cell_type": "code",
   "execution_count": null,
   "metadata": {},
   "outputs": [],
   "source": []
  }
 ],
 "metadata": {
  "kernelspec": {
   "display_name": "Python 3.8.3 64-bit",
   "language": "python",
   "name": "python_defaultSpec_1599934060776"
  },
  "language_info": {
   "codemirror_mode": {
    "name": "ipython",
    "version": 3
   },
   "file_extension": ".py",
   "mimetype": "text/x-python",
   "name": "python",
   "nbconvert_exporter": "python",
   "pygments_lexer": "ipython3",
   "version": "3.8.3-final"
  }
 },
 "nbformat": 4,
 "nbformat_minor": 4
}