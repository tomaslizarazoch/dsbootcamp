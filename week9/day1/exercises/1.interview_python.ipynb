{
 "metadata": {
  "language_info": {
   "codemirror_mode": {
    "name": "ipython",
    "version": 3
   },
   "file_extension": ".py",
   "mimetype": "text/x-python",
   "name": "python",
   "nbconvert_exporter": "python",
   "pygments_lexer": "ipython3",
   "version": "3.8.3-final"
  },
  "orig_nbformat": 2,
  "kernelspec": {
   "name": "python_defaultSpec_1600166717239",
   "display_name": "Python 3.8.3 64-bit"
  }
 },
 "nbformat": 4,
 "nbformat_minor": 2,
 "cells": [
  {
   "cell_type": "markdown",
   "metadata": {},
   "source": [
    "Here's your coding interview problem for today.\n",
    "\n",
    "This problem was asked by Facebook.\n",
    "\n",
    "Given a string of round, curly, and square open and closing brackets, return whether the brackets are balanced (well-formed).\n",
    "\n",
    "For example, given the string \"([])[]({})\", you should return true.\n",
    "\n",
    "Given the string \"([)]\" or \"((()\", you should return false."
   ]
  },
  {
   "cell_type": "code",
   "execution_count": 5,
   "metadata": {
    "tags": []
   },
   "outputs": [
    {
     "output_type": "stream",
     "name": "stdout",
     "text": "True\n"
    }
   ],
   "source": [
    "# Your code\n",
    "\n",
    "def balancedBrackets(string):\n",
    "    \n",
    "    opening_brackets = \"({[\"\n",
    "    closing_brackets = \")}]\"\n",
    "    matching_brackets = {\")\": \"(\", \"}\": \"{\", \"]\": \"[\"}\n",
    "    bracket_stack = []\n",
    "\n",
    "    for char in string:\n",
    "        if char in opening_brackets:\n",
    "            bracket_stack.append(char)\n",
    "        elif char in closing_brackets:\n",
    "            if len(bracket_stack) == 0:\n",
    "                return False\n",
    "            if bracket_stack[-1] == matching_brackets[char]:\n",
    "                bracket_stack.pop()\n",
    "            else:\n",
    "                return False\n",
    "    return len(bracket_stack) == 0\n",
    "\n",
    "print(balancedBrackets(\"([])\"))"
   ]
  },
  {
   "cell_type": "code",
   "execution_count": null,
   "metadata": {},
   "outputs": [],
   "source": []
  }
 ]
}