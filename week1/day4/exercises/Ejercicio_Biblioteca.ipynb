{
 "cells": [
  {
   "cell_type": "markdown",
   "metadata": {},
   "source": [
    "# Ejercicio La Biblioteca | Precurso DSJUN20 | The Bridge"
   ]
  },
  {
   "cell_type": "markdown",
   "metadata": {},
   "source": [
    "![biblioteca](https://static2.abc.es/media/familia/2018/11/02/AdobeStock_210538561-kJTF--620x349@abc.jpg)"
   ]
  },
  {
   "cell_type": "markdown",
   "metadata": {},
   "source": [
    "Es tu primer día de trabajo en la Biblioteca de tu barrio y ya tienes tu primera tarea. Te acaban de pasar una lista con libros y la lista de unidades disponibles."
   ]
  },
  {
   "cell_type": "code",
   "execution_count": 3,
   "metadata": {},
   "outputs": [],
   "source": [
    "libros = [\"El mal de Corcira\", \"Un mundo feliz\", \"Lolita\", \"Crimen y castigo\", \"Python from for to pro\",\\\n",
    "          \"El señor de los anillos\", \"Cien años de soledad\", \"Harry Potter\", \"Lectura Fácil\", \"Seda\",\\\n",
    "          \"La chica de nieve\", \"El día que se perdió la cordura\", \"Data Science\"]"
   ]
  },
  {
   "cell_type": "code",
   "execution_count": 4,
   "metadata": {},
   "outputs": [],
   "source": [
    "biblioteca = [(\"El mal de Corcira\",4),(\"Un mundo feliz\", 2),(\"Lolita\", 5),\\\n",
    "              (\"Crimen y castigo\",2),(\"Python from for to pro\", 0),(\"El señor de los anillos\", 6),\\\n",
    "              (\"Cien años de soledad\", 5),(\"Harry Potter\", 9),(\"Lectura Fácil\", 4),(\"Seda\", 2),\\\n",
    "              (\"La chica de nieve\", 6),(\"El día que se perdió la cordura\", 3), (\"Data Science\", 0)]"
   ]
  },
  {
   "cell_type": "markdown",
   "metadata": {},
   "source": [
    "1. ¿Cuántos títulos diferentes tienen en esta biblioteca?"
   ]
  },
  {
   "cell_type": "code",
   "execution_count": 15,
   "metadata": {
    "tags": []
   },
   "outputs": [
    {
     "output_type": "stream",
     "name": "stdout",
     "text": "El numero de titulos diferentes que tiene la biblioteca es de: 13\n"
    }
   ],
   "source": [
    "#your code here\n",
    "\n",
    "titulos_diferentes = 0\n",
    "\n",
    "for tit in biblioteca:\n",
    "    titulos_diferentes += 1 \n",
    "\n",
    "print('El numero de titulos diferentes que tiene la biblioteca es de:' , titulos_diferentes)\n",
    "\n",
    "\n"
   ]
  },
  {
   "cell_type": "markdown",
   "metadata": {},
   "source": [
    "2. ¿Cuántas letras componen la palabra *Seda*? "
   ]
  },
  {
   "cell_type": "code",
   "execution_count": 23,
   "metadata": {
    "tags": []
   },
   "outputs": [
    {
     "output_type": "stream",
     "name": "stdout",
     "text": "la palabra buscada tiene 4 letras\n"
    }
   ],
   "source": [
    "#your code here\n",
    "for palab , n in biblioteca:\n",
    "    if palab == 'Seda':\n",
    "        print('la palabra buscada tiene' , len(palab), 'letras')\n"
   ]
  },
  {
   "cell_type": "markdown",
   "metadata": {},
   "source": [
    "3. ¿Cuántas unidades hay del libro *Seda*?"
   ]
  },
  {
   "cell_type": "code",
   "execution_count": 27,
   "metadata": {
    "tags": []
   },
   "outputs": [
    {
     "output_type": "stream",
     "name": "stdout",
     "text": "Unidades del libro buscado: 2\n"
    }
   ],
   "source": [
    "#your code here\n",
    "\n",
    "for seda, cant in biblioteca:\n",
    "    if seda =='Seda':\n",
    "        print('Unidades del libro buscado:', cant)"
   ]
  },
  {
   "cell_type": "markdown",
   "metadata": {},
   "source": [
    "4. Quien registraba los libros antes de ti dejo pendiente de añadir a la lista **libros** la variable **pendiente**, además debió confundir el famoso libro de George Orwell *1984*, con un número, asignándolo como un integer.\n",
    "¿Puedes cambiarlo y pasar a string este elemento y añadirlo a **libros**?"
   ]
  },
  {
   "cell_type": "code",
   "execution_count": 28,
   "metadata": {},
   "outputs": [
    {
     "output_type": "execute_result",
     "data": {
      "text/plain": "['El mal de Corcira',\n 'Un mundo feliz',\n 'Lolita',\n 'Crimen y castigo',\n 'Python from for to pro',\n 'El señor de los anillos',\n 'Cien años de soledad',\n 'Harry Potter',\n 'Lectura Fácil',\n 'Seda',\n 'La chica de nieve',\n 'El día que se perdió la cordura',\n 'Data Science',\n 1984]"
     },
     "metadata": {},
     "execution_count": 28
    }
   ],
   "source": [
    "pendiente = 1984\n",
    "\n",
    "libros.append(pendiente)\n",
    "libros"
   ]
  },
  {
   "cell_type": "code",
   "execution_count": 12,
   "metadata": {},
   "outputs": [],
   "source": [
    "#your code here"
   ]
  },
  {
   "cell_type": "markdown",
   "metadata": {},
   "source": [
    "5. Te piden que añadas a esta lista el nuevo libro de Los Juegos del hambre que se titula *Balada de pájaros cantores y serpientes*. Has contado las unidades y han llegado 10. \n",
    "\n",
    "    a. Crea una variable con el título del libro, que se llame **libro_1**. Añade este elemento a la lista **libros**.\n",
    "\n",
    "    b. Crea una variable con el número de unidades, que se llame **uds_1**.\n",
    "\n",
    "    c. Crea una variable que sea una lista llamada **nuevo_libro** en el que su primer elemento sea **libro_1** y el segundo **uds_1**. \n",
    "\n",
    "    d. Convierte a **nuevo_libro** a tupla.\n",
    "    (muestra qué tipo es ahora esta variable)\n",
    "\n",
    "    e. Añade **nuevo_libro** a la lista **biblioteca** "
   ]
  },
  {
   "cell_type": "code",
   "execution_count": 29,
   "metadata": {},
   "outputs": [
    {
     "output_type": "execute_result",
     "data": {
      "text/plain": "['El mal de Corcira',\n 'Un mundo feliz',\n 'Lolita',\n 'Crimen y castigo',\n 'Python from for to pro',\n 'El señor de los anillos',\n 'Cien años de soledad',\n 'Harry Potter',\n 'Lectura Fácil',\n 'Seda',\n 'La chica de nieve',\n 'El día que se perdió la cordura',\n 'Data Science',\n 1984,\n 'Balada de pájaros cantores y serpientes']"
     },
     "metadata": {},
     "execution_count": 29
    }
   ],
   "source": [
    "#your code here\n",
    "\n",
    "libro_1 = 'Balada de pájaros cantores y serpientes'\n",
    "libros.append(libro_1)\n",
    "libros"
   ]
  },
  {
   "cell_type": "code",
   "execution_count": 38,
   "metadata": {},
   "outputs": [
    {
     "output_type": "execute_result",
     "data": {
      "text/plain": "[('El mal de Corcira', 4),\n ('Un mundo feliz', 2),\n ('Lolita', 5),\n ('Crimen y castigo', 2),\n ('Python from for to pro', 0),\n ('El señor de los anillos', 6),\n ('Cien años de soledad', 5),\n ('Harry Potter', 9),\n ('Lectura Fácil', 4),\n ('Seda', 2),\n ('La chica de nieve', 6),\n ('El día que se perdió la cordura', 3),\n ('Data Science', 0),\n ('Balada de pájaros cantores y serpientes', 10)]"
     },
     "metadata": {},
     "execution_count": 38
    }
   ],
   "source": [
    "biblioteca"
   ]
  },
  {
   "cell_type": "code",
   "execution_count": 34,
   "metadata": {
    "tags": []
   },
   "outputs": [
    {
     "output_type": "stream",
     "name": "stdout",
     "text": "<class 'list'>\n<class 'tuple'>\n"
    },
    {
     "output_type": "execute_result",
     "data": {
      "text/plain": "[('El mal de Corcira', 4),\n ('Un mundo feliz', 2),\n ('Lolita', 5),\n ('Crimen y castigo', 2),\n ('Python from for to pro', 0),\n ('El señor de los anillos', 6),\n ('Cien años de soledad', 5),\n ('Harry Potter', 9),\n ('Lectura Fácil', 4),\n ('Seda', 2),\n ('La chica de nieve', 6),\n ('El día que se perdió la cordura', 3),\n ('Data Science', 0),\n ('Balada de pájaros cantores y serpientes', 10),\n ('Balada de pájaros cantores y serpientes', 10)]"
     },
     "metadata": {},
     "execution_count": 34
    }
   ],
   "source": [
    "uds_1 = 10\n",
    "nuevo_libro = [libro_1, uds_1]\n",
    "print(type(nuevo_libro))\n",
    "nuevo_libro = tuple(nuevo_libro)\n",
    "print(type(nuevo_libro))\n",
    "biblioteca.append(nu)\n",
    "biblioteca"
   ]
  },
  {
   "cell_type": "markdown",
   "metadata": {},
   "source": [
    "6. Acaban de traer una unidad más de *El mal de Corcira*, añade una unidad más al segundo elemento del primer elemento de la lista **biblioteca**."
   ]
  },
  {
   "cell_type": "code",
   "execution_count": 19,
   "metadata": {},
   "outputs": [
    {
     "data": {
      "text/plain": [
       "('El mal de Corcira', 4)"
      ]
     },
     "execution_count": 19,
     "metadata": {},
     "output_type": "execute_result"
    }
   ],
   "source": [
    "biblioteca[0]"
   ]
  },
  {
   "cell_type": "code",
   "execution_count": 20,
   "metadata": {},
   "outputs": [
    {
     "data": {
      "text/plain": [
       "4"
      ]
     },
     "execution_count": 20,
     "metadata": {},
     "output_type": "execute_result"
    }
   ],
   "source": [
    "biblioteca[0][1]"
   ]
  },
  {
   "cell_type": "code",
   "execution_count": 21,
   "metadata": {},
   "outputs": [
    {
     "ename": "TypeError",
     "evalue": "'tuple' object does not support item assignment",
     "output_type": "error",
     "traceback": [
      "\u001b[0;31m---------------------------------------------------------------------------\u001b[0m",
      "\u001b[0;31mTypeError\u001b[0m                                 Traceback (most recent call last)",
      "\u001b[0;32m<ipython-input-21-8a7bcc0d7ddc>\u001b[0m in \u001b[0;36m<module>\u001b[0;34m\u001b[0m\n\u001b[0;32m----> 1\u001b[0;31m \u001b[0mbiblioteca\u001b[0m\u001b[0;34m[\u001b[0m\u001b[0;36m0\u001b[0m\u001b[0;34m]\u001b[0m\u001b[0;34m[\u001b[0m\u001b[0;36m1\u001b[0m\u001b[0;34m]\u001b[0m \u001b[0;34m=\u001b[0m \u001b[0mbiblioteca\u001b[0m\u001b[0;34m[\u001b[0m\u001b[0;36m0\u001b[0m\u001b[0;34m]\u001b[0m\u001b[0;34m[\u001b[0m\u001b[0;36m1\u001b[0m\u001b[0;34m]\u001b[0m \u001b[0;34m-\u001b[0m \u001b[0;36m1\u001b[0m\u001b[0;34m\u001b[0m\u001b[0;34m\u001b[0m\u001b[0m\n\u001b[0m",
      "\u001b[0;31mTypeError\u001b[0m: 'tuple' object does not support item assignment"
     ]
    }
   ],
   "source": [
    "biblioteca[0][1] = biblioteca[0][1] - 1"
   ]
  },
  {
   "cell_type": "markdown",
   "metadata": {},
   "source": [
    "Busca en google este error y explica porqué no se puede añadir una unidad más. ¿Se te ocurre cómo podrías alterar este dato?"
   ]
  },
  {
   "cell_type": "code",
   "execution_count": null,
   "metadata": {},
   "outputs": [],
   "source": [
    "#your comment here\n",
    "\n",
    "# no se puede sumar la otra unidad por lo que es un tupla. La tupla es inmutable, tendria que cambiar la tupla a lista, hacer un remove de la posicion a cambiar e insertar el nuevo valor tras dicha modificacion\n"
   ]
  },
  {
   "cell_type": "markdown",
   "metadata": {},
   "source": [
    "Convierte la tupla en una lista para poder modificar el segundo elemento y añadir esta unidad. Asigna la tupla convertida a lista a la variable **tup_to_list** haz los cambios, agrega la unidad y vuelve a añadir la lista ya convertida en tupla a la lista **biblioteca**."
   ]
  },
  {
   "cell_type": "code",
   "execution_count": 46,
   "metadata": {
    "tags": []
   },
   "outputs": [
    {
     "output_type": "stream",
     "name": "stdout",
     "text": "<class 'list'>\n"
    }
   ],
   "source": [
    "biblioteca[0] = list(biblioteca[0])\n",
    "print(type(biblioteca[0]))"
   ]
  },
  {
   "cell_type": "code",
   "execution_count": 47,
   "metadata": {},
   "outputs": [
    {
     "output_type": "execute_result",
     "data": {
      "text/plain": "['El mal de Corcira']"
     },
     "metadata": {},
     "execution_count": 47
    }
   ],
   "source": [
    "biblioteca[0].pop()\n",
    "biblioteca[0]"
   ]
  },
  {
   "cell_type": "code",
   "execution_count": 48,
   "metadata": {},
   "outputs": [
    {
     "output_type": "execute_result",
     "data": {
      "text/plain": "['El mal de Corcira', 5]"
     },
     "metadata": {},
     "execution_count": 48
    }
   ],
   "source": [
    "biblioteca[0].insert(1,5)\n",
    "biblioteca[0]"
   ]
  },
  {
   "cell_type": "code",
   "execution_count": 51,
   "metadata": {},
   "outputs": [],
   "source": [
    "biblioteca[0] = tuple(biblioteca[0])"
   ]
  },
  {
   "cell_type": "code",
   "execution_count": 52,
   "metadata": {},
   "outputs": [
    {
     "output_type": "execute_result",
     "data": {
      "text/plain": "[('El mal de Corcira', 5),\n ('Un mundo feliz', 2),\n ('Lolita', 5),\n ('Crimen y castigo', 2),\n ('Python from for to pro', 0),\n ('El señor de los anillos', 6),\n ('Cien años de soledad', 5),\n ('Harry Potter', 9),\n ('Lectura Fácil', 4),\n ('Seda', 2),\n ('La chica de nieve', 6),\n ('El día que se perdió la cordura', 3),\n ('Data Science', 0),\n ('Balada de pájaros cantores y serpientes', 10),\n ['El mal de Corcira', 5],\n ('El mal de Corcira', 5)]"
     },
     "metadata": {},
     "execution_count": 52
    }
   ],
   "source": [
    "tup_to_list = biblioteca[0]\n",
    "biblioteca.append(tup_to_list)\n",
    "biblioteca"
   ]
  },
  {
   "cell_type": "code",
   "execution_count": 45,
   "metadata": {
    "tags": []
   },
   "outputs": [
    {
     "output_type": "stream",
     "name": "stdout",
     "text": "<class 'tuple'>\n"
    }
   ],
   "source": [
    "#your code here\n",
    "\n",
    "\n",
    "biblioteca[0]\n",
    "print(type(biblioteca[0]))"
   ]
  },
  {
   "cell_type": "markdown",
   "metadata": {},
   "source": [
    "Ahora, tenemos dos tuplas con el libro *El mal de Corcira*, pero esto no es lo que queremos. Elimina el primer elemento de la lista **biblioteca**.\n",
    "\n",
    "Hint: https://www.programiz.com/python-programming/methods/list/remove"
   ]
  },
  {
   "cell_type": "code",
   "execution_count": 54,
   "metadata": {},
   "outputs": [
    {
     "output_type": "execute_result",
     "data": {
      "text/plain": "['El mal de Corcira', 5]"
     },
     "metadata": {},
     "execution_count": 54
    }
   ],
   "source": [
    "biblioteca.pop()"
   ]
  },
  {
   "cell_type": "code",
   "execution_count": 55,
   "metadata": {},
   "outputs": [
    {
     "output_type": "execute_result",
     "data": {
      "text/plain": "[('El mal de Corcira', 5),\n ('Un mundo feliz', 2),\n ('Lolita', 5),\n ('Crimen y castigo', 2),\n ('Python from for to pro', 0),\n ('El señor de los anillos', 6),\n ('Cien años de soledad', 5),\n ('Harry Potter', 9),\n ('Lectura Fácil', 4),\n ('Seda', 2),\n ('La chica de nieve', 6),\n ('El día que se perdió la cordura', 3),\n ('Data Science', 0),\n ('Balada de pájaros cantores y serpientes', 10)]"
     },
     "metadata": {},
     "execution_count": 55
    }
   ],
   "source": [
    "biblioteca"
   ]
  },
  {
   "cell_type": "code",
   "execution_count": 53,
   "metadata": {},
   "outputs": [
    {
     "output_type": "execute_result",
     "data": {
      "text/plain": "('El mal de Corcira', 5)"
     },
     "metadata": {},
     "execution_count": 53
    }
   ],
   "source": [
    "#your code here\n",
    "biblioteca.pop()"
   ]
  },
  {
   "cell_type": "code",
   "execution_count": 63,
   "metadata": {
    "tags": []
   },
   "outputs": [
    {
     "output_type": "stream",
     "name": "stdout",
     "text": "Python from for to pro , No esta Disponible\nData Science , No esta Disponible\n"
    }
   ],
   "source": [
    "for ejemplar, cant in biblioteca:\n",
    "    if cant == 0:\n",
    "        print(ejemplar , ', No esta Disponible')"
   ]
  },
  {
   "cell_type": "markdown",
   "metadata": {},
   "source": [
    "7. Te han pedido que localices los títulos de los libros de los que no disponen de unidades. Es decir, su segundo elemento, es igual a 0. "
   ]
  },
  {
   "cell_type": "markdown",
   "metadata": {},
   "source": [
    "Bonus:\n",
    "¿Cómo meterías estos dos elementos en una lista llamada **missing**?"
   ]
  },
  {
   "cell_type": "code",
   "execution_count": null,
   "metadata": {},
   "outputs": [],
   "source": []
  },
  {
   "cell_type": "code",
   "execution_count": 65,
   "metadata": {
    "tags": []
   },
   "outputs": [
    {
     "output_type": "stream",
     "name": "stdout",
     "text": "los libros no disponibles son: Python from for to pro\nlos libros no disponibles son: Data Science\n"
    }
   ],
   "source": [
    "missing = []\n",
    "\n",
    "for missing_1 , cero in biblioteca:\n",
    "    if cero == 0:\n",
    "        missing.append(missing_1)\n",
    "\n",
    "        print('los libros no disponibles son:' , missing_1)"
   ]
  }
 ],
 "metadata": {
  "kernelspec": {
   "display_name": "Python 3",
   "language": "python",
   "name": "python3"
  },
  "language_info": {
   "codemirror_mode": {
    "name": "ipython",
    "version": 3
   },
   "file_extension": ".py",
   "mimetype": "text/x-python",
   "name": "python",
   "nbconvert_exporter": "python",
   "pygments_lexer": "ipython3",
   "version": "3.7.4-final"
  }
 },
 "nbformat": 4,
 "nbformat_minor": 4
}