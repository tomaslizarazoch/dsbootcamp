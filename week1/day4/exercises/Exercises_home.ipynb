{
 "cells": [
  {
   "cell_type": "code",
   "execution_count": 4,
   "metadata": {
    "tags": []
   },
   "outputs": [
    {
     "output_type": "stream",
     "name": "stdout",
     "text": "Hola Mundo!\n"
    }
   ],
   "source": [
    "# Ejercicio 1\n",
    "### Escribir un programa que muestre por pantalla la cadena ¡Hola Mundo!.\n",
    "\n",
    "print('Hola Mundo!')"
   ]
  },
  {
   "cell_type": "code",
   "execution_count": 5,
   "metadata": {
    "tags": []
   },
   "outputs": [
    {
     "output_type": "stream",
     "name": "stdout",
     "text": "Hola mundo\n"
    }
   ],
   "source": [
    "# Ejercicio 2\n",
    "# Escribir un programa que almacene la cadena ¡Hola Mundo! en una variable y luego muestre por pantalla el contenido de la variable.\n",
    "\n",
    "welcome = print('Hola mundo')\n",
    "welcome"
   ]
  },
  {
   "cell_type": "code",
   "execution_count": 6,
   "metadata": {
    "tags": []
   },
   "outputs": [
    {
     "output_type": "stream",
     "name": "stdout",
     "text": "hi Tomas\n"
    }
   ],
   "source": [
    "# Ejercicio 3\n",
    "# Escribir un programa que pregunte el nombre del usuario en la consola y después de que el usuario lo introduzca muestre por pantalla la cadena ¡Hola <nombre>!, donde <nombre> es el nombre que el usuario haya introducido.\n",
    "\n",
    "name = input('Type your name:')\n",
    "print('Hi', name)\n",
    "\n"
   ]
  },
  {
   "cell_type": "code",
   "execution_count": 10,
   "metadata": {
    "tags": []
   },
   "outputs": [
    {
     "output_type": "stream",
     "name": "stdout",
     "text": "Tomas \nTomas \nTomas \nTomas \nTomas \n\n"
    }
   ],
   "source": [
    "# Ejercicio 4\n",
    "# Escribir un programa que pregunte el nombre del usuario en la consola y un número entero e imprima por pantalla en líneas distintas el nombre del usuario tantas veces como el número introducido.\n",
    "\n",
    "name = input('Type your name:')\n",
    "number = input('Type a number:')\n",
    "print((name + '\\n') * int(number))"
   ]
  },
  {
   "cell_type": "code",
   "execution_count": 11,
   "metadata": {
    "tags": []
   },
   "outputs": [
    {
     "output_type": "stream",
     "name": "stdout",
     "text": "TOMAS has 5 letters\n"
    }
   ],
   "source": [
    "### Ejercicio 5\n",
    "### Escribir un programa que pregunte el nombre del usuario en la consola y después de que el usuario lo introduzca muestre por pantalla <NOMBRE> tiene <n> letras, donde <NOMBRE> es el nombre de usuario en mayúsculas y <n> es el número de letras que tienen el nombre\n",
    "\n",
    "name = input('Type your name:').upper()\n",
    "print(name, 'has', len(name), 'letters')"
   ]
  },
  {
   "cell_type": "code",
   "execution_count": 15,
   "metadata": {},
   "outputs": [
    {
     "output_type": "execute_result",
     "data": {
      "text/plain": "4.0"
     },
     "metadata": {},
     "execution_count": 15
    }
   ],
   "source": [
    "## Ejercicio 6\n",
    "## Escribir un programa que realice la siguiente operación aritmética (3+22⋅5)2.\n",
    "\n",
    "((3+2)/2.5) ** 2"
   ]
  },
  {
   "cell_type": "code",
   "execution_count": 22,
   "metadata": {
    "tags": []
   },
   "outputs": [
    {
     "output_type": "stream",
     "name": "stdout",
     "text": "10 hours worked, at a cost per hour of 10 , your payment is 100\n"
    }
   ],
   "source": [
    "## Ejercicio 7\n",
    "## Escribir un programa que pregunte al usuario por el número de horas trabajadas y el coste por hora. Después debe mostrar por pantalla la paga que le corresponde.\n",
    "\n",
    "hours_worked = int(input('type your worked hours:'))\n",
    "hour_cost = int(input('type the cost of the hour'))\n",
    "salary = hours_worked * hour_cost\n",
    "print(hours_worked , 'hours worked, at a cost per hour of' , hour_cost , ', your payment is' , salary)"
   ]
  },
  {
   "cell_type": "code",
   "execution_count": 24,
   "metadata": {
    "tags": []
   },
   "outputs": [
    {
     "output_type": "stream",
     "name": "stdout",
     "text": "3.0\n"
    }
   ],
   "source": [
    "# Ejercicio 8\n",
    "# Escribir un programa que lea un entero positivo, n, introducido por el usuario y después muestre en pantalla la suma de todos los enteros desde 1 hasta n. La suma de los n primeros enteros positivos puede ser calculada de la siguiente forma:\n",
    "\n",
    "# suma=n(n+1)2\n",
    "\n",
    "n = int(input('Type a number:'))\n",
    "sum_1 = n * (n + 1) / 2\n",
    "print(sum_1)"
   ]
  },
  {
   "cell_type": "code",
   "execution_count": 29,
   "metadata": {
    "tags": []
   },
   "outputs": [
    {
     "output_type": "stream",
     "name": "stdout",
     "text": "for a weight of 80 Kg, and height of 1.8 mt, your bmr is: 24.69\n"
    }
   ],
   "source": [
    "# Ejercicio 9\n",
    "\n",
    "# Escribir un programa que pida al usuario su peso (en kg) y estatura (en metros), calcule el índice de masa corporal y lo almacene en una variable, y muestre por pantalla la frase Tu índice de masa corporal es <imc> donde <imc> es el índice de masa corporal calculado redondeado con dos decimales.\n",
    "\n",
    "weight = int(input('type your weight:'))\n",
    "height = float(input('type your height:'))\n",
    "bmr = round(weight / height ** 2 , 2)\n",
    "print('for a weight of', weight, 'Kg, and height of', height, 'mt, your bmr is:', bmr)\n",
    "\n"
   ]
  },
  {
   "cell_type": "code",
   "execution_count": 34,
   "metadata": {
    "tags": []
   },
   "outputs": [
    {
     "output_type": "stream",
     "name": "stdout",
     "text": "division of 27 and 4 gives a quotient of 6 and a rest of 3\n"
    }
   ],
   "source": [
    "## Ejercicio 10\n",
    "## Escribir un programa que pida al usuario dos números enteros y muestre por pantalla la <n> entre <m> da un cociente <c> y un resto <r> donde <n> y <m> son los números introducidos por el usuario, y <c> y <r> son el cociente y el resto de la división entera respectivamente.\n",
    "\n",
    "\n",
    "n = int(input('Type a number:'))\n",
    "m = int(input('Type a number:'))\n",
    "c = n // m\n",
    "r = n % m\n",
    "print('division of', n , 'and', m , 'gives a quotient of', c , 'and a rest of', r)"
   ]
  },
  {
   "cell_type": "code",
   "execution_count": 41,
   "metadata": {
    "tags": []
   },
   "outputs": [
    {
     "output_type": "stream",
     "name": "stdout",
     "text": "capital earned 1610.51\n"
    }
   ],
   "source": [
    "# Ejercicio 11\n",
    "# Escribir un programa que pregunte al usuario una cantidad a invertir, el interés anual y el número de años, y muestre por pantalla el capital obtenido en la inversión.\n",
    "\n",
    "investment = int(input('amount to invest:'))\n",
    "rate = int(input('type the annual rate:'))\n",
    "time = int(input('number of years'))\n",
    "\n",
    "capital = round(investment * (rate / 100 + 1) ** time , 2)\n",
    "print('capital earned', capital)\n"
   ]
  },
  {
   "cell_type": "code",
   "execution_count": 42,
   "metadata": {
    "tags": []
   },
   "outputs": [
    {
     "output_type": "stream",
     "name": "stdout",
     "text": "The weight of the order is 1870\n"
    }
   ],
   "source": [
    "## Ejercicio 12\n",
    "## Una juguetería tiene mucho éxito en dos de sus productos: payasos y muñecas. Suele hacer venta por correo y la empresa de logística les cobra por peso de cada paquete así que deben calcular el peso de los payasos y muñecas que saldrán en cada paquete a demanda. Cada payaso pesa 112 g y cada muñeca 75 g. Escribir un programa que lea el número de payasos y muñecas vendidos en el último pedido y calcule el peso total del paquete que será enviado.\n",
    "\n",
    "clown = 112\n",
    "doll = 75\n",
    "clown_order = int(input('how many clowns'))\n",
    "doll_order = int(input('how many dolls'))\n",
    "order = (clown * clown_order) + (doll * doll_order)\n",
    "\n",
    "print('The weight of the order is', order)"
   ]
  },
  {
   "cell_type": "code",
   "execution_count": 46,
   "metadata": {
    "tags": []
   },
   "outputs": [
    {
     "output_type": "stream",
     "name": "stdout",
     "text": "at the end of the year 1, your savings will increase to 10.4 at the end of the year 2 10.82 at the end of the year 3 11.25\n"
    }
   ],
   "source": [
    "\n",
    "## Ejercicio 13\n",
    "## Imagina que acabas de abrir una nueva cuenta de ahorros que te ofrece el 4% de interés al año. Estos ahorros debido a intereses, que no se cobran hasta finales de año, se te añaden al balance final de tu cuenta de ahorros. Escribir un programa que comience leyendo la cantidad de dinero depositada en la cuenta de ahorros, introducida por el usuario. Después el programa debe calcular y mostrar por pantalla la cantidad de ahorros tras el primer, segundo y tercer años. Redondear cada cantidad a dos decimales.\n",
    "\n",
    "\n",
    "saving = float(input('type the amount of your savings:'))\n",
    "rate = 0.04\n",
    "year_1 = round(saving * (1 + rate),2)\n",
    "year_2 = round(year_1 * (1 + rate),2)\n",
    "year_3 = round(year_2 * (1 + rate),2)\n",
    "\n",
    "print('at the end of the year 1, your savings will increase to', year_1 , 'at the end of the year 2', year_2 ,'at the end of the year 3' , year_3)\n",
    "\n"
   ]
  },
  {
   "cell_type": "code",
   "execution_count": 51,
   "metadata": {
    "tags": []
   },
   "outputs": [
    {
     "output_type": "stream",
     "name": "stdout",
     "text": "The price of fresh bread is 3.49\n The disccount of not fresh bread is 60.0 %\n the cost of your purchase is 1.4\n"
    }
   ],
   "source": [
    "## Ejercicio 14\n",
    "## Una panadería vende barras de pan a 3.49€ cada una. El pan que no es el día tiene un descuento del 60%. Escribir un programa que comience leyendo el número de barras vendidas que no son del día. Después el programa debe mostrar el precio habitual de una barra de pan, el descuento que se le hace por no ser fresca y el coste final total.\n",
    "\n",
    "bread_not_day= int(input('how many not fresh bread have sold'))\n",
    "price = 3.49\n",
    "discount = 0.60\n",
    "sale = round(bread_not_day * (price * (1 - discount)),2)\n",
    "\n",
    "\n",
    "print('The price of fresh bread is' , price)\n",
    "print(' The disccount of not fresh bread is', discount * 100 , '%')\n",
    "print(' the cost of your purchase is', sale)"
   ]
  },
  {
   "cell_type": "markdown",
   "metadata": {},
   "source": [
    "### Ejercicios de Condicionales\n"
   ]
  },
  {
   "cell_type": "code",
   "execution_count": 57,
   "metadata": {
    "tags": []
   },
   "outputs": [
    {
     "output_type": "stream",
     "name": "stdout",
     "text": "you are adult\n"
    }
   ],
   "source": [
    "# Ejercicio 1\n",
    "# Escribir un programa que pregunte al usuario su edad y muestre por pantalla si es mayor de edad o no.\n",
    "\n",
    "age = int(input('type your age:'))\n",
    "\n",
    "if age >= 18:\n",
    "    print('you are adult')\n",
    "else:\n",
    "    print('you are not adult')"
   ]
  },
  {
   "cell_type": "code",
   "execution_count": 63,
   "metadata": {
    "tags": []
   },
   "outputs": [
    {
     "output_type": "stream",
     "name": "stdout",
     "text": "correct password\n"
    }
   ],
   "source": [
    "# Ejercicio 2\n",
    "# Escribir un programa que almacene la cadena de caracteres contraseña en una variable, pregunte al usuario por la contraseña e imprima por pantalla si la contraseña introducida por el usuario coincide con la guardada en la variable sin tener en cuenta mayúsculas y minúsculas.\n",
    "\n",
    "password = 'tomas'\n",
    "validation = input('type the password')\n",
    "\n",
    "if password == validation.lower():\n",
    "    print('correct password')\n",
    "else:\n",
    "    print('wrong password')\n"
   ]
  },
  {
   "cell_type": "code",
   "execution_count": 67,
   "metadata": {
    "tags": []
   },
   "outputs": [
    {
     "output_type": "stream",
     "name": "stdout",
     "text": "10.0\n"
    }
   ],
   "source": [
    "# Ejercicio 3\n",
    "# Escribir un programa que pida al usuario dos números y muestre por pantalla su división. Si el divisor es cero el programa debe mostrar un error.\n",
    "\n",
    "number_1 = int(input('type a number'))\n",
    "number_2 = int(input('type another number'))\n",
    "\n",
    "if number_2 == 0:\n",
    "    print(False)\n",
    "else:\n",
    "    print(number_1 / number_2 )"
   ]
  },
  {
   "cell_type": "code",
   "execution_count": 72,
   "metadata": {
    "tags": []
   },
   "outputs": [
    {
     "output_type": "stream",
     "name": "stdout",
     "text": "odd\n"
    }
   ],
   "source": [
    "# Ejercicio 4\n",
    "# Escribir un programa que pida al usuario un número entero y muestre por pantalla si es par o impar.\n",
    "\n",
    "number = int(input('type a number'))\n",
    "\n",
    "if number % 2 == 0:\n",
    "    print('even')\n",
    "else:\n",
    "    print('odd')\n",
    "\n",
    "\n"
   ]
  },
  {
   "cell_type": "code",
   "execution_count": 75,
   "metadata": {
    "tags": []
   },
   "outputs": [
    {
     "output_type": "stream",
     "name": "stdout",
     "text": "Opps, you must pay taxes\n"
    }
   ],
   "source": [
    "# Ejercicio 5\n",
    "# Para tributar un determinado impuesto se debe ser mayor de 16 años y tener unos ingresos iguales o superiores a 1000 € mensuales. Escribir un programa que pregunte al usuario su edad y sus ingresos mensuales y muestre por pantalla si el usuario tiene que tributar o no.\n",
    "\n",
    "age = int(input('type your age:'))\n",
    "income = int(input('type your monthly income:'))\n",
    "\n",
    "if age >= 18 and income >= 1000:\n",
    "    print('Opps, you must pay taxes')\n",
    "else:\n",
    "    print('yeah!!!, you dont have to pay taxes... Yet')"
   ]
  },
  {
   "cell_type": "code",
   "execution_count": 77,
   "metadata": {
    "tags": []
   },
   "outputs": [
    {
     "output_type": "stream",
     "name": "stdout",
     "text": "your group is A\n"
    }
   ],
   "source": [
    "# Ejercicio 6\n",
    "# Los alumnos de un curso se han dividido en dos grupos A y B de acuerdo al sexo y el nombre. El grupo A esta formado por las mujeres con un nombre anterior a la M y los hombres con un nombre posterior a la N y el grupo B por el resto. Escribir un programa que pregunte al usuario su nombre y sexo, y muestre por pantalla el grupo que le corresponde.\n",
    "\n",
    "name = input('type your name:')\n",
    "gender = input('type your gender, M or F')\n",
    " \n",
    "if gender == 'M':\n",
    "    if name.lower() < 'm':\n",
    "        group = 'A'\n",
    "    else:\n",
    "        group = 'B'\n",
    "else: \n",
    "    if name.lower() > 'n':\n",
    "        group = 'A'\n",
    "    else:\n",
    "        group = 'B'\n",
    "print('your group is', group)"
   ]
  },
  {
   "cell_type": "markdown",
   "metadata": {},
   "source": [
    "Ejercicio 8\n",
    "\n",
    "Los tramos impositivos para la declaración de la renta en un determinado país son los siguientes:\n",
    "\n",
    "Renta\tTipo impositivo\n",
    "Menos de 10000€\t5%\n",
    "Entre 10000€ y 20000€\t15%\n",
    "Entre 200000€ y 35000€\t20%\n",
    "Entre 350000€ y 60000€\t30%\n",
    "Más de 60000€\t45%\n",
    "Escribir un programa que pregunte al usuario su renta anual y muestre por pantalla el tipo impositivo que le corresponde."
   ]
  },
  {
   "cell_type": "code",
   "execution_count": 91,
   "metadata": {
    "tags": []
   },
   "outputs": [
    {
     "output_type": "error",
     "ename": "SyntaxError",
     "evalue": "invalid syntax (<ipython-input-91-2cffe2278b0f>, line 5)",
     "traceback": [
      "\u001b[0;36m  File \u001b[0;32m\"<ipython-input-91-2cffe2278b0f>\"\u001b[0;36m, line \u001b[0;32m5\u001b[0m\n\u001b[0;31m    elif annual_income > 10000 or <= 20000:\u001b[0m\n\u001b[0m                                   ^\u001b[0m\n\u001b[0;31mSyntaxError\u001b[0m\u001b[0;31m:\u001b[0m invalid syntax\n"
     ]
    }
   ],
   "source": [
    "annual_income = int(input('what is your annual income'))\n",
    "\n",
    "if annual_income <= 10000:\n",
    "    tax = 5\n",
    "elif annual_income > 10000 and <= 20000:\n",
    "    tax = 15\n",
    "elif annual_income > 20000 and <= 35000:\n",
    "    tax = 20\n",
    "elif annual_income > 35000 and <= 60000:\n",
    "    tax = 30\n",
    "else:\n",
    "    tax = 45    \n",
    " \n",
    "print('your tax rate is',tax,'%')"
   ]
  },
  {
   "cell_type": "code",
   "execution_count": 94,
   "metadata": {
    "tags": []
   },
   "outputs": [
    {
     "output_type": "stream",
     "name": "stdout",
     "text": "your tax rate is 5 %\n"
    }
   ],
   "source": [
    "annual_income = int(input('what is your annual income'))\n",
    "\n",
    "if annual_income <= 10000:\n",
    "    tax = 5\n",
    "elif annual_income  < 20000:\n",
    "    tax = 15\n",
    "elif annual_income <  35000:\n",
    "    tax = 20\n",
    "elif annual_income < 60000:\n",
    "    tax = 30\n",
    "else:\n",
    "    tax = 45    \n",
    " \n",
    "print('your tax rate is',tax,'%')"
   ]
  },
  {
   "cell_type": "code",
   "execution_count": 96,
   "metadata": {
    "tags": []
   },
   "outputs": [
    {
     "output_type": "stream",
     "name": "stdout",
     "text": "the cover to pay is 10 €\n"
    }
   ],
   "source": [
    "# Ejercicio 9\n",
    "# Escribir un programa para una empresa que tiene salas de juegos para todas las edades y quiere calcular de forma automática el precio que debe cobrar a sus clientes por entrar. El programa debe preguntar al usuario la edad del cliente y mostrar el precio de la entrada. Si el cliente es menor de 4 años puede entrar gratis, si tiene entre 4 y 18 años debe pagar 5€ y si es mayor de 18 años, 10€.\n",
    "\n",
    "\n",
    "age = int(input('Type your age:'))\n",
    "\n",
    "if age <= 4:\n",
    "    cover = 0\n",
    "elif age < 18:\n",
    "    cover = 5\n",
    "else:\n",
    "    cover = 10\n",
    "print('the cover to pay is', cover , '€')\n"
   ]
  },
  {
   "cell_type": "code",
   "execution_count": null,
   "metadata": {},
   "outputs": [],
   "source": [
    "Ejercicio 10\n",
    "La pizzería Bella Napoli ofrece pizzas vegetarianas y no vegetarianas a sus clientes. Los ingredientes para cada tipo de pizza aparecen a continuación.\n",
    "\n",
    "Ingredientes vegetarianos: Pimiento y tofu.\n",
    "Ingredientes no vegetarianos: Peperoni, Jamón y Salmón.\n",
    "Escribir un programa que pregunte al usuario si quiere una pizza vegetariana o no, y en función de su respuesta le muestre un menú con los ingredientes disponibles para que elija. Solo se puede eligir un ingrediente además de la mozzarella y el tomate que están en todas la pizzas. Al final se debe mostrar por pantalla si la pizza elegida es vegetariana o no y todos los ingredientes que lleva."
   ]
  },
  {
   "cell_type": "code",
   "execution_count": 97,
   "metadata": {
    "tags": []
   },
   "outputs": [
    {
     "output_type": "stream",
     "name": "stdout",
     "text": "Bienvenido a la pizzeria Bella Napoli.\nTipos de pizza\n\t1- Vegetariana\n\t2- No vegetariana\n\nIngredientes de pizzas vegetarianas\n\t 1- Pimiento\n\t2- Tofu\n\nPizza vegetariana con mozzarella, tomate y tofu\n"
    }
   ],
   "source": [
    "# Presentación del menú con los tipos de pizza\n",
    "print(\"Bienvenido a la pizzeria Bella Napoli.\\nTipos de pizza\\n\\t1- Vegetariana\\n\\t2- No vegetariana\\n\")\n",
    "tipo = input(\"Introduce el número correspondiente al tipo de pizza que quieres:\")\n",
    "# Decisión sobre el tipo de pizza\n",
    "if tipo == \"1\":\n",
    "    print(\"Ingredientes de pizzas vegetarianas\\n\\t 1- Pimiento\\n\\t2- Tofu\\n\")\n",
    "    ingrediente = input(\"Introduce el ingrediente que deseas: \")\n",
    "    print(\"Pizza vegetariana con mozzarella, tomate y \", end=\"\")\n",
    "    if ingrediente == \"1\":\n",
    "        print(\"pimiento\")\n",
    "    else: \n",
    "        print(\"tofu\")\n",
    "else:\n",
    "    print(\"Ingredientes de pizzas no vegetarianas\\n\\t1- Peperoni\\n\\t2- Jamón\\n\\t3- Salmón\\n\")\n",
    "    ingrediente = input(\"Introduce el ingrediente que deseas: \")\n",
    "    print(\"Pizza no vegetarina con mozarrella, tomate y \", end=\"\")\n",
    "    if ingrediente == \"1\":\n",
    "        print(\"peperoni\")\n",
    "    elif ingrediente == \"2\":\n",
    "        print(\"jamón\")\n",
    "    else:\n",
    "        print(\"salmón\")\n",
    "        "
   ]
  },
  {
   "cell_type": "code",
   "execution_count": null,
   "metadata": {},
   "outputs": [],
   "source": []
  }
 ],
 "metadata": {
  "language_info": {
   "codemirror_mode": {
    "name": "ipython",
    "version": 3
   },
   "file_extension": ".py",
   "mimetype": "text/x-python",
   "name": "python",
   "nbconvert_exporter": "python",
   "pygments_lexer": "ipython3",
   "version": "3.7.4-final"
  },
  "orig_nbformat": 2,
  "kernelspec": {
   "name": "python37464bitbasecondaed52808596ad488483d8623928fe2dc4",
   "display_name": "Python 3.7.4 64-bit ('base': conda)"
  }
 },
 "nbformat": 4,
 "nbformat_minor": 2
}