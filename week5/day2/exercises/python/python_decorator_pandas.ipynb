{
 "cells": [
  {
   "cell_type": "markdown",
   "metadata": {},
   "source": [
    "## Delivery:"
   ]
  },
  {
   "cell_type": "markdown",
   "metadata": {},
   "source": [
    "Create, in your library/module, a protected function called 'f_protected' that creates a lambda function. The lambda function must receive a param 'x' and return a boolean True if 'x' is higher than 5.  Also, 'f_protected' must create a list ('l1') with 'list comprehesion' that generates a list from 0 to 15. Finally, 'f_protected' must return 'l1' filtered (with function 'filter') using the lambda function.\n",
    "\n",
    "After that, create a decorator called \"prepost\". The decorator must receive an *args and a **kwargs argument. \n",
    "\n",
    "If in 'kwargs' there is a key called \"url\", then it must do the next:\n",
    "\n",
    "    1. Open with pandas the url as 'csv'. The variable is called 'df'.\n",
    "    2. Do what '_f_protected' does (the function wrapped with the decorator). Simply, call the function.\n",
    "    3. Plot histograms of each column in 'df'.\n",
    "\n",
    "----------\n",
    "\n",
    "The url is:\n",
    "\n",
    "http://winterolympicsmedals.com/medals.csv\n",
    "\n",
    "Finally, use the decorator as follow and call the function:"
   ]
  },
  {
   "cell_type": "code",
   "execution_count": 72,
   "metadata": {
    "tags": []
   },
   "outputs": [
    {
     "output_type": "error",
     "ename": "IndentationError",
     "evalue": "expected an indented block (<ipython-input-72-7cc9e17a0c5d>, line 4)",
     "traceback": [
      "\u001b[0;36m  File \u001b[0;32m\"<ipython-input-72-7cc9e17a0c5d>\"\u001b[0;36m, line \u001b[0;32m4\u001b[0m\n\u001b[0;31m    @prepost(url=key_url)\u001b[0m\n\u001b[0m    ^\u001b[0m\n\u001b[0;31mIndentationError\u001b[0m\u001b[0;31m:\u001b[0m expected an indented block\n"
     ]
    }
   ],
   "source": [
    "def prepost(*arg, **kwargs):\n",
    "    #your prepost decorator code...\n",
    "\n",
    "    @prepost(url=key_url)   \n",
    "    def _f_protected():\n",
    "    #your _f_protected_code...\n",
    "\n",
    "filter_ = _f_protected()"
   ]
  },
  {
   "cell_type": "code",
   "execution_count": 1,
   "metadata": {},
   "outputs": [
    {
     "output_type": "execute_result",
     "data": {
      "text/plain": "[6, 7, 8, 9, 10, 11, 12, 13, 14, 15]"
     },
     "metadata": {},
     "execution_count": 1
    }
   ],
   "source": [
    "def _f_protected(x):\n",
    "    v = lambda x : x > 5\n",
    "    l1 = [x  for x in range(16)]\n",
    "    \n",
    "    return list(filter(v, l1))\n",
    "    \n",
    "   \n",
    "    \n",
    "e = _f_protected(7)\n",
    "e"
   ]
  },
  {
   "cell_type": "code",
   "execution_count": 29,
   "metadata": {},
   "outputs": [
    {
     "output_type": "error",
     "ename": "ModuleNotFoundError",
     "evalue": "No module named 'matplotlib'",
     "traceback": [
      "\u001b[0;31m---------------------------------------------------------------------------\u001b[0m",
      "\u001b[0;31mModuleNotFoundError\u001b[0m                       Traceback (most recent call last)",
      "\u001b[0;32m<ipython-input-29-b7a9767a617e>\u001b[0m in \u001b[0;36m<module>\u001b[0;34m\u001b[0m\n\u001b[1;32m      1\u001b[0m \u001b[0;32mimport\u001b[0m \u001b[0mpandas\u001b[0m \u001b[0;32mas\u001b[0m \u001b[0mpd\u001b[0m\u001b[0;34m\u001b[0m\u001b[0;34m\u001b[0m\u001b[0m\n\u001b[1;32m      2\u001b[0m \u001b[0;32mimport\u001b[0m \u001b[0mnumpy\u001b[0m \u001b[0;32mas\u001b[0m \u001b[0mnp\u001b[0m\u001b[0;34m\u001b[0m\u001b[0;34m\u001b[0m\u001b[0m\n\u001b[0;32m----> 3\u001b[0;31m \u001b[0;32mimport\u001b[0m \u001b[0mmatplotlib\u001b[0m\u001b[0;34m\u001b[0m\u001b[0;34m\u001b[0m\u001b[0m\n\u001b[0m",
      "\u001b[0;31mModuleNotFoundError\u001b[0m: No module named 'matplotlib'"
     ]
    }
   ],
   "source": [
    "import pandas as pd \n",
    "import numpy as np\n",
    "import matplotlib"
   ]
  },
  {
   "cell_type": "code",
   "execution_count": 17,
   "metadata": {},
   "outputs": [],
   "source": [
    "url = 'http://winterolympicsmedals.com/medals.csv'\n",
    "\n",
    "\n",
    "df = pd.read_csv(url, sep=\",\")"
   ]
  },
  {
   "cell_type": "code",
   "execution_count": 18,
   "metadata": {},
   "outputs": [
    {
     "output_type": "execute_result",
     "data": {
      "text/plain": "      Year      City       Sport      Discipline  NOC            Event  \\\n0     1924  Chamonix     Skating  Figure skating  AUT       individual   \n1     1924  Chamonix     Skating  Figure skating  AUT       individual   \n2     1924  Chamonix     Skating  Figure skating  AUT            pairs   \n3     1924  Chamonix   Bobsleigh       Bobsleigh  BEL         four-man   \n4     1924  Chamonix  Ice Hockey      Ice Hockey  CAN       ice hockey   \n...    ...       ...         ...             ...  ...              ...   \n2306  2006     Turin      Skiing       Snowboard  USA        Half-pipe   \n2307  2006     Turin      Skiing       Snowboard  USA        Half-pipe   \n2308  2006     Turin      Skiing       Snowboard  USA        Half-pipe   \n2309  2006     Turin      Skiing       Snowboard  USA  Snowboard Cross   \n2310  2006     Turin      Skiing       Snowboard  USA  Snowboard Cross   \n\n     Event gender   Medal  \n0               M  Silver  \n1               W    Gold  \n2               X    Gold  \n3               M  Bronze  \n4               M    Gold  \n...           ...     ...  \n2306            M  Silver  \n2307            W    Gold  \n2308            W  Silver  \n2309            M    Gold  \n2310            W  Silver  \n\n[2311 rows x 8 columns]",
      "text/html": "<div>\n<style scoped>\n    .dataframe tbody tr th:only-of-type {\n        vertical-align: middle;\n    }\n\n    .dataframe tbody tr th {\n        vertical-align: top;\n    }\n\n    .dataframe thead th {\n        text-align: right;\n    }\n</style>\n<table border=\"1\" class=\"dataframe\">\n  <thead>\n    <tr style=\"text-align: right;\">\n      <th></th>\n      <th>Year</th>\n      <th>City</th>\n      <th>Sport</th>\n      <th>Discipline</th>\n      <th>NOC</th>\n      <th>Event</th>\n      <th>Event gender</th>\n      <th>Medal</th>\n    </tr>\n  </thead>\n  <tbody>\n    <tr>\n      <th>0</th>\n      <td>1924</td>\n      <td>Chamonix</td>\n      <td>Skating</td>\n      <td>Figure skating</td>\n      <td>AUT</td>\n      <td>individual</td>\n      <td>M</td>\n      <td>Silver</td>\n    </tr>\n    <tr>\n      <th>1</th>\n      <td>1924</td>\n      <td>Chamonix</td>\n      <td>Skating</td>\n      <td>Figure skating</td>\n      <td>AUT</td>\n      <td>individual</td>\n      <td>W</td>\n      <td>Gold</td>\n    </tr>\n    <tr>\n      <th>2</th>\n      <td>1924</td>\n      <td>Chamonix</td>\n      <td>Skating</td>\n      <td>Figure skating</td>\n      <td>AUT</td>\n      <td>pairs</td>\n      <td>X</td>\n      <td>Gold</td>\n    </tr>\n    <tr>\n      <th>3</th>\n      <td>1924</td>\n      <td>Chamonix</td>\n      <td>Bobsleigh</td>\n      <td>Bobsleigh</td>\n      <td>BEL</td>\n      <td>four-man</td>\n      <td>M</td>\n      <td>Bronze</td>\n    </tr>\n    <tr>\n      <th>4</th>\n      <td>1924</td>\n      <td>Chamonix</td>\n      <td>Ice Hockey</td>\n      <td>Ice Hockey</td>\n      <td>CAN</td>\n      <td>ice hockey</td>\n      <td>M</td>\n      <td>Gold</td>\n    </tr>\n    <tr>\n      <th>...</th>\n      <td>...</td>\n      <td>...</td>\n      <td>...</td>\n      <td>...</td>\n      <td>...</td>\n      <td>...</td>\n      <td>...</td>\n      <td>...</td>\n    </tr>\n    <tr>\n      <th>2306</th>\n      <td>2006</td>\n      <td>Turin</td>\n      <td>Skiing</td>\n      <td>Snowboard</td>\n      <td>USA</td>\n      <td>Half-pipe</td>\n      <td>M</td>\n      <td>Silver</td>\n    </tr>\n    <tr>\n      <th>2307</th>\n      <td>2006</td>\n      <td>Turin</td>\n      <td>Skiing</td>\n      <td>Snowboard</td>\n      <td>USA</td>\n      <td>Half-pipe</td>\n      <td>W</td>\n      <td>Gold</td>\n    </tr>\n    <tr>\n      <th>2308</th>\n      <td>2006</td>\n      <td>Turin</td>\n      <td>Skiing</td>\n      <td>Snowboard</td>\n      <td>USA</td>\n      <td>Half-pipe</td>\n      <td>W</td>\n      <td>Silver</td>\n    </tr>\n    <tr>\n      <th>2309</th>\n      <td>2006</td>\n      <td>Turin</td>\n      <td>Skiing</td>\n      <td>Snowboard</td>\n      <td>USA</td>\n      <td>Snowboard Cross</td>\n      <td>M</td>\n      <td>Gold</td>\n    </tr>\n    <tr>\n      <th>2310</th>\n      <td>2006</td>\n      <td>Turin</td>\n      <td>Skiing</td>\n      <td>Snowboard</td>\n      <td>USA</td>\n      <td>Snowboard Cross</td>\n      <td>W</td>\n      <td>Silver</td>\n    </tr>\n  </tbody>\n</table>\n<p>2311 rows × 8 columns</p>\n</div>"
     },
     "metadata": {},
     "execution_count": 18
    }
   ],
   "source": [
    "df"
   ]
  },
  {
   "cell_type": "code",
   "execution_count": 34,
   "metadata": {
    "tags": []
   },
   "outputs": [
    {
     "output_type": "stream",
     "name": "stdout",
     "text": "Year      City       Sport      Discipline  NOC            Event  \\\n0     1924  Chamonix     Skating  Figure skating  AUT       individual   \n1     1924  Chamonix     Skating  Figure skating  AUT       individual   \n2     1924  Chamonix     Skating  Figure skating  AUT            pairs   \n3     1924  Chamonix   Bobsleigh       Bobsleigh  BEL         four-man   \n4     1924  Chamonix  Ice Hockey      Ice Hockey  CAN       ice hockey   \n...    ...       ...         ...             ...  ...              ...   \n2306  2006     Turin      Skiing       Snowboard  USA        Half-pipe   \n2307  2006     Turin      Skiing       Snowboard  USA        Half-pipe   \n2308  2006     Turin      Skiing       Snowboard  USA        Half-pipe   \n2309  2006     Turin      Skiing       Snowboard  USA  Snowboard Cross   \n2310  2006     Turin      Skiing       Snowboard  USA  Snowboard Cross   \n\n     Event gender   Medal  \n0               M  Silver  \n1               W    Gold  \n2               X    Gold  \n3               M  Bronze  \n4               M    Gold  \n...           ...     ...  \n2306            M  Silver  \n2307            W    Gold  \n2308            W  Silver  \n2309            M    Gold  \n2310            W  Silver  \n\n[2311 rows x 8 columns]\n"
    },
    {
     "output_type": "execute_result",
     "data": {
      "text/plain": "[6, 7, 8, 9, 10, 11, 12, 13, 14, 15]"
     },
     "metadata": {},
     "execution_count": 34
    }
   ],
   "source": [
    "from functools import wraps\n",
    "\n",
    "\n",
    "\n",
    "def prepost(*arg, **kwargs):\n",
    "    def real_decorator(function):\n",
    "        @wraps(function)\n",
    "        def wrapper(*args, **kwargs):\n",
    "               \n",
    "            url = 'http://winterolympicsmedals.com/medals.csv'\n",
    "            df = pd.read_csv(url, sep=\",\")\n",
    "            retval = function(*args, **kwargs)\n",
    "            print(df)\n",
    "            return retval\n",
    "        return wrapper\n",
    "    return real_decorator\n",
    "\n",
    "@prepost(url= url)\n",
    "def _f_protected(x):\n",
    "    v = lambda x : x > 5\n",
    "    l1 = [x  for x in range(16)]\n",
    "    \n",
    "    return list(filter(v, l1))\n",
    "\n",
    "_f_protected(7)"
   ]
  },
  {
   "cell_type": "code",
   "execution_count": null,
   "metadata": {},
   "outputs": [],
   "source": []
  }
 ],
 "metadata": {
  "language_info": {
   "name": "python",
   "codemirror_mode": {
    "name": "ipython",
    "version": 3
   },
   "version": "3.6.4-final"
  },
  "orig_nbformat": 2,
  "file_extension": ".py",
  "mimetype": "text/x-python",
  "name": "python",
  "npconvert_exporter": "python",
  "pygments_lexer": "ipython3",
  "version": 3,
  "kernelspec": {
   "name": "python_defaultSpec_1594834444817",
   "display_name": "Python 3.8.3 64-bit"
  }
 },
 "nbformat": 4,
 "nbformat_minor": 2
}