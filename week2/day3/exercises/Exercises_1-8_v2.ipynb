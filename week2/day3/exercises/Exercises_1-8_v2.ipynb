{
 "cells": [
  {
   "cell_type": "markdown",
   "metadata": {},
   "source": [
    "# Ejercicios Precurso W2\n",
    "\n",
    "**Variables, listas, diccionarios, condicionales, booleanos, funciones, while**"
   ]
  },
  {
   "cell_type": "markdown",
   "metadata": {},
   "source": [
    "------------------------------------------------------------------------------------------------------------"
   ]
  },
  {
   "cell_type": "markdown",
   "metadata": {},
   "source": [
    "## Ejercicio 1."
   ]
  },
  {
   "cell_type": "markdown",
   "metadata": {},
   "source": [
    "1. Crea una variable llamada `numero_bridge` que tenga como valor **15**. Tipo entero.\n"
   ]
  },
  {
   "cell_type": "code",
   "execution_count": 4,
   "metadata": {},
   "outputs": [],
   "source": [
    "#your code here\n",
    "numero_bridge = 15"
   ]
  },
  {
   "cell_type": "markdown",
   "metadata": {},
   "source": [
    "2. Crea una variable llamada `nombre_calle` que sea un string y sea **Recoletos**\n",
    " "
   ]
  },
  {
   "cell_type": "code",
   "execution_count": 5,
   "metadata": {},
   "outputs": [],
   "source": [
    "#your code here\n",
    "nombre_calle = \"Recoletos\""
   ]
  },
  {
   "cell_type": "markdown",
   "metadata": {},
   "source": [
    "3. Crea una variable llamada `gusto_personal` que sea **True** si eres más de playa y **False** si eres más de montaña.\n",
    "```python\n",
    "#Ejemplo: \n",
    "gusto_personal = False  # Si te gusta más la montaña\n",
    "gusto_personal = True  # Si te gusta más la playa\n",
    "``` "
   ]
  },
  {
   "cell_type": "code",
   "execution_count": 6,
   "metadata": {},
   "outputs": [],
   "source": [
    "#your code here\n",
    "gusto_personal = False"
   ]
  },
  {
   "cell_type": "markdown",
   "metadata": {},
   "source": [
    "4. Crea una variable llamada `nada` de la siguiente forma: `nada = None`. None no representa ningún valor. Ha de tenerse en cuenta que si se hace `if (nada):`, `nada` actúa como un valor booleano `False`. \n"
   ]
  },
  {
   "cell_type": "code",
   "execution_count": 7,
   "metadata": {},
   "outputs": [],
   "source": [
    "#your code here\n",
    "nada = None"
   ]
  },
  {
   "cell_type": "markdown",
   "metadata": {},
   "source": [
    "5. Crea una variable que llamada `lista_direccion` que sea una lista y que contenga 2 valores. El primer valor debe ser la variable `numero_bridge` y el segundo valor de la lista debe ser la variable `nombre_calle`\n"
   ]
  },
  {
   "cell_type": "code",
   "execution_count": 8,
   "metadata": {},
   "outputs": [],
   "source": [
    "#your code here\n",
    "lista_direccion = [numero_bridge, nombre_calle]"
   ]
  },
  {
   "cell_type": "markdown",
   "metadata": {},
   "source": [
    "6. Crea una variable llamada `horas_sueno` que almacene, en forma de String, las horas que has dormido hoy.\n",
    "```python\n",
    "#Ejemplo: \n",
    "horas_sueno = \"8\" \n",
    "````\n"
   ]
  },
  {
   "cell_type": "code",
   "execution_count": 9,
   "metadata": {},
   "outputs": [],
   "source": [
    "#your code here\n",
    "horas_sueno = \"5\""
   ]
  },
  {
   "cell_type": "markdown",
   "metadata": {},
   "source": [
    "7. Crea una lista llamada `lista_informacion` que tenga cada una de las variables creadas anteriormente en el orden en el que se han expuesto en el ejercicio.\n",
    "IMPORTANTE: A partir de este momento y para todos estos ejercicios, solo se van a utilizar los datos almacenados en `lista_informacion`. Debe contener 6 elementos. "
   ]
  },
  {
   "cell_type": "code",
   "execution_count": 10,
   "metadata": {},
   "outputs": [],
   "source": [
    "#your code here\n",
    "lista_informacion = [\n",
    "    numero_bridge, \n",
    "    nombre_calle,\n",
    "    gusto_personal,\n",
    "    nada,\n",
    "    lista_direccion,\n",
    "    horas_sueno\n",
    "    ]"
   ]
  },
  {
   "cell_type": "markdown",
   "metadata": {},
   "source": [
    "8. Ejecuta esta celda para borrar todas las variables que has tenido que crear antes. El contenido de `lista_informacion` no cambiará. De esta forma, nos aseguraremos de que solo uses la información de `lista_informacion`. "
   ]
  },
  {
   "cell_type": "code",
   "execution_count": 11,
   "metadata": {},
   "outputs": [],
   "source": [
    "#run this cell\n",
    "del numero_bridge\n",
    "del nombre_calle\n",
    "del gusto_personal \n",
    "del nada\n",
    "del lista_direccion\n",
    "del horas_sueno"
   ]
  },
  {
   "cell_type": "code",
   "execution_count": 12,
   "metadata": {},
   "outputs": [
    {
     "output_type": "execute_result",
     "data": {
      "text/plain": "[15, 'Recoletos', False, None, [15, 'Recoletos'], '5']"
     },
     "metadata": {},
     "execution_count": 12
    }
   ],
   "source": [
    "lista_informacion"
   ]
  },
  {
   "cell_type": "markdown",
   "metadata": {},
   "source": [
    "## Ejercicio 2."
   ]
  },
  {
   "cell_type": "markdown",
   "metadata": {},
   "source": [
    "#### Apartado 1."
   ]
  },
  {
   "cell_type": "markdown",
   "metadata": {},
   "source": [
    "Para esta parte del ejercicio has debido definir `lista_información` correctamente. Recuerda no usar las variables excepto `lista_informacion`. Leer cada punto hasta el final antes de hacer la tarea. "
   ]
  },
  {
   "cell_type": "markdown",
   "metadata": {},
   "source": [
    "Mostrar por pantalla, sin uso de funciones ni bucles:"
   ]
  },
  {
   "cell_type": "markdown",
   "metadata": {},
   "source": [
    "1. La concatenación del número de The Bridge, dos puntos y el nombre de la calle. "
   ]
  },
  {
   "cell_type": "code",
   "execution_count": 13,
   "metadata": {},
   "outputs": [
    {
     "output_type": "execute_result",
     "data": {
      "text/plain": "[15, 'Recoletos', False, None, [15, 'Recoletos'], '5']"
     },
     "metadata": {},
     "execution_count": 13
    }
   ],
   "source": [
    "lista_informacion"
   ]
  },
  {
   "cell_type": "code",
   "execution_count": 14,
   "metadata": {
    "tags": []
   },
   "outputs": [
    {
     "output_type": "stream",
     "name": "stdout",
     "text": "15:Recoletos\n"
    }
   ],
   "source": [
    "#your code here\n",
    "print(str(lista_informacion[0]) + \":\" + lista_informacion[1])"
   ]
  },
  {
   "cell_type": "markdown",
   "metadata": {},
   "source": [
    "   2. La suma del número de The Bridge y las horas que has dormido hoy. "
   ]
  },
  {
   "cell_type": "code",
   "execution_count": 15,
   "metadata": {},
   "outputs": [
    {
     "output_type": "execute_result",
     "data": {
      "text/plain": "[15, 'Recoletos', False, None, [15, 'Recoletos'], '5']"
     },
     "metadata": {},
     "execution_count": 15
    }
   ],
   "source": [
    "lista_informacion"
   ]
  },
  {
   "cell_type": "code",
   "execution_count": 16,
   "metadata": {
    "tags": []
   },
   "outputs": [
    {
     "output_type": "stream",
     "name": "stdout",
     "text": "20\n"
    }
   ],
   "source": [
    "#your code here\n",
    "print(lista_informacion[0] + int(lista_informacion[-1]))"
   ]
  },
  {
   "cell_type": "markdown",
   "metadata": {},
   "source": [
    "3. La concatenación del número de The Bridge, el nombre de la calle, tu gusto personal y las horas de sueño. Cada uno debe estar separado por lo siguiente: `\" : \"`"
   ]
  },
  {
   "cell_type": "code",
   "execution_count": 17,
   "metadata": {},
   "outputs": [
    {
     "output_type": "execute_result",
     "data": {
      "text/plain": "[15, 'Recoletos', False, None, [15, 'Recoletos'], '5']"
     },
     "metadata": {},
     "execution_count": 17
    }
   ],
   "source": [
    "lista_informacion"
   ]
  },
  {
   "cell_type": "code",
   "execution_count": 18,
   "metadata": {
    "tags": []
   },
   "outputs": [
    {
     "output_type": "stream",
     "name": "stdout",
     "text": "15 : Recoletos : False : 5\n"
    }
   ],
   "source": [
    "#your code here\n",
    "print(str(lista_informacion[0]) + \" : \" + lista_informacion[1] + \" : \" + str(lista_informacion[2]) + \" : \" + lista_informacion[-1])"
   ]
  },
  {
   "cell_type": "markdown",
   "metadata": {},
   "source": [
    "4. Accediendo a la lista que ocupa la cuarta posición de `lista_informacion`, muestra por pantalla la suma de lo siguiente. Si en la cuarta posición de tu `lista_informacion` no encuentras una lista, preguntanos:\n",
    "     - La concatenación de los dos elementos. \n",
    "     - La multiplicación del tamaño de la lista y el tamaño del número de caracteres que tiene el nombre de la calle.\n"
   ]
  },
  {
   "cell_type": "code",
   "execution_count": 19,
   "metadata": {},
   "outputs": [
    {
     "output_type": "execute_result",
     "data": {
      "text/plain": "[15, 'Recoletos', False, None, [15, 'Recoletos'], '5']"
     },
     "metadata": {},
     "execution_count": 19
    }
   ],
   "source": [
    "lista_informacion"
   ]
  },
  {
   "cell_type": "code",
   "execution_count": 20,
   "metadata": {
    "tags": []
   },
   "outputs": [
    {
     "output_type": "stream",
     "name": "stdout",
     "text": "15Recoletos\n"
    }
   ],
   "source": [
    "#your code here\n",
    "\n",
    "print(str(lista_informacion[4][0]) + lista_informacion[4][1])"
   ]
  },
  {
   "cell_type": "markdown",
   "metadata": {},
   "source": [
    "#### Apartado 2. "
   ]
  },
  {
   "cell_type": "markdown",
   "metadata": {},
   "source": [
    "Para resolver los siguientes ejercicios será necesario que definas una función para cada apartado, tú eliges el nombre salvo que se especifique, pero asegúrate de que defines un único argumento/parámetro `lista`, que al llamar a la función se corresponderá con la variable `lista_información`. "
   ]
  },
  {
   "cell_type": "code",
   "execution_count": 21,
   "metadata": {},
   "outputs": [
    {
     "output_type": "error",
     "ename": "IndentationError",
     "evalue": "expected an indented block (<ipython-input-21-4f7109c41c40>, line 3)",
     "traceback": [
      "\u001b[0;36m  File \u001b[0;32m\"<ipython-input-21-4f7109c41c40>\"\u001b[0;36m, line \u001b[0;32m3\u001b[0m\n\u001b[0;31m    f(lista=lista_informacion)\u001b[0m\n\u001b[0m    ^\u001b[0m\n\u001b[0;31mIndentationError\u001b[0m\u001b[0;31m:\u001b[0m expected an indented block\n"
     ]
    }
   ],
   "source": [
    "def f(lista):\n",
    "\n",
    "f(lista=lista_informacion)"
   ]
  },
  {
   "cell_type": "code",
   "execution_count": 22,
   "metadata": {
    "tags": []
   },
   "outputs": [
    {
     "output_type": "stream",
     "name": "stdout",
     "text": "6\n"
    }
   ],
   "source": [
    "def suma(a, b):\n",
    "    print(a + b)\n",
    "\n",
    "suma(a=2, b=4)"
   ]
  },
  {
   "cell_type": "code",
   "execution_count": 23,
   "metadata": {
    "tags": []
   },
   "outputs": [
    {
     "output_type": "stream",
     "name": "stdout",
     "text": "[2, 4]\n"
    }
   ],
   "source": [
    "lista_i = [2, 4]\n",
    "def suma(lista):\n",
    "    print(lista)\n",
    "\n",
    "suma(lista=lista_i)"
   ]
  },
  {
   "cell_type": "markdown",
   "metadata": {},
   "source": [
    "Nota: Cuando sea *recorre* se refiere a bucle `for`. "
   ]
  },
  {
   "cell_type": "markdown",
   "metadata": {},
   "source": [
    "   5. Mostrar por pantalla `\"Me gusta la tranquilidad\"` si te gusta más la montaña y `\"Me gusta ver las carnes al aire libre\"` si te gusta más la playa."
   ]
  },
  {
   "cell_type": "code",
   "execution_count": 24,
   "metadata": {},
   "outputs": [
    {
     "output_type": "execute_result",
     "data": {
      "text/plain": "[15, 'Recoletos', False, None, [15, 'Recoletos'], '5']"
     },
     "metadata": {},
     "execution_count": 24
    }
   ],
   "source": [
    "lista_informacion"
   ]
  },
  {
   "cell_type": "code",
   "execution_count": 25,
   "metadata": {
    "tags": []
   },
   "outputs": [
    {
     "output_type": "stream",
     "name": "stdout",
     "text": "Me gusta la tranquilidad\n"
    }
   ],
   "source": [
    "#your code here\n",
    "\n",
    "def f_1_5(lista):\n",
    "    if lista[2] == True:\n",
    "        print(\"Me gusta ver las carnes al aire libre\")\n",
    "    elif lista[2] == False:\n",
    "        print(\"Me gusta la tranquilidad\")\n",
    "\n",
    "f_1_5(lista=lista_informacion)"
   ]
  },
  {
   "cell_type": "code",
   "execution_count": 26,
   "metadata": {
    "tags": []
   },
   "outputs": [
    {
     "output_type": "stream",
     "name": "stdout",
     "text": "Me gusta la tranquilidad\n"
    }
   ],
   "source": [
    "def f_1_5(lista):\n",
    "    if lista[2] == True:\n",
    "        return \"Me gusta ver las carnes al aire libre\"\n",
    "    elif lista[2] == False:\n",
    "        return \"Me gusta la tranquilidad\"\n",
    "\n",
    "x = f_1_5(lista=lista_informacion)\n",
    "print(x)"
   ]
  },
  {
   "cell_type": "code",
   "execution_count": 27,
   "metadata": {},
   "outputs": [
    {
     "output_type": "execute_result",
     "data": {
      "text/plain": "[2, 3, 1]"
     },
     "metadata": {},
     "execution_count": 27
    }
   ],
   "source": [
    "l = [2, 3]\n",
    "\n",
    "def anade_uno(lista):\n",
    "    lista.append(1)\n",
    "\n",
    "anade_uno(lista=l)\n",
    "l"
   ]
  },
  {
   "cell_type": "code",
   "execution_count": 28,
   "metadata": {
    "tags": []
   },
   "outputs": [
    {
     "output_type": "stream",
     "name": "stdout",
     "text": "[2, 3]\n"
    }
   ],
   "source": [
    "l1 = [2, 3, 1, \"X\"]\n",
    "\n",
    "def parte_lista_en_dos(lista):\n",
    "    lista = lista[0:2]\n",
    "    return lista\n",
    "\n",
    "l1 = parte_lista_en_dos(lista=l1)\n",
    "print(l1)"
   ]
  },
  {
   "cell_type": "markdown",
   "metadata": {},
   "source": [
    "6. Mostrar por pantalla `\"Hoy estoy cansado\"` si has dormido menos de 7 horas y `\"Hoy me como el mundo\"` si has dormido más de 7 horas. "
   ]
  },
  {
   "cell_type": "code",
   "execution_count": 29,
   "metadata": {},
   "outputs": [
    {
     "output_type": "execute_result",
     "data": {
      "text/plain": "[15, 'Recoletos', False, None, [15, 'Recoletos'], '5']"
     },
     "metadata": {},
     "execution_count": 29
    }
   ],
   "source": [
    "lista_informacion"
   ]
  },
  {
   "cell_type": "code",
   "execution_count": 30,
   "metadata": {
    "tags": []
   },
   "outputs": [
    {
     "output_type": "stream",
     "name": "stdout",
     "text": "Hoy estoy cansado\n"
    }
   ],
   "source": [
    "#your code here\n",
    "\n",
    "def f_1_6(lista):\n",
    "    horas_sueno_int = int(lista[-1])\n",
    "    if horas_sueno_int > 7:\n",
    "        print(\"Hoy me como el mundo\")\n",
    "    elif horas_sueno_int < 7:\n",
    "        print(\"Hoy estoy cansado\")\n",
    "\n",
    "f_1_6(lista=lista_informacion)"
   ]
  },
  {
   "cell_type": "markdown",
   "metadata": {},
   "source": [
    "7. Recorrer `lista` para mostrar todos los elementos que contiene. "
   ]
  },
  {
   "cell_type": "code",
   "execution_count": 31,
   "metadata": {
    "tags": []
   },
   "outputs": [
    {
     "output_type": "stream",
     "name": "stdout",
     "text": "15\nRecoletos\nFalse\nNone\n[15, 'Recoletos']\n5\n"
    }
   ],
   "source": [
    "#your code here\n",
    "\n",
    "def f_1_7_recorre(lista):\n",
    "    for elem in lista:\n",
    "        print(elem)\n",
    "\n",
    "f_1_7_recorre(lista=lista_informacion)\n"
   ]
  },
  {
   "cell_type": "markdown",
   "metadata": {},
   "source": [
    "8. Recorrer `lista` para mostrar todos los elementos que contiene concatenados con el string `\"--> OK\"`\n"
   ]
  },
  {
   "cell_type": "code",
   "execution_count": 32,
   "metadata": {},
   "outputs": [
    {
     "output_type": "execute_result",
     "data": {
      "text/plain": "[15, 'Recoletos', False, None, [15, 'Recoletos'], '5']"
     },
     "metadata": {},
     "execution_count": 32
    }
   ],
   "source": [
    "lista_informacion"
   ]
  },
  {
   "cell_type": "code",
   "execution_count": 33,
   "metadata": {
    "tags": []
   },
   "outputs": [
    {
     "output_type": "stream",
     "name": "stdout",
     "text": "15--> OK\nRecoletos--> OK\nFalse--> OK\nNone--> OK\n[15, 'Recoletos']--> OK\n5--> OK\n"
    }
   ],
   "source": [
    "#your code here\n",
    "\n",
    "def f_1_8_recorre_concatena(lista):\n",
    "    for elem in lista:\n",
    "        print(str(elem) + \"--> OK\")\n",
    "\n",
    "f_1_8_recorre_concatena(lista=lista_informacion)"
   ]
  },
  {
   "cell_type": "markdown",
   "metadata": {},
   "source": [
    "9. Recorrer `lista` para mostrar todos los elementos que contiene excepto el primero."
   ]
  },
  {
   "cell_type": "code",
   "execution_count": 34,
   "metadata": {},
   "outputs": [
    {
     "output_type": "execute_result",
     "data": {
      "text/plain": "[15, 'Recoletos', False, None, [15, 'Recoletos'], '5']"
     },
     "metadata": {},
     "execution_count": 34
    }
   ],
   "source": [
    "#your code here\n",
    "\n",
    "lista_informacion\n"
   ]
  },
  {
   "cell_type": "code",
   "execution_count": 35,
   "metadata": {
    "tags": []
   },
   "outputs": [
    {
     "output_type": "stream",
     "name": "stdout",
     "text": "Recoletos\nFalse\nNone\n[15, 'Recoletos']\n5\n"
    }
   ],
   "source": [
    "def f_1_9(lista):\n",
    "    x = 0\n",
    "    for elem in lista:\n",
    "        if x != 0: \n",
    "            print(elem)\n",
    "        x += 1\n",
    "      \n",
    "        \n",
    "        \n",
    "f_1_9(lista = lista_informacion)"
   ]
  },
  {
   "cell_type": "code",
   "execution_count": 36,
   "metadata": {
    "tags": []
   },
   "outputs": [
    {
     "output_type": "stream",
     "name": "stdout",
     "text": "Recoletos\nFalse\nNone\n[15, 'Recoletos']\n5\n"
    }
   ],
   "source": [
    "def f_1_9_G(lista):\n",
    "    for pos, elem in enumerate(lista):\n",
    "        if pos != 0:\n",
    "            print(elem)\n",
    "\n",
    "f_1_9_G(lista=lista_informacion)"
   ]
  },
  {
   "cell_type": "markdown",
   "metadata": {},
   "source": [
    "10. Recorrer `lista` para mostrar todos los elementos que contiene excepto el último. "
   ]
  },
  {
   "cell_type": "code",
   "execution_count": 37,
   "metadata": {
    "tags": []
   },
   "outputs": [
    {
     "output_type": "stream",
     "name": "stdout",
     "text": "15\nRecoletos\nFalse\nNone\n[15, 'Recoletos']\n"
    }
   ],
   "source": [
    "#your code here\n",
    "\n",
    "\n",
    "def f_1_10(lista):\n",
    "    x = 0\n",
    "    for elem in lista:\n",
    "        if x < 5: \n",
    "            print(elem)\n",
    "        x += 1\n",
    "      \n",
    "        \n",
    "        \n",
    "f_1_10(lista = lista_informacion)\n",
    "\n",
    "  \n"
   ]
  },
  {
   "cell_type": "markdown",
   "metadata": {},
   "source": [
    "11. Recorrer `lista` para mostrar todos los elementos que contiene excepto el número de la calle y las horas que has dormido."
   ]
  },
  {
   "cell_type": "code",
   "execution_count": 38,
   "metadata": {
    "tags": []
   },
   "outputs": [
    {
     "output_type": "stream",
     "name": "stdout",
     "text": "Recoletos\nFalse\nNone\n[15, 'Recoletos']\n"
    }
   ],
   "source": [
    "\n",
    "\n",
    "def f_1_11(lista):\n",
    "    x = 0\n",
    "    for elem in lista:\n",
    "        if x != 0 and x < 5: \n",
    "            print(elem)\n",
    "        x += 1\n",
    "      \n",
    "        \n",
    "        \n",
    "f_1_11(lista = lista_informacion)"
   ]
  },
  {
   "cell_type": "markdown",
   "metadata": {},
   "source": [
    "12 . Recorrer `lista` para mostrar todos los elementos que contiene excepto el primer elemento de la lista que se encuentra en quinta posición. "
   ]
  },
  {
   "cell_type": "code",
   "execution_count": 39,
   "metadata": {
    "tags": []
   },
   "outputs": [
    {
     "output_type": "stream",
     "name": "stdout",
     "text": "[15, 'Recoletos', False, None] Recoletos 5\n"
    }
   ],
   "source": [
    "lista_informacion\n",
    "\n",
    "print(lista_informacion[0:4], lista_informacion[4][1], lista_informacion[5])\n",
    "    "
   ]
  },
  {
   "cell_type": "code",
   "execution_count": 40,
   "metadata": {
    "tags": []
   },
   "outputs": [
    {
     "output_type": "stream",
     "name": "stdout",
     "text": "15\nRecoletos\nFalse\nNone\nRecoletos\n5\n"
    }
   ],
   "source": [
    "#your code here\n",
    "\n",
    "\n",
    "def f_1_12(lista):\n",
    "    x = 0\n",
    "    for elem in lista:\n",
    "        if x == 4: \n",
    "            print(elem[1])\n",
    "        else:\n",
    "            print(elem)    \n",
    "        x += 1\n",
    "\n",
    "\n",
    "        \n",
    "        \n",
    "f_1_12(lista = lista_informacion)"
   ]
  },
  {
   "cell_type": "markdown",
   "metadata": {},
   "source": [
    "13. Recorrer `lista` para mostrar todos los elementos que contiene excepto el que contiene la información sobre si os gusta la montaña o la playa."
   ]
  },
  {
   "cell_type": "code",
   "execution_count": 41,
   "metadata": {
    "tags": []
   },
   "outputs": [
    {
     "output_type": "stream",
     "name": "stdout",
     "text": "15\nRecoletos\nNone\n[15, 'Recoletos']\n5\n"
    }
   ],
   "source": [
    "#your code here\n",
    "\n",
    "def f_1_13(lista):\n",
    "    x = 0\n",
    "    for elem in lista:\n",
    "        if not type(elem) == bool:\n",
    "            print(elem)\n",
    "            \n",
    "        x += 1\n",
    "\n",
    "           \n",
    "\n",
    "f_1_13(lista = lista_informacion)            \n"
   ]
  },
  {
   "cell_type": "markdown",
   "metadata": {},
   "source": [
    "14. Recorrer `lista` para mostrar el último elemento."
   ]
  },
  {
   "cell_type": "code",
   "execution_count": 42,
   "metadata": {
    "tags": []
   },
   "outputs": [
    {
     "output_type": "stream",
     "name": "stdout",
     "text": "5\n"
    }
   ],
   "source": [
    "#your code here\n",
    "\n",
    "def f_1_14(lista):\n",
    "    x = 0\n",
    "    for elem in lista:\n",
    "        if  x >= 5:\n",
    "            print(elem)\n",
    "            \n",
    "        x += 1\n",
    "\n",
    "\n",
    "\n",
    "f_1_14(lista = lista_informacion) "
   ]
  },
  {
   "cell_type": "markdown",
   "metadata": {},
   "source": [
    "15. Crear una variable llamada `zona` y darle el valor de **None**. Recorrer `lista` y actualizar `zona` a **True** si y solo si has dormido más de 7 horas, te gusta la playa y la suma de las horas que has dormido más el número de The Bridge es menor a 24. Para cualquier otro caso, `zona` será **False**. Retornar el valor de `zona`. Esta función se llamará `funcion_zona`."
   ]
  },
  {
   "cell_type": "code",
   "execution_count": 43,
   "metadata": {},
   "outputs": [
    {
     "output_type": "execute_result",
     "data": {
      "text/plain": "[15, 'Recoletos', False, None, [15, 'Recoletos'], '5']"
     },
     "metadata": {},
     "execution_count": 43
    }
   ],
   "source": [
    "lista_informacion"
   ]
  },
  {
   "cell_type": "code",
   "execution_count": 44,
   "metadata": {
    "tags": []
   },
   "outputs": [
    {
     "output_type": "stream",
     "name": "stdout",
     "text": "False\n"
    }
   ],
   "source": [
    "#your code here\n",
    "\n",
    "\n",
    "zona = None\n",
    "def funcion_zona(lista):\n",
    "    \n",
    "    for elem in lista:\n",
    "        if int(lista[5]) > 7 and lista[2] == True and int(lista[5]) + lista[0] < 24:\n",
    "            zona = True\n",
    "        else:\n",
    "            zona = False\n",
    "    \n",
    "    \n",
    "    return zona\n",
    "z= funcion_zona(lista = lista_informacion)\n",
    "print(z)\n",
    "\n"
   ]
  },
  {
   "cell_type": "code",
   "execution_count": 45,
   "metadata": {
    "tags": []
   },
   "outputs": [
    {
     "output_type": "execute_result",
     "data": {
      "text/plain": "False"
     },
     "metadata": {},
     "execution_count": 45
    }
   ],
   "source": [
    "z"
   ]
  },
  {
   "cell_type": "code",
   "execution_count": null,
   "metadata": {},
   "outputs": [],
   "source": []
  },
  {
   "cell_type": "markdown",
   "metadata": {},
   "source": [
    "16. Define una función llamada `funcion_comprobacion` que recibe solo un parámetro llamado `valor_zona` que cuando llames a la función será el valor que devuelve la función `funcion_zona`, y que devuelva el valor de `valor_zona` si es **True**."
   ]
  },
  {
   "cell_type": "code",
   "execution_count": 46,
   "metadata": {
    "tags": []
   },
   "outputs": [
    {
     "output_type": "stream",
     "name": "stdout",
     "text": "None\n"
    }
   ],
   "source": [
    "#your code here\n",
    "\n",
    "def funcion_comprobacion(valor_zona):\n",
    "    if valor_zona is True:\n",
    "        return(valor_zona)\n",
    "\n",
    "x = funcion_comprobacion(funcion_zona(lista_informacion))\n",
    "print(x)\n"
   ]
  },
  {
   "cell_type": "markdown",
   "metadata": {},
   "source": [
    "17. Define una función con el nombre que más te guste que utilice la función [enumerate](https://www.programiz.com/python-programming/methods/built-in/enumerate) con un bucle `for` utilizando la lista de alturas y la lista de alumnos creada en días anteriores. Las listas han de estar ordenadas para mostrar la altura acompañada del nombre del alumno al que pertenece. "
   ]
  },
  {
   "cell_type": "code",
   "execution_count": 47,
   "metadata": {
    "tags": []
   },
   "outputs": [
    {
     "output_type": "stream",
     "name": "stdout",
     "text": "1 Jalex 1.8\n2 Tomas 1.8\n3 David 1.81\n4 Natalio 1.73\n5 Monica 1.73\n6 Roxanna 1.75\n7 Filipa 1.64\n8 Elsa 1.89\n9 Cristina 1.7\n10 Clara 1.67\n11 Alba 1.68\n12 Valeria 1.6\n13 Jose Luis 1.69\n14 Gabriel 1.76\n15 Rochi 1.6\n16 Jose Maria 1.75\n"
    }
   ],
   "source": [
    "#your code here\n",
    "\n",
    "lista_alumnos = [[\"Jalex\", 6, 47, 1.80], [\"Tomas\", 5, 31, 1.80], [\"David\", 6, 39, 1.81], [\"Natalio\", 2, 29, 1.73], [\"Monica\", 3, 47, 1.73], [\"Roxanna\", 4,24,1.75], [\"Filipa\", 5,34,1.64], [\"Elsa\", 4, 36, 1.89], [\"Cristina\", 3, 46, 1.70], [\"Clara\", 6, 29, 1.67], [\"Alba\", 3, 29, 1.68], [\"Valeria\",1, 40, 1.60], [\"Jose Luis\", 4, 47, 1.69], [\"Gabriel\", 1, 28, 1.76], [\"Rochi\", 2, 38, 1.60], [\"Jose Maria\", 5, 51, 1.75]]\n",
    "\n",
    "def estaturas(lista):\n",
    "    for elem in enumerate(lista,1):\n",
    "        \n",
    "        print(elem[0],elem[1][0],elem[1][3])\n",
    "\n",
    "estaturas(lista = lista_alumnos)\n",
    "        "
   ]
  },
  {
   "cell_type": "markdown",
   "metadata": {},
   "source": [
    "18. Hacer un programa que pregunte al usuario si le gusta la montaña y, si es que no, llame a la función `funcion_zona`. "
   ]
  },
  {
   "cell_type": "code",
   "execution_count": 48,
   "metadata": {
    "tags": []
   },
   "outputs": [
    {
     "output_type": "stream",
     "name": "stdout",
     "text": "que bien\n"
    }
   ],
   "source": [
    "#your code here\n",
    "pregunta = input('Te gusta la montana?solo responde si o no')\n",
    "\n",
    "if pregunta == 'si':\n",
    "        print('que bien')\n",
    "else: \n",
    "    pregunta == 'no' and print(funcion_zona(lista_informacion))\n",
    "\n",
    "\n",
    "       \n"
   ]
  },
  {
   "cell_type": "markdown",
   "metadata": {},
   "source": [
    "19. Definir una función que guarde en una variable el valor de \"nada\" y lo devuelva por pantalla. Además concatenar su valor con el número de The Bridge y mostrarlo por pantalla. Además, mostrar por pantalla un booleano **True** si el tamaño de la palabra concatenada es 6. Sino, será **False**. La función debe retornar el valor **True** o **False**. El nombre de la función será `f_s`."
   ]
  },
  {
   "cell_type": "code",
   "execution_count": 57,
   "metadata": {
    "tags": []
   },
   "outputs": [
    {
     "output_type": "stream",
     "name": "stdout",
     "text": "nada\nnada15\nTrue\n"
    },
    {
     "output_type": "execute_result",
     "data": {
      "text/plain": "True"
     },
     "metadata": {},
     "execution_count": 57
    }
   ],
   "source": [
    "#your code here\n",
    "\n",
    "def f_s(lista):\n",
    "    x = 'nada'\n",
    "    z = False\n",
    "    print(x)\n",
    "    y = (x + str(lista[0]))\n",
    "    print(y)\n",
    "    if len(y) == 6:\n",
    "        z = True\n",
    "        print(z)\n",
    "    return z \n",
    "\n",
    "result = f_s(lista_informacion)\n",
    "result\n"
   ]
  },
  {
   "cell_type": "markdown",
   "metadata": {},
   "source": [
    "20. Crear una lista `lista_aux` con 7 elementos, los que queráis. Después, crear una función `funcion_usa_f_s` que reciba como parámetros `f_s` y `lista`.  Si el valor de `f_s` es **True**, entonces borrar un elemento de `lista`. Si `lista` tiene algún elemento, entonces repetir el proceso hasta que no tenga elementos. El argumento para `lista` ha de ser `lista_aux` y para `f_s` será la función `f_s` del punto anterior."
   ]
  },
  {
   "cell_type": "code",
   "execution_count": 59,
   "metadata": {
    "tags": []
   },
   "outputs": [
    {
     "output_type": "error",
     "ename": "IndentationError",
     "evalue": "expected an indented block (<ipython-input-59-e21268eae691>, line 10)",
     "traceback": [
      "\u001b[0;36m  File \u001b[0;32m\"<ipython-input-59-e21268eae691>\"\u001b[0;36m, line \u001b[0;32m10\u001b[0m\n\u001b[0;31m    funcion_usa_f_s(f_s = f_s(lista = lista_informacion),lista = lista_aux)\u001b[0m\n\u001b[0m                                                                           ^\u001b[0m\n\u001b[0;31mIndentationError\u001b[0m\u001b[0;31m:\u001b[0m expected an indented block\n"
     ]
    }
   ],
   "source": [
    "#your code here\n",
    "\n",
    "lista_aux = [1 , 2 , 3 , 4 , 5 , 6 ,7]\n",
    "\n",
    "def funcion_usa_f_s (f_s, lista):\n",
    "    if f_s == True:\n",
    "        lista.pop()\n",
    "        if len(lista) > 0:\n",
    "            \n",
    "funcion_usa_f_s(f_s = f_s(lista = lista_informacion),lista = lista_aux)\n",
    "lista_aux\n"
   ]
  },
  {
   "cell_type": "markdown",
   "metadata": {},
   "source": [
    "21. Definir una función `numeros_pares` que tenga un parámetro de entrada `arg1`, tipo integer. La función debe retornar una lista de números de tamaño `arg1` siendo todos ellos números pares, mostrando dicha lista por pantalla."
   ]
  },
  {
   "cell_type": "code",
   "execution_count": 96,
   "metadata": {
    "tags": []
   },
   "outputs": [
    {
     "output_type": "error",
     "ename": "NameError",
     "evalue": "name 'arg1' is not defined",
     "traceback": [
      "\u001b[0;31m---------------------------------------------------------------------------\u001b[0m",
      "\u001b[0;31mNameError\u001b[0m                                 Traceback (most recent call last)",
      "\u001b[0;32m<ipython-input-96-67b217cc3a1f>\u001b[0m in \u001b[0;36m<module>\u001b[0;34m\u001b[0m\n\u001b[1;32m     10\u001b[0m \u001b[0;34m\u001b[0m\u001b[0m\n\u001b[1;32m     11\u001b[0m \u001b[0;34m\u001b[0m\u001b[0m\n\u001b[0;32m---> 12\u001b[0;31m \u001b[0mx\u001b[0m \u001b[0;34m=\u001b[0m \u001b[0mnumeros_pares\u001b[0m\u001b[0;34m(\u001b[0m\u001b[0marg1\u001b[0m\u001b[0;34m)\u001b[0m\u001b[0;34m\u001b[0m\u001b[0;34m\u001b[0m\u001b[0m\n\u001b[0m\u001b[1;32m     13\u001b[0m \u001b[0mx\u001b[0m\u001b[0;34m\u001b[0m\u001b[0;34m\u001b[0m\u001b[0m\n",
      "\u001b[0;31mNameError\u001b[0m: name 'arg1' is not defined"
     ]
    }
   ],
   "source": [
    "def numeros_pares(arg1):\n",
    "    lista_pares = []\n",
    "    x = int(input('introduce un num'))\n",
    "    for elem in range(x * 2):\n",
    "        if elem % 2 == 0:\n",
    "            lista_pares.append(elem)\n",
    "    print(lista_pares)        \n",
    "    return lista_pares\n",
    "        \n",
    "            \n",
    "\n",
    "x = numeros_pares(arg1)\n",
    "x"
   ]
  },
  {
   "cell_type": "markdown",
   "metadata": {},
   "source": [
    "22. Crear una función que tenga una variable de entrada `arg1`, que será la lista de números pares del apartado anterior, y que elimine elementos de la lista, uno a uno, si `arg1` tiene un tamaño divisible entre 2 y, si no lo tiene, añade, solo una vez, el valor de la función `f_s`."
   ]
  },
  {
   "cell_type": "code",
   "execution_count": 94,
   "metadata": {
    "tags": []
   },
   "outputs": [
    {
     "output_type": "error",
     "ename": "SyntaxError",
     "evalue": "invalid syntax (<ipython-input-94-d69fc5b63740>, line 16)",
     "traceback": [
      "\u001b[0;36m  File \u001b[0;32m\"<ipython-input-94-d69fc5b63740>\"\u001b[0;36m, line \u001b[0;32m16\u001b[0m\n\u001b[0;31m    xfun(arg1 = numeros_pa()10\u001b[0m\n\u001b[0m                             ^\u001b[0m\n\u001b[0;31mSyntaxError\u001b[0m\u001b[0;31m:\u001b[0m invalid syntax\n"
     ]
    }
   ],
   "source": [
    "#your code here\n",
    "\n",
    "def xfun(arg1):\n",
    "   \n",
    "    for elem in arg1:\n",
    "        \n",
    "        if len(arg1) % 2 == 0:\n",
    "            arg1.pop()\n",
    "            \n",
    "        else:\n",
    "            arg1.append(f_s(lista = lista_informacion))\n",
    "            print(arg1)\n",
    "        break\n",
    "\n",
    "\n",
    "xfun(arg1 = numeros_pa()10\n"
   ]
  },
  {
   "cell_type": "markdown",
   "metadata": {},
   "source": [
    "## Ejercicio 3."
   ]
  },
  {
   "cell_type": "markdown",
   "metadata": {},
   "source": [
    "Para este ejercicio se utilizará la lista `lista_información`. Lista a la que deberás añadir las siguientes variables utilizando el método [append](https://www.w3schools.com/python/ref_list_append.asp):"
   ]
  },
  {
   "cell_type": "markdown",
   "metadata": {},
   "source": [
    "- Un booleano que sea True si utilizas gafas. False para lo contrario. \n",
    "- Un entero que represente tu edad. \n",
    "- Un float que represente el dinero que te has gastado en tu última compra.\n",
    "- Un string que represente el nombre de uno de tus tí@s. Si no tienes, el nombre de uno de tus herman@s. Si no tienes, alguno de tus abuel@s. Si no tienes, el nombre de tu mejor amigo. Y, si no tienes, el nombre de tu psicólog@.\n",
    "- Una lista que tenga como tamaño 5. Cada una de las posiciones debe representar los números que más te gusten en el rango [[0-100]] dividido entre 10. Es decir, si eliges el 11, el número sería el 1.1. Si eliges el 100, sería el 10.  "
   ]
  },
  {
   "cell_type": "code",
   "execution_count": 100,
   "metadata": {},
   "outputs": [
    {
     "output_type": "execute_result",
     "data": {
      "text/plain": "[15, 'Recoletos', False, None, [15, 'Recoletos'], '5']"
     },
     "metadata": {},
     "execution_count": 100
    }
   ],
   "source": [
    "#your code here\n",
    "\n",
    "lista_informacion"
   ]
  },
  {
   "cell_type": "code",
   "execution_count": 101,
   "metadata": {},
   "outputs": [
    {
     "output_type": "execute_result",
     "data": {
      "text/plain": "[15,\n 'Recoletos',\n False,\n None,\n [15, 'Recoletos'],\n '5',\n True,\n 31,\n 6.4,\n 'Carlos',\n [4.7, 3.1, 2.1, 2.8, 1.5, 0.7]]"
     },
     "metadata": {},
     "execution_count": 101
    }
   ],
   "source": [
    "booleano = True #si utilizas gafas\n",
    "edad = 31\n",
    "ult_compra = 6.40\n",
    "tio = \"Carlos\"\n",
    "numeros_gusta = [4.7, 3.1, 2.1, 2.8, 1.5, 0.7]\n",
    "\n",
    "\n",
    "lista_informacion.append(booleano)\n",
    "lista_informacion.append(edad)\n",
    "lista_informacion.append(ult_compra)\n",
    "lista_informacion.append(tio)\n",
    "lista_informacion.append(numeros_gusta)\n",
    "lista_informacion\n"
   ]
  },
  {
   "cell_type": "markdown",
   "metadata": {},
   "source": [
    "Por último, han de eliminarse las variables `nada` y `lista_direccion` de dos formas:\n",
    "\n",
    "- `nada` con el método [remove](https://www.programiz.com/python-programming/methods/list/remove) de una lista. \n",
    "- `lista_direccion` con el método [pop](https://www.programiz.com/python-programming/methods/list/pop) con el que se puede eliminar el elemento de una lista dada una posición. "
   ]
  },
  {
   "cell_type": "code",
   "execution_count": 108,
   "metadata": {},
   "outputs": [
    {
     "output_type": "execute_result",
     "data": {
      "text/plain": "[15,\n 'Recoletos',\n False,\n [15, 'Recoletos'],\n '5',\n True,\n 31,\n 6.4,\n 'Carlos',\n [4.7, 3.1, 2.1, 2.8, 1.5, 0.7]]"
     },
     "metadata": {},
     "execution_count": 108
    }
   ],
   "source": [
    "for none in lista_informacion:\n",
    "    if none == None:\n",
    "        lista_informacion.remove(none)\n",
    "\n",
    "lista_informacion"
   ]
  },
  {
   "cell_type": "code",
   "execution_count": 109,
   "metadata": {
    "tags": []
   },
   "outputs": [
    {
     "output_type": "stream",
     "name": "stdout",
     "text": "[15, 'Recoletos', False, [15, 'Recoletos'], '5', True, 31, 6.4, 'Carlos', [4.7, 3.1, 2.1, 2.8, 1.5, 0.7]]\n"
    },
    {
     "output_type": "execute_result",
     "data": {
      "text/plain": "10"
     },
     "metadata": {},
     "execution_count": 109
    }
   ],
   "source": [
    "print(lista_informacion)\n",
    "len(lista_informacion)"
   ]
  },
  {
   "cell_type": "code",
   "execution_count": 111,
   "metadata": {},
   "outputs": [
    {
     "output_type": "execute_result",
     "data": {
      "text/plain": "[15,\n 'Recoletos',\n False,\n '5',\n True,\n 31,\n 6.4,\n 'Carlos',\n [4.7, 3.1, 2.1, 2.8, 1.5, 0.7]]"
     },
     "metadata": {},
     "execution_count": 111
    }
   ],
   "source": [
    "lista_informacion.pop(3)\n",
    "lista_informacion"
   ]
  },
  {
   "cell_type": "markdown",
   "metadata": {},
   "source": [
    "## Ejercicio 4."
   ]
  },
  {
   "cell_type": "code",
   "execution_count": 54,
   "metadata": {
    "tags": []
   },
   "outputs": [
    {
     "output_type": "stream",
     "name": "stdout",
     "text": "12\n"
    },
    {
     "output_type": "execute_result",
     "data": {
      "text/plain": "[15,\n 'Recoletos',\n False,\n '5',\n None,\n [15, 'Recoletos'],\n '5',\n True,\n 31,\n 6.4,\n 'Carlos',\n [4.7, 3.1, 2.1, 2.8, 1.5, 0.7]]"
     },
     "metadata": {},
     "execution_count": 54
    }
   ],
   "source": [
    "print(len(lista_informacion))\n",
    "lista_informacion"
   ]
  },
  {
   "cell_type": "markdown",
   "metadata": {},
   "source": [
    "**Creación de funciones con return preparatorio.**"
   ]
  },
  {
   "cell_type": "markdown",
   "metadata": {},
   "source": [
    "A partir de ahora solo se utilizará la `lista_informacion` actualizada. La `lista_informacion` debe contener 9 elementos. \n",
    "\n"
   ]
  },
  {
   "cell_type": "markdown",
   "metadata": {},
   "source": [
    "\n",
    "1. Función `nb` que reciba por parámetro `lista` y que retorne el número de The Bridge.\n",
    "\n"
   ]
  },
  {
   "cell_type": "code",
   "execution_count": 55,
   "metadata": {},
   "outputs": [
    {
     "output_type": "execute_result",
     "data": {
      "text/plain": "[15,\n 'Recoletos',\n False,\n '5',\n None,\n [15, 'Recoletos'],\n '5',\n True,\n 31,\n 6.4,\n 'Carlos',\n [4.7, 3.1, 2.1, 2.8, 1.5, 0.7]]"
     },
     "metadata": {},
     "execution_count": 55
    }
   ],
   "source": [
    "lista_informacion"
   ]
  },
  {
   "cell_type": "markdown",
   "metadata": {},
   "source": [
    "2. Función `nc` que reciba por parámetro `lista` y que retorne el nombre de la calle de The Bridge.\n"
   ]
  },
  {
   "cell_type": "code",
   "execution_count": 56,
   "metadata": {
    "tags": []
   },
   "outputs": [
    {
     "output_type": "execute_result",
     "data": {
      "text/plain": "15"
     },
     "metadata": {},
     "execution_count": 56
    }
   ],
   "source": [
    "def nb(lista):\n",
    "    x = 0\n",
    "    for elem in lista:\n",
    "        if x == 0:\n",
    "            x += 1\n",
    "    \n",
    "        return elem\n",
    "\n",
    "nb(lista_informacion)"
   ]
  },
  {
   "cell_type": "code",
   "execution_count": 57,
   "metadata": {
    "tags": []
   },
   "outputs": [
    {
     "output_type": "stream",
     "name": "stdout",
     "text": "Recoletos\n"
    }
   ],
   "source": [
    "#your code here\n",
    "\n",
    "def nc(lista):   \n",
    "    \n",
    "    for i, elem in enumerate(lista):\n",
    "        if i == 1:\n",
    "    \n",
    "\n",
    "            return print(elem)\n",
    "\n",
    "nc(lista_informacion)\n"
   ]
  },
  {
   "cell_type": "markdown",
   "metadata": {},
   "source": [
    "3. Función `gp` que reciba por parámetro `lista` y que retorne tu gusto personal.\n"
   ]
  },
  {
   "cell_type": "code",
   "execution_count": 58,
   "metadata": {
    "tags": []
   },
   "outputs": [
    {
     "output_type": "stream",
     "name": "stdout",
     "text": "False\n"
    }
   ],
   "source": [
    "#your code here\n",
    "\n",
    "def gp(lista):\n",
    "\n",
    "    for i, elem in enumerate(lista):\n",
    "        if i == 2:\n",
    "    \n",
    "\n",
    "            return print(elem)\n",
    "\n",
    "gp(lista_informacion)\n"
   ]
  },
  {
   "cell_type": "markdown",
   "metadata": {},
   "source": [
    "4. Función `hs` que reciba por parámetro `lista` y que retorne las horas de sueño.\n"
   ]
  },
  {
   "cell_type": "code",
   "execution_count": 59,
   "metadata": {
    "tags": []
   },
   "outputs": [
    {
     "output_type": "stream",
     "name": "stdout",
     "text": "5\n"
    }
   ],
   "source": [
    "#your code here\n",
    "\n",
    "def hs(lista):\n",
    "\n",
    "    for i, elem in enumerate(lista):\n",
    "        if i == 3:\n",
    "    \n",
    "\n",
    "            return print(elem)\n",
    "\n",
    "hs(lista_informacion)"
   ]
  },
  {
   "cell_type": "markdown",
   "metadata": {},
   "source": [
    "5. Función `ul` que reciba por parámetro `lista` y que retorne la última posicón de `lista`."
   ]
  },
  {
   "cell_type": "code",
   "execution_count": 60,
   "metadata": {
    "tags": []
   },
   "outputs": [
    {
     "output_type": "stream",
     "name": "stdout",
     "text": "31\n"
    }
   ],
   "source": [
    "#your code here\n",
    "\n",
    "def ul(lista):\n",
    "\n",
    "    for i, elem in enumerate(lista):\n",
    "        if i == 8:\n",
    "    \n",
    "\n",
    "            return print(elem)\n",
    "\n",
    "ul(lista_informacion)"
   ]
  },
  {
   "cell_type": "markdown",
   "metadata": {},
   "source": [
    "A partir de este momento, si se requiere utilizar uno de estos valores, se accederá a ellos a partir de las funciones anteriormente creadas, no directamente desde la lista."
   ]
  },
  {
   "cell_type": "markdown",
   "metadata": {},
   "source": [
    "## Apartado 5. "
   ]
  },
  {
   "cell_type": "markdown",
   "metadata": {},
   "source": [
    "**Break en bucles for.**"
   ]
  },
  {
   "cell_type": "markdown",
   "metadata": {},
   "source": [
    "1. Función `string_mayor_5` que reciba por parámetro `lista` y que al llamarla recibirá como argumento`lista_informacion`. Se debe recorrer `lista` transformando cada elemento en string y, si el tamaño del string es mayor a 5, el bucle debe parar. La función ha de devolver el primer elemento con string mayor a 5."
   ]
  },
  {
   "cell_type": "code",
   "execution_count": 61,
   "metadata": {},
   "outputs": [],
   "source": [
    "#your code here\n",
    "\n",
    "def string_mayor_5(lista):\n",
    "    for elem in lista:\n",
    "        elem_str = str(elem)\n",
    "        if len(elem_str) > 5:\n",
    "           \n",
    "            return elem\n",
    "        \n",
    "\n",
    "\n",
    "r= string_mayor_5(lista = lista_informacion)"
   ]
  },
  {
   "cell_type": "markdown",
   "metadata": {},
   "source": [
    "2. Función `lista_consecutivos` que recibe por parámetro `limite`. Debe retornar una lista con números que empiece en el 0 y acabe en el número `limite`. Al llamar a la función `limite` será 18. "
   ]
  },
  {
   "cell_type": "code",
   "execution_count": 8,
   "metadata": {
    "tags": []
   },
   "outputs": [
    {
     "output_type": "execute_result",
     "data": {
      "text/plain": "[0, 1, 2, 3, 4, 5, 6, 7, 8, 9, 10, 11, 12, 13, 14, 15, 16, 17, 18]"
     },
     "metadata": {},
     "execution_count": 8
    }
   ],
   "source": [
    "#your code here\n",
    "\n",
    "def lista_consecutivos(limite):\n",
    "    x = []\n",
    "    for num in range(limite):\n",
    "        x.append(num)\n",
    "        \n",
    "    return x[0:19]\n",
    "\n",
    "lista_consecutivos(20)\n"
   ]
  },
  {
   "cell_type": "code",
   "execution_count": 5,
   "metadata": {},
   "outputs": [
    {
     "output_type": "execute_result",
     "data": {
      "text/plain": "[0, 1, 2, 3, 4, 5, 6, 7, 8, 9, 10, 11, 12, 13, 14, 15, 16, 17, 18]"
     },
     "metadata": {},
     "execution_count": 5
    }
   ],
   "source": [
    "lista_consecutivos(20)"
   ]
  },
  {
   "cell_type": "markdown",
   "metadata": {},
   "source": [
    "3. Define la función `posicion_15` que recibe dos parámetros, `funcion_lista_consecutivos` y `lista`, y deberá devolver el elemento de la lista que devuelve la función `lista_consecutivos` que represente la posicion 15. Es dentro de esta función `posicion_15` donde hay que llamar a `funcion_lista_consecutivos` con el parámetro `lista` como parámetro de entrada de `lista_consecutivos`. Al llamar a la función `lista_consecutivos` el argumento `límite` será 18.\n",
    "\n",
    "```python\n",
    "#Ejemplo:\n",
    "x = posicion_15(funcion_lista_consecutivos=lista_consecutivos, lista=lista_informacion)\n",
    "``` \n",
    "\n",
    "\n"
   ]
  },
  {
   "cell_type": "code",
   "execution_count": 10,
   "metadata": {},
   "outputs": [
    {
     "output_type": "error",
     "ename": "SyntaxError",
     "evalue": "invalid syntax (<ipython-input-10-b0f19d7321fc>, line 3)",
     "traceback": [
      "\u001b[0;36m  File \u001b[0;32m\"<ipython-input-10-b0f19d7321fc>\"\u001b[0;36m, line \u001b[0;32m3\u001b[0m\n\u001b[0;31m    def posicion_15(funcion_lista_consecutivos(), lista):\u001b[0m\n\u001b[0m                                              ^\u001b[0m\n\u001b[0;31mSyntaxError\u001b[0m\u001b[0;31m:\u001b[0m invalid syntax\n"
     ]
    }
   ],
   "source": [
    "#your code here\n",
    "\n",
    "def posicion_15(funcion_lista_consecutivos, lista):\n",
    "    for elem in lista_consecutivos:\n",
    "        if elem == 15:\n",
    "        return elem\n",
    "\n",
    "posicion_15(lista_consecutivos)"
   ]
  },
  {
   "cell_type": "markdown",
   "metadata": {},
   "source": [
    "## Ejercicio 6. "
   ]
  },
  {
   "cell_type": "markdown",
   "metadata": {},
   "source": [
    "**Bucle while.**"
   ]
  },
  {
   "cell_type": "markdown",
   "metadata": {},
   "source": [
    "1. Crear una función que reciba por parámetro `lista` y que muestre todos los elementos que tiene usando un bucle `while`. Llamar a la función con el argumento `lista_informacion`."
   ]
  },
  {
   "cell_type": "code",
   "execution_count": null,
   "metadata": {},
   "outputs": [],
   "source": [
    "def f_6_1(lista):\n",
    "    i = 0\n",
    "    while i < 19:\n",
    "        print(lista_informacion)\n",
    "\n",
    "\n",
    "\n",
    "f_6_1(lista = lista_informacion)"
   ]
  },
  {
   "cell_type": "markdown",
   "metadata": {},
   "source": [
    "2. Realizar todos los apartados del **ejercicio 2** cuyo enunciado aparece la palabra *'recorrer'* con bucle `while` en vez de bucle `for`."
   ]
  },
  {
   "cell_type": "code",
   "execution_count": 65,
   "metadata": {},
   "outputs": [],
   "source": [
    "#your code here"
   ]
  },
  {
   "cell_type": "markdown",
   "metadata": {},
   "source": [
    "3. Realizar el **ejercicio 5** con bucle `while` en vez de bucle `for`. "
   ]
  },
  {
   "cell_type": "code",
   "execution_count": 66,
   "metadata": {},
   "outputs": [],
   "source": [
    "#your code here"
   ]
  },
  {
   "cell_type": "markdown",
   "metadata": {},
   "source": [
    "4. Realizar una función que realice la [serie de Fibonacci](https://quantdare.com/numeros-de-fibonacci/#:~:text=En%20matem%C3%A1ticas%2C%20la%20sucesi%C3%B3n%20o,nombre%20de%20n%C3%BAmero%20de%20Fibonacci.) con un `while`."
   ]
  },
  {
   "cell_type": "code",
   "execution_count": 67,
   "metadata": {},
   "outputs": [],
   "source": [
    "#your code here"
   ]
  },
  {
   "cell_type": "markdown",
   "metadata": {},
   "source": [
    "## Ejercicio 7. "
   ]
  },
  {
   "cell_type": "markdown",
   "metadata": {},
   "source": [
    "**Importación de módulos.**"
   ]
  },
  {
   "cell_type": "markdown",
   "metadata": {},
   "source": [
    "Un módulo representa un fichero de extensión `.py` que contiene código python. Importando un módulo, podemos acceder a todas las variables, funciones y clases no privadas que contiene. \n",
    "\n",
    "En la propia carpeta del día de hoy, hay un fichero llamado `nombre_modulo.py`. Vamos a importarlo y usar alguna de sus variables y funciones. "
   ]
  },
  {
   "cell_type": "markdown",
   "metadata": {},
   "source": [
    "Al igual que con los demás objetos, una vez que se ha importado el módulo no hace falta importarlo más veces. "
   ]
  },
  {
   "cell_type": "code",
   "execution_count": 68,
   "metadata": {},
   "outputs": [],
   "source": [
    "#your code here"
   ]
  },
  {
   "cell_type": "markdown",
   "metadata": {},
   "source": [
    "## Ejercicio 8. "
   ]
  },
  {
   "cell_type": "markdown",
   "metadata": {},
   "source": [
    "**Nivel pro.**"
   ]
  },
  {
   "cell_type": "markdown",
   "metadata": {},
   "source": [
    "Para cada uno de los siguientes puntos crear un archivo `.py` que se ejecutará a través de la terminal. Estando en la carpeta que contiene el `.py`correspondiente, se ejecutará con el siguiente comando: `python3 nombre_del_programa.py`"
   ]
  },
  {
   "cell_type": "markdown",
   "metadata": {},
   "source": [
    "1. Programa **una calculadora** que pregunte por pantalla dos números y dos operadores. Se debe realizar primero una operación y luego otra. Trata de definir el mayor número de funciones posibles. "
   ]
  },
  {
   "cell_type": "code",
   "execution_count": 69,
   "metadata": {},
   "outputs": [],
   "source": [
    "#your code here"
   ]
  },
  {
   "cell_type": "markdown",
   "metadata": {},
   "source": [
    "2. Programa, definiendo funciones, el juego **piedra, papel o tijera**. "
   ]
  },
  {
   "cell_type": "code",
   "execution_count": 70,
   "metadata": {},
   "outputs": [],
   "source": [
    "#your code here"
   ]
  },
  {
   "cell_type": "markdown",
   "metadata": {},
   "source": [
    "3. Haz un programa que, a partir de las strings `\"|\"` y `\"_\"`, muestre por pantalla un **tablero de ajedrez** 8x8. "
   ]
  },
  {
   "cell_type": "code",
   "execution_count": 71,
   "metadata": {},
   "outputs": [],
   "source": [
    "#your code here"
   ]
  },
  {
   "cell_type": "markdown",
   "metadata": {},
   "source": [
    "4. Haz un programa utilizando `while` que genere una **baraja de cartas** de 4 palos distintos. La baraja ha de tener 40 cartas. "
   ]
  },
  {
   "cell_type": "code",
   "execution_count": 72,
   "metadata": {},
   "outputs": [],
   "source": [
    "#your code here"
   ]
  },
  {
   "cell_type": "markdown",
   "metadata": {},
   "source": [
    "## Si has llegado hasta aquí, you are a **champion**"
   ]
  },
  {
   "cell_type": "markdown",
   "metadata": {},
   "source": [
    "![yay](https://media.giphy.com/media/l522kgooW2Qo9xtK5Z/giphy.gif)"
   ]
  },
  {
   "cell_type": "code",
   "execution_count": null,
   "metadata": {},
   "outputs": [],
   "source": []
  }
 ],
 "metadata": {
  "file_extension": ".py",
  "kernelspec": {
   "display_name": "Python 3",
   "language": "python",
   "name": "python3"
  },
  "language_info": {
   "codemirror_mode": {
    "name": "ipython",
    "version": 3
   },
   "file_extension": ".py",
   "mimetype": "text/x-python",
   "name": "python",
   "nbconvert_exporter": "python",
   "pygments_lexer": "ipython3",
   "version": "3.7.4-final"
  },
  "mimetype": "text/x-python",
  "name": "python",
  "npconvert_exporter": "python",
  "pygments_lexer": "ipython3",
  "version": 3
 },
 "nbformat": 4,
 "nbformat_minor": 4
}