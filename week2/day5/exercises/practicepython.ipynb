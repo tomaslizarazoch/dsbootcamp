{
 "cells": [
  {
   "cell_type": "markdown",
   "metadata": {},
   "source": [
    "#Create a program that asks the user to enter their name and their age. Print out a message addressed to them that tells them the year that they will turn 100 years old.\n",
    "\n",
    "#Extras:\n",
    "\n",
    "#Add on to the previous program by asking the user for another number and printing out that many copies of the previous message. (Hint: order of operations exists in Python)\n",
    "# Print out that many copies of the previous message on separate lines. (Hint: the string \"\\n is the same as pressing the ENTER button) \n",
    "\"\"\" preguntar \"\"\""
   ]
  },
  {
   "cell_type": "code",
   "execution_count": 7,
   "metadata": {
    "tags": []
   },
   "outputs": [
    {
     "output_type": "stream",
     "name": "stdout",
     "text": "Tomas \nyou will have 100 year at 2089\n"
    }
   ],
   "source": [
    "\n",
    "name = input('type your name')\n",
    "age = int(input('type your age:'))\n",
    "date = 2020\n",
    "\n",
    "date_100 = date + (100 - age)\n",
    "\n",
    "print(name , \"\\n\" 'you will have 100 year at', date_100)"
   ]
  },
  {
   "cell_type": "code",
   "execution_count": 35,
   "metadata": {
    "tags": []
   },
   "outputs": [
    {
     "output_type": "stream",
     "name": "stdout",
     "text": "('Tomas', 'you will have 100 year at', '2089', 'Tomas', 'you will have 100 year at', '2089')\n"
    }
   ],
   "source": [
    "name = input('type your name')\n",
    "age = int(input('type your age:'))\n",
    "number1 = int(input('type another number'))\n",
    "date = 2020\n",
    "\n",
    "date_100 = date + (100 - age)\n",
    "\n",
    "message = name ,'you will have 100 year at', str(date_100)\n",
    "\n",
    "print(message *  number1)\n"
   ]
  },
  {
   "cell_type": "markdown",
   "metadata": {},
   "source": [
    "Ask the user for a number. Depending on whether the number is even or odd, print out an appropriate message to the user. Hint: how does an even / odd number react differently when divided by 2?\n",
    "\n",
    "Extras:\n",
    "\n",
    "If the number is a multiple of 4, print out a different message.\n",
    "Ask the user for two numbers: one number to check (call it num) and one number to divide by (check). If check divides evenly into num, tell that to the user. If not, print a different appropriate message."
   ]
  },
  {
   "cell_type": "code",
   "execution_count": 49,
   "metadata": {
    "tags": []
   },
   "outputs": [
    {
     "output_type": "stream",
     "name": "stdout",
     "text": "2304 is a even number\n"
    }
   ],
   "source": [
    "number2 = int(input('type a number'))\n",
    "\n",
    "if number2 % 2 == 0:\n",
    "    print(number2 , \"is a even number\")\n",
    "else:\n",
    "    print(number2  , 'this is a odd Number')"
   ]
  },
  {
   "cell_type": "code",
   "execution_count": 55,
   "metadata": {
    "tags": []
   },
   "outputs": [
    {
     "output_type": "stream",
     "name": "stdout",
     "text": "is a odd number \nPaila\n"
    }
   ],
   "source": [
    "number2 = int(input('type a number'))\n",
    "number2_check = int(input('type a number to divide'))\n",
    "\n",
    "if number2 % 4 == 0:\n",
    "    print(number2 , \"is a multiple of 4\")\n",
    "elif number2 % 2 == 0:\n",
    "    print(number2  , ' is a even Number')\n",
    "else: \n",
    "    print('is a odd number ')\n",
    "\n",
    "if number2 % number2_check == 0:\n",
    "    print(number2, ' is divided by ', number2_check)\n",
    "else:\n",
    "    print('Paila')"
   ]
  },
  {
   "cell_type": "markdown",
   "metadata": {},
   "source": [
    "Take a list, say for example this one:\n",
    "\n",
    "  a = [1, 1, 2, 3, 5, 8, 13, 21, 34, 55, 89]\n",
    "and write a program that prints out all the elements of the list that are less than 5.\n",
    "\n",
    "Extras:\n",
    "\n",
    "Instead of printing the elements one by one, make a new list that has all the elements less than 5 from this list in it and print out this new list.\n",
    "Write this in one line of Python.\n",
    "Ask the user for a number and return a list that contains only elements from the original list a that are smaller than that number given by the user."
   ]
  },
  {
   "cell_type": "code",
   "execution_count": 70,
   "metadata": {
    "tags": []
   },
   "outputs": [
    {
     "output_type": "stream",
     "name": "stdout",
     "text": "[1, 1, 2, 3]\n"
    }
   ],
   "source": [
    "\n",
    "a = [1, 1, 2, 3, 5, 8, 13, 21, 34, 55, 89]\n",
    "\n",
    "a_list =[]\n",
    "for elem in a:\n",
    "    if elem < 5:\n",
    "        a_list.append(elem)\n",
    "print(a_list)"
   ]
  },
  {
   "cell_type": "code",
   "execution_count": 74,
   "metadata": {
    "tags": []
   },
   "outputs": [
    {
     "output_type": "execute_result",
     "data": {
      "text/plain": "[1, 1, 2, 3, 5, 8, 13, 21]"
     },
     "metadata": {},
     "execution_count": 74
    }
   ],
   "source": [
    "a_number = int(input('type a number'))\n",
    "\n",
    "user_list = []\n",
    "for elem in a:\n",
    "    if elem < a_number:\n",
    "        user_list.append(elem)\n",
    "user_list\n"
   ]
  },
  {
   "cell_type": "markdown",
   "metadata": {},
   "source": [
    "# Exercise 4\n",
    "\n",
    "Create a program that asks the user for a number and then prints out a list of all the divisors of that number. (If you don’t know what a divisor is, it is a number that divides evenly into another number. For example, 13 is a divisor of 26 because 26 / 13 has no remainder.)"
   ]
  },
  {
   "cell_type": "code",
   "execution_count": 92,
   "metadata": {
    "tags": []
   },
   "outputs": [
    {
     "output_type": "execute_result",
     "data": {
      "text/plain": "[1, 2, 5, 10]"
     },
     "metadata": {},
     "execution_count": 92
    }
   ],
   "source": [
    "num_4 = int(input('type a number'))             # number from user\n",
    "list_range_num_4 = list(range(1, num_4 + 1))    ## list of the user's number plus one to include it\n",
    "list_divisor_4 = []                             ### list of divisor numbers\n",
    "\n",
    "for elem in list_range_num_4:\n",
    "    if num_4 % elem == 0:\n",
    "        list_divisor_4.append(elem)\n",
    "\n",
    "list_divisor_4   "
   ]
  },
  {
   "cell_type": "markdown",
   "metadata": {},
   "source": [
    "# Exercise 5\n",
    "\n",
    "Take two lists, say for example these two:\n",
    "\n",
    "  a = [1, 1, 2, 3, 5, 8, 13, 21, 34, 55, 89]\n",
    "  b = [1, 2, 3, 4, 5, 6, 7, 8, 9, 10, 11, 12, 13]\n",
    "and write a program that returns a list that contains only the elements that are common between the lists (without duplicates). Make sure your program works on two lists of different sizes.\n",
    "\n",
    "Extras:\n",
    "\n",
    "Randomly generate two lists to test this\n",
    "Write this in one line of Python (don’t worry if you can’t figure this out at this point - we’ll get to it soon)"
   ]
  },
  {
   "cell_type": "code",
   "execution_count": 96,
   "metadata": {},
   "outputs": [
    {
     "output_type": "execute_result",
     "data": {
      "text/plain": "[1, 2, 3, 5, 8, 13]"
     },
     "metadata": {},
     "execution_count": 96
    }
   ],
   "source": [
    "a_5 = [1, 1, 2, 3, 5, 8, 13, 21, 34, 55, 89]\n",
    "b_5 = [1, 2, 3, 4, 5, 6, 7, 8, 9, 10, 11, 12, 13]\n",
    "c_5 = []\n",
    "for elem in b_5:\n",
    "    if elem in a_5: \n",
    "        c_5.append(elem)\n",
    "c_5\n",
    "\n"
   ]
  },
  {
   "cell_type": "code",
   "execution_count": 105,
   "metadata": {},
   "outputs": [
    {
     "output_type": "execute_result",
     "data": {
      "text/plain": "[3, 4]"
     },
     "metadata": {},
     "execution_count": 105
    }
   ],
   "source": [
    "d_5 = [1,2,3,4,4,4,4,4,4,4,4]\n",
    "e_5 = [12,12,3,4,5,7,8,9,10,11,14,15,156]\n",
    "f_5 = []\n",
    "\n",
    "for elem in d_5:\n",
    "    if elem in e_5 and elem not in f_5:\n",
    "        f_5.append(elem)\n",
    "    \n",
    "f_5\n",
    "\n",
    "\n",
    "\n"
   ]
  },
  {
   "cell_type": "code",
   "execution_count": null,
   "metadata": {},
   "outputs": [],
   "source": []
  },
  {
   "cell_type": "code",
   "execution_count": null,
   "metadata": {},
   "outputs": [],
   "source": []
  }
 ],
 "metadata": {
  "language_info": {
   "codemirror_mode": {
    "name": "ipython",
    "version": 3
   },
   "file_extension": ".py",
   "mimetype": "text/x-python",
   "name": "python",
   "nbconvert_exporter": "python",
   "pygments_lexer": "ipython3",
   "version": "3.7.4-final"
  },
  "orig_nbformat": 2,
  "kernelspec": {
   "name": "python37464bitbasecondaed52808596ad488483d8623928fe2dc4",
   "display_name": "Python 3.7.4 64-bit ('base': conda)"
  }
 },
 "nbformat": 4,
 "nbformat_minor": 2
}