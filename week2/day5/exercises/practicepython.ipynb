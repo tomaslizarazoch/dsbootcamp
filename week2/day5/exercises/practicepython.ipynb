{
 "cells": [
  {
   "cell_type": "markdown",
   "metadata": {},
   "source": [
    "#Create a program that asks the user to enter their name and their age. Print out a message addressed to them that tells them the year that they will turn 100 years old.\n",
    "\n",
    "#Extras:\n",
    "\n",
    "#Add on to the previous program by asking the user for another number and printing out that many copies of the previous message. (Hint: order of operations exists in Python)\n",
    "# Print out that many copies of the previous message on separate lines. (Hint: the string \"\\n is the same as pressing the ENTER button) \n",
    "\"\"\" preguntar \"\"\""
   ]
  },
  {
   "cell_type": "code",
   "execution_count": 7,
   "metadata": {
    "tags": []
   },
   "outputs": [
    {
     "output_type": "stream",
     "name": "stdout",
     "text": "Tomas \nyou will have 100 year at 2089\n"
    }
   ],
   "source": [
    "\n",
    "name = input('type your name')\n",
    "age = int(input('type your age:'))\n",
    "date = 2020\n",
    "\n",
    "date_100 = date + (100 - age)\n",
    "\n",
    "print(name , \"\\n\" 'you will have 100 year at', date_100)"
   ]
  },
  {
   "cell_type": "code",
   "execution_count": 35,
   "metadata": {
    "tags": []
   },
   "outputs": [
    {
     "output_type": "stream",
     "name": "stdout",
     "text": "('Tomas', 'you will have 100 year at', '2089', 'Tomas', 'you will have 100 year at', '2089')\n"
    }
   ],
   "source": [
    "name = input('type your name')\n",
    "age = int(input('type your age:'))\n",
    "number1 = int(input('type another number'))\n",
    "date = 2020\n",
    "\n",
    "date_100 = date + (100 - age)\n",
    "\n",
    "message = name ,'you will have 100 year at', str(date_100)\n",
    "\n",
    "print(message *  number1)\n"
   ]
  },
  {
   "cell_type": "markdown",
   "metadata": {},
   "source": [
    "Ask the user for a number. Depending on whether the number is even or odd, print out an appropriate message to the user. Hint: how does an even / odd number react differently when divided by 2?\n",
    "\n",
    "Extras:\n",
    "\n",
    "If the number is a multiple of 4, print out a different message.\n",
    "Ask the user for two numbers: one number to check (call it num) and one number to divide by (check). If check divides evenly into num, tell that to the user. If not, print a different appropriate message."
   ]
  },
  {
   "cell_type": "code",
   "execution_count": 49,
   "metadata": {
    "tags": []
   },
   "outputs": [
    {
     "output_type": "stream",
     "name": "stdout",
     "text": "2304 is a even number\n"
    }
   ],
   "source": [
    "number2 = int(input('type a number'))\n",
    "\n",
    "if number2 % 2 == 0:\n",
    "    print(number2 , \"is a even number\")\n",
    "else:\n",
    "    print(number2  , 'this is a odd Number')"
   ]
  },
  {
   "cell_type": "code",
   "execution_count": 55,
   "metadata": {
    "tags": []
   },
   "outputs": [
    {
     "output_type": "stream",
     "name": "stdout",
     "text": "is a odd number \nPaila\n"
    }
   ],
   "source": [
    "number2 = int(input('type a number'))\n",
    "number2_check = int(input('type a number to divide'))\n",
    "\n",
    "if number2 % 4 == 0:\n",
    "    print(number2 , \"is a multiple of 4\")\n",
    "elif number2 % 2 == 0:\n",
    "    print(number2  , ' is a even Number')\n",
    "else: \n",
    "    print('is a odd number ')\n",
    "\n",
    "if number2 % number2_check == 0:\n",
    "    print(number2, ' is divided by ', number2_check)\n",
    "else:\n",
    "    print('Paila')"
   ]
  },
  {
   "cell_type": "markdown",
   "metadata": {},
   "source": [
    "Take a list, say for example this one:\n",
    "\n",
    "  a = [1, 1, 2, 3, 5, 8, 13, 21, 34, 55, 89]\n",
    "and write a program that prints out all the elements of the list that are less than 5.\n",
    "\n",
    "Extras:\n",
    "\n",
    "Instead of printing the elements one by one, make a new list that has all the elements less than 5 from this list in it and print out this new list.\n",
    "Write this in one line of Python.\n",
    "Ask the user for a number and return a list that contains only elements from the original list a that are smaller than that number given by the user."
   ]
  },
  {
   "cell_type": "code",
   "execution_count": 70,
   "metadata": {
    "tags": []
   },
   "outputs": [
    {
     "output_type": "stream",
     "name": "stdout",
     "text": "[1, 1, 2, 3]\n"
    }
   ],
   "source": [
    "\n",
    "a = [1, 1, 2, 3, 5, 8, 13, 21, 34, 55, 89]\n",
    "\n",
    "a_list =[]\n",
    "for elem in a:\n",
    "    if elem < 5:\n",
    "        a_list.append(elem)\n",
    "print(a_list)"
   ]
  },
  {
   "cell_type": "code",
   "execution_count": 74,
   "metadata": {
    "tags": []
   },
   "outputs": [
    {
     "output_type": "execute_result",
     "data": {
      "text/plain": "[1, 1, 2, 3, 5, 8, 13, 21]"
     },
     "metadata": {},
     "execution_count": 74
    }
   ],
   "source": [
    "a_number = int(input('type a number'))\n",
    "\n",
    "user_list = []\n",
    "for elem in a:\n",
    "    if elem < a_number:\n",
    "        user_list.append(elem)\n",
    "user_list\n"
   ]
  },
  {
   "cell_type": "markdown",
   "metadata": {},
   "source": [
    "# Exercise 4\n",
    "\n",
    "Create a program that asks the user for a number and then prints out a list of all the divisors of that number. (If you don’t know what a divisor is, it is a number that divides evenly into another number. For example, 13 is a divisor of 26 because 26 / 13 has no remainder.)"
   ]
  },
  {
   "cell_type": "code",
   "execution_count": 92,
   "metadata": {
    "tags": []
   },
   "outputs": [
    {
     "output_type": "execute_result",
     "data": {
      "text/plain": "[1, 2, 5, 10]"
     },
     "metadata": {},
     "execution_count": 92
    }
   ],
   "source": [
    "num_4 = int(input('type a number'))             # number from user\n",
    "list_range_num_4 = list(range(1, num_4 + 1))    ## list of the user's number plus one to include it\n",
    "list_divisor_4 = []                             ### list of divisor numbers\n",
    "\n",
    "for elem in list_range_num_4:\n",
    "    if num_4 % elem == 0:\n",
    "        list_divisor_4.append(elem)\n",
    "\n",
    "list_divisor_4   "
   ]
  },
  {
   "cell_type": "markdown",
   "metadata": {},
   "source": [
    "# Exercise 5\n",
    "\n",
    "Take two lists, say for example these two:\n",
    "\n",
    "  a = [1, 1, 2, 3, 5, 8, 13, 21, 34, 55, 89]\n",
    "  b = [1, 2, 3, 4, 5, 6, 7, 8, 9, 10, 11, 12, 13]\n",
    "and write a program that returns a list that contains only the elements that are common between the lists (without duplicates). Make sure your program works on two lists of different sizes.\n",
    "\n",
    "Extras:\n",
    "\n",
    "Randomly generate two lists to test this\n",
    "Write this in one line of Python (don’t worry if you can’t figure this out at this point - we’ll get to it soon)"
   ]
  },
  {
   "cell_type": "code",
   "execution_count": 96,
   "metadata": {},
   "outputs": [
    {
     "output_type": "execute_result",
     "data": {
      "text/plain": "[1, 2, 3, 5, 8, 13]"
     },
     "metadata": {},
     "execution_count": 96
    }
   ],
   "source": [
    "a_5 = [1, 1, 2, 3, 5, 8, 13, 21, 34, 55, 89]\n",
    "b_5 = [1, 2, 3, 4, 5, 6, 7, 8, 9, 10, 11, 12, 13]\n",
    "c_5 = []\n",
    "for elem in b_5:\n",
    "    if elem in a_5: \n",
    "        c_5.append(elem)\n",
    "c_5\n",
    "\n"
   ]
  },
  {
   "cell_type": "code",
   "execution_count": 105,
   "metadata": {},
   "outputs": [
    {
     "output_type": "execute_result",
     "data": {
      "text/plain": "[3, 4]"
     },
     "metadata": {},
     "execution_count": 105
    }
   ],
   "source": [
    "d_5 = [1,2,3,4,4,4,4,4,4,4,4]\n",
    "e_5 = [12,12,3,4,5,7,8,9,10,11,14,15,156]\n",
    "f_5 = []\n",
    "\n",
    "for elem in d_5:\n",
    "    if elem in e_5 and elem not in f_5:\n",
    "        f_5.append(elem)\n",
    "    \n",
    "f_5\n",
    "\n",
    "\n",
    "\n"
   ]
  },
  {
   "cell_type": "markdown",
   "metadata": {},
   "source": [
    "# Exercise 6 \n",
    "\n",
    "Ask the user for a string and print out whether this string is a palindrome or not. (A palindrome is a string that reads the same forwards and backwards.)"
   ]
  },
  {
   "cell_type": "code",
   "execution_count": 32,
   "metadata": {
    "tags": []
   },
   "outputs": [
    {
     "output_type": "stream",
     "name": "stdout",
     "text": "is palindrome\n"
    }
   ],
   "source": [
    "word_6 = input('type a word')\n",
    "\n",
    "if word_6 == word_6[::-1]:\n",
    "    print('is palindrome')\n",
    "else:\n",
    "    print('not a palindrome')\n",
    "\n"
   ]
  },
  {
   "cell_type": "markdown",
   "metadata": {},
   "source": [
    "# Exercise 7\n",
    "\n",
    "Let’s say I give you a list saved in a variable: a = [1, 4, 9, 16, 25, 36, 49, 64, 81, 100]. Write one line of Python that takes this list a and makes a new list that has only the even elements of this list in it."
   ]
  },
  {
   "cell_type": "code",
   "execution_count": 37,
   "metadata": {},
   "outputs": [
    {
     "output_type": "execute_result",
     "data": {
      "text/plain": "[4, 16, 36, 64, 100]"
     },
     "metadata": {},
     "execution_count": 37
    }
   ],
   "source": [
    "a_7 = [1, 4, 9, 16, 25, 36, 49, 64, 81, 100]\n",
    "\n",
    "even_list = [ x  for x in a_7 if x % 2 == 0]\n",
    "even_list"
   ]
  },
  {
   "cell_type": "markdown",
   "metadata": {},
   "source": [
    "# Exercise 8\n",
    "\n",
    "Make a two-player Rock-Paper-Scissors game. (Hint: Ask for player plays (using input), compare them, print out a message of congratulations to the winner, and ask if the players want to start a new game)\n",
    "\n",
    "Remember the rules:\n",
    "\n",
    "Rock beats scissors\n",
    "Scissors beats paper\n",
    "Paper beats rock"
   ]
  },
  {
   "cell_type": "code",
   "execution_count": 1,
   "metadata": {
    "tags": []
   },
   "outputs": [
    {
     "output_type": "stream",
     "name": "stdout",
     "text": "play again\nplay again\nplayer 2 Wins\n"
    }
   ],
   "source": [
    "while True:\n",
    "        player_1 = input('chose rock, paper or scissors')\n",
    "\n",
    "        player_2 = input('chose rock, paper or scissors')\n",
    "\n",
    "        if player_1 == 'rock'  and player_2 == 'rock':\n",
    "             print('play again')\n",
    "             continue\n",
    "        elif player_1 == 'paper' and player_2 == 'paper':\n",
    "             print('play again')\n",
    "             continue\n",
    "        elif player_1 == 'scissors'and player_2 == 'scissors':\n",
    "             print('play again')    \n",
    "             continue \n",
    "        elif player_1 == 'rock' and player_2 == 'scissors':\n",
    "            print('player 1 Wins')\n",
    "        elif player_1 == 'scissors' and player_2 == 'paper':\n",
    "            print('player 1 Wins')   \n",
    "        elif player_1 == 'paper' and player_2 == 'rock':\n",
    "            print('player 1 Wins')   \n",
    "        elif player_2 == 'rock' and player_1 == 'scissors':\n",
    "            print('player 2 Wins')\n",
    "        elif player_2 == 'scissors' and player_1 == 'paper':\n",
    "            print('player 2 Wins')   \n",
    "        elif player_2 == 'paper' and player_1 == 'rock':\n",
    "         print('player 2 Wins') \n",
    "        break"
   ]
  },
  {
   "cell_type": "markdown",
   "metadata": {},
   "source": [
    "# exercise 9\n",
    "\n",
    "Generate a random number between 1 and 9 (including 1 and 9). Ask the user to guess the number, then tell them whether they guessed too low, too high, or exactly right. (Hint: remember to use the user input lessons from the very first exercise)\n",
    "\n",
    "Extras:\n",
    "\n",
    "Keep the game going until the user types “exit”\n",
    "Keep track of how many guesses the user has taken, and when the game ends, print this out."
   ]
  },
  {
   "cell_type": "code",
   "execution_count": 9,
   "metadata": {
    "tags": []
   },
   "outputs": [
    {
     "output_type": "stream",
     "name": "stdout",
     "text": "too low\ntoo low\ntoo low\ntoo low\ntoo low\nlucky one!!!\n"
    }
   ],
   "source": [
    "import random\n",
    "number_9 = random.randint(1,9)\n",
    "guess_number = 0\n",
    "\n",
    "while number_9 != guess_number:\n",
    "    guess_number = int(input('type a number between 1 and 9'))\n",
    "    \n",
    "    if number_9 == guess_number:\n",
    "        print('lucky one!!!')\n",
    "        break\n",
    "    elif number_9 > guess_number:\n",
    "            print('too low')\n",
    " \n",
    "    elif number_9 < guess_number:\n",
    "            print('too high')\n",
    "\n"
   ]
  },
  {
   "cell_type": "markdown",
   "metadata": {},
   "source": [
    "# Exercise 10\n",
    "Take two lists, say for example these two:\n",
    "\n",
    "\ta = [1, 1, 2, 3, 5, 8, 13, 21, 34, 55, 89]\n",
    "\tb = [1, 2, 3, 4, 5, 6, 7, 8, 9, 10, 11, 12, 13]\n",
    "and write a program that returns a list that contains only the elements that are common between the lists (without duplicates). Make sure your program works on two lists of different sizes. Write this in one line of Python using at least one list comprehension. (Hint: Remember list comprehensions from Exercise 7)."
   ]
  },
  {
   "cell_type": "code",
   "execution_count": 52,
   "metadata": {},
   "outputs": [
    {
     "output_type": "execute_result",
     "data": {
      "text/plain": "[1, 1, 2, 3, 5, 8, 13]"
     },
     "metadata": {},
     "execution_count": 52
    }
   ],
   "source": [
    "a = [1, 1, 2, 3, 5, 8, 13, 21, 34, 55, 89]\n",
    "b = [1, 2, 3, 4, 5, 6, 7, 8, 9, 10, 11, 12, 13]\n",
    "\n",
    "list_10 = [x for x in a if x in b]\n",
    "\n",
    "list_10"
   ]
  },
  {
   "cell_type": "code",
   "execution_count": null,
   "metadata": {},
   "outputs": [],
   "source": []
  },
  {
   "cell_type": "markdown",
   "metadata": {},
   "source": [
    "# exercise 11\n",
    "\n",
    "Ask the user for a number and determine whether the number is prime or not. (For those who have forgotten, a prime number is a number that has no divisors.). You can (and should!) use your answer to Exercise 4 to help you. Take this opportunity to practice using functions, described below."
   ]
  },
  {
   "cell_type": "code",
   "execution_count": 135,
   "metadata": {
    "tags": []
   },
   "outputs": [
    {
     "output_type": "stream",
     "name": "stdout",
     "text": "2 primo\n4 primo\n"
    }
   ],
   "source": [
    "number = int(input(\"number\"))\n",
    "def prime_or_not(number):\n",
    "    \n",
    "\n",
    "    for elem in range(2, number + 1):\n",
    "        if number % elem == 0:\n",
    "            print(elem , 'primo')\n",
    "        \n",
    "            \n",
    "    \n",
    "prime_or_not(number)\n",
    "\n",
    "\n",
    "\n",
    "\n",
    "    "
   ]
  },
  {
   "cell_type": "code",
   "execution_count": 125,
   "metadata": {
    "tags": []
   },
   "outputs": [
    {
     "output_type": "stream",
     "name": "stdout",
     "text": "<class 'function'>\n17\n"
    }
   ],
   "source": [
    "def type_number(num):\n",
    "    num = int(input('type a number'))\n",
    "    return num\n",
    "x_11 = type_number(num)\n",
    "print(type(type_number))\n",
    "print(x_11)"
   ]
  },
  {
   "cell_type": "code",
   "execution_count": 129,
   "metadata": {},
   "outputs": [
    {
     "output_type": "execute_result",
     "data": {
      "text/plain": "False"
     },
     "metadata": {},
     "execution_count": 129
    }
   ],
   "source": [
    "def is_prime(num):\n",
    "    if num < 1: \n",
    "        return False\n",
    "    elif num == 2:\n",
    "        return True\n",
    "    else:\n",
    "        for i in range(2, num):\n",
    "            if num % i == 0:\n",
    "                return False \n",
    "        return True\n",
    "is_prime(num = type_number(num))"
   ]
  },
  {
   "cell_type": "code",
   "execution_count": 130,
   "metadata": {
    "tags": []
   },
   "outputs": [
    {
     "output_type": "stream",
     "name": "stdout",
     "text": "[]\n0\nprime\n"
    }
   ],
   "source": [
    "num = int(input('Insert a number: '))\n",
    "a = [x for x in range(2, num) if num % x == 0]\n",
    "\n",
    "\n",
    "def is_prime(n):\n",
    "\tif num > 1:\n",
    "\t\tif len(a) == 0:\n",
    "\t\t\tprint('prime')\n",
    "\t\telse:\n",
    "\t\t\tprint ('NOT prime')\n",
    "\telse:\n",
    "\t\tprint ('NOT prime')\n",
    "\t\n",
    "is_prime(num)"
   ]
  },
  {
   "cell_type": "code",
   "execution_count": 102,
   "metadata": {
    "tags": []
   },
   "outputs": [
    {
     "output_type": "stream",
     "name": "stdout",
     "text": "[]\n0\n"
    }
   ],
   "source": [
    "n"
   ]
  },
  {
   "cell_type": "markdown",
   "metadata": {},
   "source": [
    "# exercise 12\n",
    "\n",
    "Write a program that takes a list of numbers (for example, a = [5, 10, 15, 20, 25]) and makes a new list of only the first and last elements of the given list. For practice, write this code inside a function."
   ]
  },
  {
   "cell_type": "code",
   "execution_count": 10,
   "metadata": {},
   "outputs": [
    {
     "output_type": "execute_result",
     "data": {
      "text/plain": "[5, 25]"
     },
     "metadata": {},
     "execution_count": 10
    }
   ],
   "source": [
    "a_12 =[5, 10, 15, 20, 25] \n",
    "def f_12 (list):      ### return first and las element of the list\n",
    "\n",
    "    return [list[0], list[len(list)-1]]\n",
    "\n",
    "fun12 = f_12(list = a_12)\n",
    "fun12\n"
   ]
  },
  {
   "cell_type": "markdown",
   "metadata": {},
   "source": [
    "# Exercise 13\n",
    "\n",
    "Write a program that asks the user how many Fibonnaci numbers to generate and then generates them. Take this opportunity to think about how you can use functions. Make sure to ask the user to enter the number of numbers in the sequence to generate.(Hint: The Fibonnaci seqence is a sequence of numbers where the next number in the sequence is the sum of the previous two numbers in the sequence. The sequence looks like this: 1, 1, 2, 3, 5, 8, 13, …)"
   ]
  },
  {
   "cell_type": "markdown",
   "metadata": {
    "tags": [
     "outputPrepend"
    ]
   },
   "source": [
    "def fibonnaci_13():\n",
    "    length_list = 3\n",
    "    number = 4\n",
    "\n",
    "    list_fibonaci = []\n",
    "        \n",
    "    while len(list_fibonaci) != length_list:\n",
    "            list_fibonaci.append(number)\n",
    "            print(list_fibonaci)\n",
    "            number = number + number\n",
    "            list_fibonaci.append(number)\n",
    "            if len(list_fibonaci) == length_list:\n",
    "                return list_fibonaci\n",
    "\n",
    "\n"
   ]
  },
  {
   "cell_type": "code",
   "execution_count": 2,
   "metadata": {},
   "outputs": [
    {
     "output_type": "execute_result",
     "data": {
      "text/plain": "[1, 1, 2, 3, 5]"
     },
     "metadata": {},
     "execution_count": 2
    }
   ],
   "source": [
    "def gen_fib():\n",
    "    count = int(input(\"How many fibonacci numbers would you like to generate? \"))\n",
    "    i = 1\n",
    "    if count == 0:\n",
    "        fib = []\n",
    "    elif count == 1:\n",
    "        fib = [1]\n",
    "    elif count == 2:\n",
    "        fib = [1,1]\n",
    "    elif count > 2:\n",
    "        fib = [1,1]\n",
    "        while i < (count - 1):\n",
    "            fib.append(fib[i] + fib[i-1])\n",
    "            i += 1\n",
    "\n",
    "    return fib\n",
    "\n",
    "gen_fib()"
   ]
  },
  {
   "cell_type": "markdown",
   "metadata": {},
   "source": [
    "# Exercise 14\n",
    "\n",
    "Write a program (function!) that takes a list and returns a new list that contains all the elements of the first list minus all the duplicates."
   ]
  },
  {
   "cell_type": "code",
   "execution_count": 6,
   "metadata": {},
   "outputs": [
    {
     "output_type": "execute_result",
     "data": {
      "text/plain": "[1, 2, 3, 4, 5]"
     },
     "metadata": {},
     "execution_count": 6
    }
   ],
   "source": [
    "rep = [1,1,2,2,3,3,4,5]\n",
    "\n",
    "def f_14(i):\n",
    "    return list(set(i))\n",
    "rep_1 = f_14 ( i = rep)\n",
    "rep_1\n"
   ]
  },
  {
   "cell_type": "code",
   "execution_count": 8,
   "metadata": {
    "tags": []
   },
   "outputs": [
    {
     "output_type": "stream",
     "name": "stdout",
     "text": "{1, 2, 3, 4, 5}\n"
    },
    {
     "output_type": "execute_result",
     "data": {
      "text/plain": "[1, 2, 3, 4, 5]"
     },
     "metadata": {},
     "execution_count": 8
    }
   ],
   "source": [
    "rep = [1,1,2,2,3,3,4,5]\n",
    "\n",
    "rep = set(rep)\n",
    "print(rep)\n",
    "rep = list(rep)\n",
    "rep"
   ]
  },
  {
   "cell_type": "markdown",
   "metadata": {},
   "source": [
    "## exercise 15\n",
    "\n",
    "Write a program (using functions!) that asks the user for a long string containing multiple words. Print back to the user the same string, except with the words in backwards order. For example, say I type the string:\n",
    "\n",
    "  My name is Michele\n",
    "\n",
    "Then I would see the string:\n",
    "\n",
    "  Michele is name My\n",
    "  \n",
    "shown back to me."
   ]
  },
  {
   "cell_type": "code",
   "execution_count": 9,
   "metadata": {},
   "outputs": [
    {
     "output_type": "execute_result",
     "data": {
      "text/plain": "'elehciM si eman yM'"
     },
     "metadata": {},
     "execution_count": 9
    }
   ],
   "source": [
    "word_15 = 'My name is Michele'\n",
    "\n",
    "word_15_b = word_15[::-1]\n",
    "word_15_b"
   ]
  },
  {
   "cell_type": "code",
   "execution_count": 23,
   "metadata": {
    "tags": []
   },
   "outputs": [
    {
     "output_type": "stream",
     "name": "stdout",
     "text": "['My', 'name', 'is', 'Michele']\n['Michele', 'is', 'name', 'My']\n"
    },
    {
     "output_type": "execute_result",
     "data": {
      "text/plain": "['Michele', 'is', 'name', 'My']"
     },
     "metadata": {},
     "execution_count": 23
    }
   ],
   "source": [
    "word_15 = 'My name is Michele'\n",
    "word_15_b = word_15.split()\n",
    "print(word_15_b)\n",
    "print(word_15_b[::-1])\n"
   ]
  },
  {
   "cell_type": "code",
   "execution_count": 24,
   "metadata": {},
   "outputs": [
    {
     "output_type": "execute_result",
     "data": {
      "text/plain": "['Tomas', 'is', 'name', 'My']"
     },
     "metadata": {},
     "execution_count": 24
    }
   ],
   "source": [
    "def f_15():\n",
    "    x = input('type a message')\n",
    "    h = x.split()\n",
    "    h = h[::-1]\n",
    "    return h\n",
    "\n",
    "message_reverse = f_15()\n",
    "message_reverse"
   ]
  },
  {
   "cell_type": "markdown",
   "metadata": {},
   "source": [
    "## Exercise 16\n",
    "\n",
    "Write a password generator in Python. Be creative with how you generate passwords - strong passwords have a mix of lowercase letters, uppercase letters, numbers, and symbols. The passwords should be random, generating a new password every time the user asks for a new password. Include your run-time code in a main method."
   ]
  },
  {
   "cell_type": "code",
   "execution_count": null,
   "metadata": {},
   "outputs": [],
   "source": [
    "''''ni puta idea '''\n"
   ]
  },
  {
   "cell_type": "markdown",
   "metadata": {},
   "source": [
    "# Exercise 18\n",
    "\n",
    "Create a program that will play the “cows and bulls” game with the user. The game works like this:\n",
    "\n",
    "Randomly generate a 4-digit number. Ask the user to guess a 4-digit number. For every digit that the user guessed correctly in the correct place, they have a “cow”. For every digit the user guessed correctly in the wrong place is a “bull.” Every time the user makes a guess, tell them how many “cows” and “bulls” they have. Once the user guesses the correct number, the game is over. Keep track of the number of guesses the user makes throughout teh game and tell the user at the end."
   ]
  },
  {
   "cell_type": "code",
   "execution_count": 3,
   "metadata": {
    "tags": []
   },
   "outputs": [
    {
     "output_type": "stream",
     "name": "stdout",
     "text": "Cows: 2\nBulls: 0\nCows: 1\nBulls: 1\nCows: 4\nBulls: 0\n"
    }
   ],
   "source": [
    "number = '1038'\n",
    "\n",
    "answer = '1253'\n",
    "\n",
    "\n",
    "cows_acum = 0\n",
    "\n",
    "attemps = 0\n",
    "while cows_acum < 4:\n",
    "    cows_acum = 0\n",
    "    bulls_acum = 0\n",
    "    answer = input('insert a number')\n",
    "    if answer.isnumeric() and len(answer) == 4:\n",
    "        for pos, num in enumerate(number):\n",
    "            if num == answer[pos]:\n",
    "                cows_acum += 1\n",
    "            elif num in answer:\n",
    "                bulls_acum +=1\n",
    "\n",
    "        \n",
    "        print('your number', answer)\n",
    "        print('Cows:' , cows_acum)\n",
    "        print('Bulls:', bulls_acum)\n",
    "    elif answer == 'stop':\n",
    "        print('Booo')\n",
    "        break\n",
    "attemps += 1\n"
   ]
  },
  {
   "cell_type": "code",
   "execution_count": null,
   "metadata": {},
   "outputs": [],
   "source": []
  }
 ],
 "metadata": {
  "language_info": {
   "codemirror_mode": {
    "name": "ipython",
    "version": 3
   },
   "file_extension": ".py",
   "mimetype": "text/x-python",
   "name": "python",
   "nbconvert_exporter": "python",
   "pygments_lexer": "ipython3",
   "version": "3.7.4-final"
  },
  "orig_nbformat": 2,
  "kernelspec": {
   "name": "python37464bitbasecondaed52808596ad488483d8623928fe2dc4",
   "display_name": "Python 3.7.4 64-bit ('base': conda)"
  }
 },
 "nbformat": 4,
 "nbformat_minor": 2
}